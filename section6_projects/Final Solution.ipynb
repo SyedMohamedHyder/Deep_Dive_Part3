{
 "cells": [
  {
   "cell_type": "code",
   "execution_count": 99,
   "id": "unlimited-setup",
   "metadata": {},
   "outputs": [],
   "source": [
    "template = {\n",
    "    'user_id': int,\n",
    "    'name': {\n",
    "        'first': str,\n",
    "        'last': str\n",
    "    },\n",
    "    'bio': {\n",
    "        'dob': {\n",
    "            'year': int,\n",
    "            'month': int,\n",
    "            'day': int\n",
    "        },\n",
    "        'birthplace': {\n",
    "            'country': str,\n",
    "            'city': str\n",
    "        }\n",
    "    }\n",
    "}\n",
    "\n",
    "john = {\n",
    "    'user_id': 100,\n",
    "    'name': {\n",
    "        'first': 'John',\n",
    "        'last': 'Cleese'\n",
    "    },\n",
    "    'bio': {\n",
    "        'dob': {\n",
    "            'year': 1939,\n",
    "            'month': 11,\n",
    "            'day': 27\n",
    "        },\n",
    "        'birthplace': {\n",
    "            'country': 'United Kingdom',\n",
    "            'city': 'Weston-super-Mare'\n",
    "        }\n",
    "    }\n",
    "}\n",
    "\n",
    "eric = {\n",
    "    'user_id': 101,\n",
    "    'name': {\n",
    "        'first': 'Eric',\n",
    "        'last': 'Idle'\n",
    "    },\n",
    "    'bio': {\n",
    "        'dob': {\n",
    "            'year': 1943,\n",
    "            'month': 3,\n",
    "            'day': 29\n",
    "        },\n",
    "        'birthplace': {\n",
    "            'country': 'United Kingdom'\n",
    "        }\n",
    "    }\n",
    "}\n",
    "\n",
    "michael = {\n",
    "    'user_id': 102,\n",
    "    'name': {\n",
    "        'first': 'Michael',\n",
    "        'last': 'Palin'\n",
    "    },\n",
    "    'bio': {\n",
    "        'dob': {\n",
    "            'year': 1943,\n",
    "            'month': 'May',\n",
    "            'day': 5\n",
    "        },\n",
    "        'birthplace': {\n",
    "            'country': 'United Kingdom',\n",
    "            'city': 'Sheffield'\n",
    "        }\n",
    "    }\n",
    "}\n",
    "\n",
    "hyder = {\n",
    "    'user_id': 102,\n",
    "    'name': {\n",
    "        'first': 'Michael',\n",
    "        'last': 'Palin'\n",
    "    },\n",
    "    'bio': {\n",
    "        'dob': {\n",
    "            'year': 1943,\n",
    "            'month': 'May',\n",
    "        },\n",
    "        'birthplace': {\n",
    "            'country': 'United Kingdom',\n",
    "            'city': 'Sheffield'\n",
    "        }\n",
    "    }\n",
    "}"
   ]
  },
  {
   "cell_type": "code",
   "execution_count": 21,
   "id": "disturbed-seating",
   "metadata": {},
   "outputs": [],
   "source": [
    "def match_keys(data, template, path):\n",
    "    \n",
    "    data_keys = data.keys()\n",
    "    template_keys = template.keys()\n",
    "    \n",
    "    missing_keys = template_keys - data_keys\n",
    "    extra_keys = data_keys - template_keys\n",
    "    \n",
    "    if missing_keys or extra_keys:\n",
    "        \n",
    "        missing_message = 'Missing Keys : ' + ', '.join(path + '.' + str(key) \n",
    "                                                     for key in missing_keys) if missing_keys else ''\n",
    "        \n",
    "        extra_message = 'Extra Keys : ' + ', '.join(path + '.' + str(key) \n",
    "                                                     for key in extra_keys) if extra_keys else ''\n",
    "        \n",
    "        error_msg = (f'{missing_message}\\n{extra_message}' if (missing_message \n",
    "                                                              and extra_message) \n",
    "                     else missing_message or extra_message)\n",
    "        \n",
    "        return False, error_msg\n",
    "    \n",
    "    else:\n",
    "        return True, None"
   ]
  },
  {
   "cell_type": "code",
   "execution_count": 22,
   "id": "younger-disabled",
   "metadata": {},
   "outputs": [],
   "source": [
    "template = dict.fromkeys('abcd', None)\n",
    "path = 'root'"
   ]
  },
  {
   "cell_type": "code",
   "execution_count": 23,
   "id": "reserved-ottawa",
   "metadata": {},
   "outputs": [],
   "source": [
    "d1 = dict.fromkeys('abcd', None)\n",
    "d2 = dict.fromkeys('abc', None)\n",
    "d3 = dict.fromkeys('abcde', None)\n",
    "d4 = dict.fromkeys('abef', None)"
   ]
  },
  {
   "cell_type": "code",
   "execution_count": 24,
   "id": "champion-stations",
   "metadata": {
    "scrolled": true
   },
   "outputs": [
    {
     "data": {
      "text/plain": [
       "[(True, None),\n",
       " (False, 'Missing Keys : root.d'),\n",
       " (False, 'Extra Keys : root.e'),\n",
       " (False, 'Missing Keys : root.d, root.c\\nExtra Keys : root.e, root.f')]"
      ]
     },
     "execution_count": 24,
     "metadata": {},
     "output_type": "execute_result"
    }
   ],
   "source": [
    "list(map(match_keys, (d1, d2, d3, d4), (template,)*4, (path,)*4))"
   ]
  },
  {
   "cell_type": "code",
   "execution_count": 44,
   "id": "tracked-dynamics",
   "metadata": {},
   "outputs": [],
   "source": [
    "def match_types(data, template, path):\n",
    "    for key, value in template.items():\n",
    "        if isinstance(value, dict):\n",
    "            value = dict\n",
    "        data_value = data[key]\n",
    "        if not isinstance(data_value, value):\n",
    "            error_msg = ('Mismatched type : ' + path + '.' + \n",
    "                         str(key) + ' expected -> ' + value.__name__ + \n",
    "                         ' recieved -> ' + type(data_value).__name__)\n",
    "            return False, error_msg\n",
    "    else:\n",
    "        return True, None"
   ]
  },
  {
   "cell_type": "code",
   "execution_count": 47,
   "id": "owned-omega",
   "metadata": {},
   "outputs": [],
   "source": [
    "template = dict(zip('abcd', (int, str, str, dict)))\n",
    "path = 'root'\n",
    "d1 = dict(zip('abcd', (1, 'hello', 'world', {'a':1, 'b':2, 'c':3})))\n",
    "d2 = dict(zip('abcd', ('a', 'hello', 'world', {'a':1, 'b':2, 'c':3})))\n",
    "d3 = dict(zip('abcd', (1, 'hello', 100.00, {'a':1, 'b':2, 'c':3})))\n",
    "d4 = dict(zip('abcd', (1, 'hello', 'world', 'Wrong')))\n",
    "d5 = dict(zip('abcd', (1, 100, 'world', 'Wrong')))"
   ]
  },
  {
   "cell_type": "code",
   "execution_count": 48,
   "id": "engaged-institution",
   "metadata": {},
   "outputs": [
    {
     "data": {
      "text/plain": [
       "[(True, None),\n",
       " (False, 'Mismatched type : root.a expected -> int recieved -> str'),\n",
       " (False, 'Mismatched type : root.c expected -> str recieved -> float'),\n",
       " (False, 'Mismatched type : root.d expected -> dict recieved -> str'),\n",
       " (False, 'Mismatched type : root.b expected -> str recieved -> int')]"
      ]
     },
     "execution_count": 48,
     "metadata": {},
     "output_type": "execute_result"
    }
   ],
   "source": [
    "list(map(match_types, (d1, d2, d3, d4, d5), (template,)*5, (path,)*5))"
   ]
  },
  {
   "cell_type": "code",
   "execution_count": 94,
   "id": "built-louisville",
   "metadata": {},
   "outputs": [],
   "source": [
    "def recursive_validate(data, template, path):\n",
    "    is_ok, error_msg = match_keys(data, template, path)\n",
    "    if not is_ok:\n",
    "        return False, error_msg\n",
    "    \n",
    "    is_ok, error_msg = match_types(data, template, path)\n",
    "    if not is_ok:\n",
    "        return False, error_msg\n",
    "    \n",
    "    dict_valued_keys = (key for key, value in template.items() if isinstance(value, dict))\n",
    "    \n",
    "    for key in dict_valued_keys:\n",
    "        sub_template = template[key]\n",
    "        sub_data = data[key]\n",
    "        sub_path = path + '.' + key\n",
    "        is_ok, error_msg = recursive_validate(sub_data, sub_template, sub_path)\n",
    "        if not is_ok:\n",
    "            return False, error_msg\n",
    "    else:\n",
    "        return True, None"
   ]
  },
  {
   "cell_type": "code",
   "execution_count": 95,
   "id": "after-sight",
   "metadata": {},
   "outputs": [],
   "source": [
    "path = ''"
   ]
  },
  {
   "cell_type": "code",
   "execution_count": 96,
   "id": "plastic-wedding",
   "metadata": {
    "scrolled": true
   },
   "outputs": [
    {
     "data": {
      "text/plain": [
       "(True, None)"
      ]
     },
     "execution_count": 96,
     "metadata": {},
     "output_type": "execute_result"
    }
   ],
   "source": [
    "recursive_validate(john, template, path)"
   ]
  },
  {
   "cell_type": "code",
   "execution_count": 97,
   "id": "pediatric-secretariat",
   "metadata": {},
   "outputs": [
    {
     "data": {
      "text/plain": [
       "(False, 'Missing Keys : .bio.birthplace.city')"
      ]
     },
     "execution_count": 97,
     "metadata": {},
     "output_type": "execute_result"
    }
   ],
   "source": [
    "recursive_validate(eric, template, path)"
   ]
  },
  {
   "cell_type": "code",
   "execution_count": 98,
   "id": "numeric-seventh",
   "metadata": {},
   "outputs": [
    {
     "data": {
      "text/plain": [
       "(False, 'Mismatched type : .bio.dob.month expected -> int recieved -> str')"
      ]
     },
     "execution_count": 98,
     "metadata": {},
     "output_type": "execute_result"
    }
   ],
   "source": [
    "recursive_validate(michael, template, path)"
   ]
  },
  {
   "cell_type": "code",
   "execution_count": 100,
   "id": "pharmaceutical-private",
   "metadata": {},
   "outputs": [
    {
     "data": {
      "text/plain": [
       "(False, 'Missing Keys : .bio.dob.day')"
      ]
     },
     "execution_count": 100,
     "metadata": {},
     "output_type": "execute_result"
    }
   ],
   "source": [
    "recursive_validate(hyder, template, path)"
   ]
  },
  {
   "cell_type": "code",
   "execution_count": 101,
   "id": "persistent-patio",
   "metadata": {},
   "outputs": [],
   "source": [
    "def recursive_validate(data, template, path):\n",
    "    is_ok, error_msg = match_types(data, template, path)\n",
    "    if not is_ok:\n",
    "        return False, error_msg\n",
    "    \n",
    "    is_ok, error_msg = match_keys(data, template, path)\n",
    "    if not is_ok:\n",
    "        return False, error_msg\n",
    "    \n",
    "    dict_valued_keys = (key for key, value in template.items() if isinstance(value, dict))\n",
    "    \n",
    "    for key in dict_valued_keys:\n",
    "        sub_template = template[key]\n",
    "        sub_data = data[key]\n",
    "        sub_path = path + '.' + key\n",
    "        is_ok, error_msg = recursive_validate(sub_data, sub_template, sub_path)\n",
    "        if not is_ok:\n",
    "            return False, error_msg\n",
    "    else:\n",
    "        return True, None"
   ]
  },
  {
   "cell_type": "code",
   "execution_count": 102,
   "id": "tested-magnitude",
   "metadata": {},
   "outputs": [
    {
     "data": {
      "text/plain": [
       "(False, 'Mismatched type : .bio.dob.month expected -> int recieved -> str')"
      ]
     },
     "execution_count": 102,
     "metadata": {},
     "output_type": "execute_result"
    }
   ],
   "source": [
    "recursive_validate(hyder, template, path)"
   ]
  },
  {
   "cell_type": "code",
   "execution_count": 106,
   "id": "wrong-officer",
   "metadata": {},
   "outputs": [],
   "source": [
    "hyder = {\n",
    "    'user_id': 102,\n",
    "    'name': {\n",
    "        'first': 'Michael',\n",
    "        'last': 'Palin'\n",
    "    },\n",
    "    'bio': {\n",
    "        'dob': {\n",
    "            'year': 1943,\n",
    "        },\n",
    "        'birthplace': {\n",
    "            'country': 'United Kingdom',\n",
    "            'city': 'Sheffield',\n",
    "            'hello' : 'world'\n",
    "        }\n",
    "    }\n",
    "}"
   ]
  },
  {
   "cell_type": "code",
   "execution_count": 109,
   "id": "elder-stationery",
   "metadata": {},
   "outputs": [],
   "source": [
    "def recursive_validate(data, template, path):\n",
    "    is_ok, error_msg = match_keys(data, template, path)\n",
    "    if not is_ok:\n",
    "        return False, error_msg\n",
    "    \n",
    "    is_ok, error_msg = match_types(data, template, path)\n",
    "    if not is_ok:\n",
    "        return False, error_msg\n",
    "    \n",
    "    dict_valued_keys = (key for key, value in template.items() if isinstance(value, dict))\n",
    "    \n",
    "    for key in dict_valued_keys:\n",
    "        sub_template = template[key]\n",
    "        sub_data = data[key]\n",
    "        sub_path = path + '.' + key\n",
    "        is_ok, error_msg = recursive_validate(sub_data, sub_template, sub_path)\n",
    "        if not is_ok:\n",
    "            return False, error_msg.replace('.','/')\n",
    "    else:\n",
    "        return True, None"
   ]
  },
  {
   "cell_type": "code",
   "execution_count": 111,
   "id": "nearby-samba",
   "metadata": {},
   "outputs": [
    {
     "data": {
      "text/plain": [
       "(False, 'Missing Keys : /bio/dob/day, /bio/dob/month')"
      ]
     },
     "execution_count": 111,
     "metadata": {},
     "output_type": "execute_result"
    }
   ],
   "source": [
    "recursive_validate(hyder, template, path)"
   ]
  },
  {
   "cell_type": "code",
   "execution_count": 112,
   "id": "hearing-stationery",
   "metadata": {},
   "outputs": [],
   "source": [
    "validate = lambda data, template : recursive_validate(data, template, path='')"
   ]
  },
  {
   "cell_type": "code",
   "execution_count": 113,
   "id": "advanced-variety",
   "metadata": {},
   "outputs": [
    {
     "data": {
      "text/plain": [
       "(False, 'Missing Keys : /bio/dob/day, /bio/dob/month')"
      ]
     },
     "execution_count": 113,
     "metadata": {},
     "output_type": "execute_result"
    }
   ],
   "source": [
    "validate(hyder, template)"
   ]
  },
  {
   "cell_type": "code",
   "execution_count": 114,
   "id": "simplified-south",
   "metadata": {},
   "outputs": [
    {
     "data": {
      "text/plain": [
       "(True, None)"
      ]
     },
     "execution_count": 114,
     "metadata": {},
     "output_type": "execute_result"
    }
   ],
   "source": [
    "recursive_validate(john, template, path)"
   ]
  },
  {
   "cell_type": "code",
   "execution_count": 115,
   "id": "frozen-corps",
   "metadata": {},
   "outputs": [
    {
     "data": {
      "text/plain": [
       "(False, 'Mismatched type : /bio/dob/month expected -> int recieved -> str')"
      ]
     },
     "execution_count": 115,
     "metadata": {},
     "output_type": "execute_result"
    }
   ],
   "source": [
    "recursive_validate(michael, template, path)"
   ]
  },
  {
   "cell_type": "markdown",
   "id": "otherwise-tuning",
   "metadata": {},
   "source": [
    "### Solution"
   ]
  },
  {
   "cell_type": "code",
   "execution_count": 116,
   "id": "starting-cloud",
   "metadata": {},
   "outputs": [],
   "source": [
    "class SchemaError(Exception):\n",
    "    pass\n",
    "class SchemaKeyError(SchemaError):\n",
    "    pass\n",
    "class SchemaTypeError(SchemaError, TypeError):\n",
    "    pass"
   ]
  },
  {
   "cell_type": "code",
   "execution_count": 118,
   "id": "following-ambassador",
   "metadata": {},
   "outputs": [],
   "source": [
    "def match_keys(data, template, path):\n",
    "    \n",
    "    data_keys = data.keys()\n",
    "    template_keys = template.keys()\n",
    "    \n",
    "    missing_keys = template_keys - data_keys\n",
    "    extra_keys = data_keys - template_keys\n",
    "    \n",
    "    if missing_keys or extra_keys:\n",
    "        \n",
    "        missing_message = 'Missing Keys : ' + ', '.join(path + '.' + str(key) \n",
    "                                                     for key in missing_keys) if missing_keys else ''\n",
    "        \n",
    "        extra_message = 'Extra Keys : ' + ', '.join(path + '.' + str(key) \n",
    "                                                     for key in extra_keys) if extra_keys else ''\n",
    "        \n",
    "        error_msg = (f'{missing_message}\\n{extra_message}' if (missing_message \n",
    "                                                              and extra_message) \n",
    "                     else missing_message or extra_message)\n",
    "        \n",
    "        raise SchemaKeyError(error_msg)\n",
    "        \n",
    "        \n",
    "def match_types(data, template, path):\n",
    "    for key, value in template.items():\n",
    "        if isinstance(value, dict):\n",
    "            value = dict\n",
    "        data_value = data[key]\n",
    "        if not isinstance(data_value, value):\n",
    "            error_msg = ('Mismatched type : ' + path + '.' + \n",
    "                         str(key) + ' expected -> ' + value.__name__ + \n",
    "                         ' recieved -> ' + type(data_value).__name__)\n",
    "            raise SchemaTypeError(error_msg)\n",
    "    \n",
    "    \n",
    "def recursive_validate(data, template, path):\n",
    "    match_keys(data, template, path)\n",
    "    match_types(data, template, path)\n",
    "    \n",
    "    dict_valued_keys = (key for key, value in template.items() if isinstance(value, dict))\n",
    "    \n",
    "    for key in dict_valued_keys:\n",
    "        sub_template = template[key]\n",
    "        sub_data = data[key]\n",
    "        sub_path = path + '.' + key\n",
    "        recursive_validate(sub_data, sub_template, sub_path)\n",
    "    else:\n",
    "        return 'Validated'\n",
    "    \n",
    "validate = lambda data, template : recursive_validate(data, template, path='')"
   ]
  },
  {
   "cell_type": "code",
   "execution_count": 119,
   "id": "controversial-alliance",
   "metadata": {},
   "outputs": [
    {
     "data": {
      "text/plain": [
       "'Validated'"
      ]
     },
     "execution_count": 119,
     "metadata": {},
     "output_type": "execute_result"
    }
   ],
   "source": [
    "recursive_validate(john, template, path)"
   ]
  },
  {
   "cell_type": "code",
   "execution_count": 120,
   "id": "sunset-activity",
   "metadata": {
    "scrolled": true
   },
   "outputs": [
    {
     "ename": "SchemaKeyError",
     "evalue": "Missing Keys : .bio.birthplace.city",
     "output_type": "error",
     "traceback": [
      "\u001b[1;31m---------------------------------------------------------------------------\u001b[0m",
      "\u001b[1;31mSchemaKeyError\u001b[0m                            Traceback (most recent call last)",
      "\u001b[1;32m<ipython-input-120-17339d2eecaf>\u001b[0m in \u001b[0;36m<module>\u001b[1;34m\u001b[0m\n\u001b[1;32m----> 1\u001b[1;33m \u001b[0mrecursive_validate\u001b[0m\u001b[1;33m(\u001b[0m\u001b[0meric\u001b[0m\u001b[1;33m,\u001b[0m \u001b[0mtemplate\u001b[0m\u001b[1;33m,\u001b[0m \u001b[0mpath\u001b[0m\u001b[1;33m)\u001b[0m\u001b[1;33m\u001b[0m\u001b[1;33m\u001b[0m\u001b[0m\n\u001b[0m",
      "\u001b[1;32m<ipython-input-118-ffc3f2746ed3>\u001b[0m in \u001b[0;36mrecursive_validate\u001b[1;34m(data, template, path)\u001b[0m\n\u001b[0;32m     44\u001b[0m         \u001b[0msub_data\u001b[0m \u001b[1;33m=\u001b[0m \u001b[0mdata\u001b[0m\u001b[1;33m[\u001b[0m\u001b[0mkey\u001b[0m\u001b[1;33m]\u001b[0m\u001b[1;33m\u001b[0m\u001b[1;33m\u001b[0m\u001b[0m\n\u001b[0;32m     45\u001b[0m         \u001b[0msub_path\u001b[0m \u001b[1;33m=\u001b[0m \u001b[0mpath\u001b[0m \u001b[1;33m+\u001b[0m \u001b[1;34m'.'\u001b[0m \u001b[1;33m+\u001b[0m \u001b[0mkey\u001b[0m\u001b[1;33m\u001b[0m\u001b[1;33m\u001b[0m\u001b[0m\n\u001b[1;32m---> 46\u001b[1;33m         \u001b[0mrecursive_validate\u001b[0m\u001b[1;33m(\u001b[0m\u001b[0msub_data\u001b[0m\u001b[1;33m,\u001b[0m \u001b[0msub_template\u001b[0m\u001b[1;33m,\u001b[0m \u001b[0msub_path\u001b[0m\u001b[1;33m)\u001b[0m\u001b[1;33m\u001b[0m\u001b[1;33m\u001b[0m\u001b[0m\n\u001b[0m\u001b[0;32m     47\u001b[0m     \u001b[1;32melse\u001b[0m\u001b[1;33m:\u001b[0m\u001b[1;33m\u001b[0m\u001b[1;33m\u001b[0m\u001b[0m\n\u001b[0;32m     48\u001b[0m         \u001b[1;32mreturn\u001b[0m \u001b[1;34m'Validated'\u001b[0m\u001b[1;33m\u001b[0m\u001b[1;33m\u001b[0m\u001b[0m\n",
      "\u001b[1;32m<ipython-input-118-ffc3f2746ed3>\u001b[0m in \u001b[0;36mrecursive_validate\u001b[1;34m(data, template, path)\u001b[0m\n\u001b[0;32m     44\u001b[0m         \u001b[0msub_data\u001b[0m \u001b[1;33m=\u001b[0m \u001b[0mdata\u001b[0m\u001b[1;33m[\u001b[0m\u001b[0mkey\u001b[0m\u001b[1;33m]\u001b[0m\u001b[1;33m\u001b[0m\u001b[1;33m\u001b[0m\u001b[0m\n\u001b[0;32m     45\u001b[0m         \u001b[0msub_path\u001b[0m \u001b[1;33m=\u001b[0m \u001b[0mpath\u001b[0m \u001b[1;33m+\u001b[0m \u001b[1;34m'.'\u001b[0m \u001b[1;33m+\u001b[0m \u001b[0mkey\u001b[0m\u001b[1;33m\u001b[0m\u001b[1;33m\u001b[0m\u001b[0m\n\u001b[1;32m---> 46\u001b[1;33m         \u001b[0mrecursive_validate\u001b[0m\u001b[1;33m(\u001b[0m\u001b[0msub_data\u001b[0m\u001b[1;33m,\u001b[0m \u001b[0msub_template\u001b[0m\u001b[1;33m,\u001b[0m \u001b[0msub_path\u001b[0m\u001b[1;33m)\u001b[0m\u001b[1;33m\u001b[0m\u001b[1;33m\u001b[0m\u001b[0m\n\u001b[0m\u001b[0;32m     47\u001b[0m     \u001b[1;32melse\u001b[0m\u001b[1;33m:\u001b[0m\u001b[1;33m\u001b[0m\u001b[1;33m\u001b[0m\u001b[0m\n\u001b[0;32m     48\u001b[0m         \u001b[1;32mreturn\u001b[0m \u001b[1;34m'Validated'\u001b[0m\u001b[1;33m\u001b[0m\u001b[1;33m\u001b[0m\u001b[0m\n",
      "\u001b[1;32m<ipython-input-118-ffc3f2746ed3>\u001b[0m in \u001b[0;36mrecursive_validate\u001b[1;34m(data, template, path)\u001b[0m\n\u001b[0;32m     35\u001b[0m \u001b[1;33m\u001b[0m\u001b[0m\n\u001b[0;32m     36\u001b[0m \u001b[1;32mdef\u001b[0m \u001b[0mrecursive_validate\u001b[0m\u001b[1;33m(\u001b[0m\u001b[0mdata\u001b[0m\u001b[1;33m,\u001b[0m \u001b[0mtemplate\u001b[0m\u001b[1;33m,\u001b[0m \u001b[0mpath\u001b[0m\u001b[1;33m)\u001b[0m\u001b[1;33m:\u001b[0m\u001b[1;33m\u001b[0m\u001b[1;33m\u001b[0m\u001b[0m\n\u001b[1;32m---> 37\u001b[1;33m     \u001b[0mmatch_keys\u001b[0m\u001b[1;33m(\u001b[0m\u001b[0mdata\u001b[0m\u001b[1;33m,\u001b[0m \u001b[0mtemplate\u001b[0m\u001b[1;33m,\u001b[0m \u001b[0mpath\u001b[0m\u001b[1;33m)\u001b[0m\u001b[1;33m\u001b[0m\u001b[1;33m\u001b[0m\u001b[0m\n\u001b[0m\u001b[0;32m     38\u001b[0m     \u001b[0mmatch_types\u001b[0m\u001b[1;33m(\u001b[0m\u001b[0mdata\u001b[0m\u001b[1;33m,\u001b[0m \u001b[0mtemplate\u001b[0m\u001b[1;33m,\u001b[0m \u001b[0mpath\u001b[0m\u001b[1;33m)\u001b[0m\u001b[1;33m\u001b[0m\u001b[1;33m\u001b[0m\u001b[0m\n\u001b[0;32m     39\u001b[0m \u001b[1;33m\u001b[0m\u001b[0m\n",
      "\u001b[1;32m<ipython-input-118-ffc3f2746ed3>\u001b[0m in \u001b[0;36mmatch_keys\u001b[1;34m(data, template, path)\u001b[0m\n\u001b[0;32m     19\u001b[0m                      else missing_message or extra_message)\n\u001b[0;32m     20\u001b[0m \u001b[1;33m\u001b[0m\u001b[0m\n\u001b[1;32m---> 21\u001b[1;33m         \u001b[1;32mraise\u001b[0m \u001b[0mSchemaKeyError\u001b[0m\u001b[1;33m(\u001b[0m\u001b[0merror_msg\u001b[0m\u001b[1;33m)\u001b[0m\u001b[1;33m\u001b[0m\u001b[1;33m\u001b[0m\u001b[0m\n\u001b[0m\u001b[0;32m     22\u001b[0m \u001b[1;33m\u001b[0m\u001b[0m\n\u001b[0;32m     23\u001b[0m \u001b[1;33m\u001b[0m\u001b[0m\n",
      "\u001b[1;31mSchemaKeyError\u001b[0m: Missing Keys : .bio.birthplace.city"
     ]
    }
   ],
   "source": [
    "recursive_validate(eric, template, path)"
   ]
  },
  {
   "cell_type": "code",
   "execution_count": 121,
   "id": "defensive-empty",
   "metadata": {},
   "outputs": [
    {
     "ename": "SchemaTypeError",
     "evalue": "Mismatched type : .bio.dob.month expected -> int recieved -> str",
     "output_type": "error",
     "traceback": [
      "\u001b[1;31m---------------------------------------------------------------------------\u001b[0m",
      "\u001b[1;31mSchemaTypeError\u001b[0m                           Traceback (most recent call last)",
      "\u001b[1;32m<ipython-input-121-1b116ef052b2>\u001b[0m in \u001b[0;36m<module>\u001b[1;34m\u001b[0m\n\u001b[1;32m----> 1\u001b[1;33m \u001b[0mrecursive_validate\u001b[0m\u001b[1;33m(\u001b[0m\u001b[0mmichael\u001b[0m\u001b[1;33m,\u001b[0m \u001b[0mtemplate\u001b[0m\u001b[1;33m,\u001b[0m \u001b[0mpath\u001b[0m\u001b[1;33m)\u001b[0m\u001b[1;33m\u001b[0m\u001b[1;33m\u001b[0m\u001b[0m\n\u001b[0m",
      "\u001b[1;32m<ipython-input-118-ffc3f2746ed3>\u001b[0m in \u001b[0;36mrecursive_validate\u001b[1;34m(data, template, path)\u001b[0m\n\u001b[0;32m     44\u001b[0m         \u001b[0msub_data\u001b[0m \u001b[1;33m=\u001b[0m \u001b[0mdata\u001b[0m\u001b[1;33m[\u001b[0m\u001b[0mkey\u001b[0m\u001b[1;33m]\u001b[0m\u001b[1;33m\u001b[0m\u001b[1;33m\u001b[0m\u001b[0m\n\u001b[0;32m     45\u001b[0m         \u001b[0msub_path\u001b[0m \u001b[1;33m=\u001b[0m \u001b[0mpath\u001b[0m \u001b[1;33m+\u001b[0m \u001b[1;34m'.'\u001b[0m \u001b[1;33m+\u001b[0m \u001b[0mkey\u001b[0m\u001b[1;33m\u001b[0m\u001b[1;33m\u001b[0m\u001b[0m\n\u001b[1;32m---> 46\u001b[1;33m         \u001b[0mrecursive_validate\u001b[0m\u001b[1;33m(\u001b[0m\u001b[0msub_data\u001b[0m\u001b[1;33m,\u001b[0m \u001b[0msub_template\u001b[0m\u001b[1;33m,\u001b[0m \u001b[0msub_path\u001b[0m\u001b[1;33m)\u001b[0m\u001b[1;33m\u001b[0m\u001b[1;33m\u001b[0m\u001b[0m\n\u001b[0m\u001b[0;32m     47\u001b[0m     \u001b[1;32melse\u001b[0m\u001b[1;33m:\u001b[0m\u001b[1;33m\u001b[0m\u001b[1;33m\u001b[0m\u001b[0m\n\u001b[0;32m     48\u001b[0m         \u001b[1;32mreturn\u001b[0m \u001b[1;34m'Validated'\u001b[0m\u001b[1;33m\u001b[0m\u001b[1;33m\u001b[0m\u001b[0m\n",
      "\u001b[1;32m<ipython-input-118-ffc3f2746ed3>\u001b[0m in \u001b[0;36mrecursive_validate\u001b[1;34m(data, template, path)\u001b[0m\n\u001b[0;32m     44\u001b[0m         \u001b[0msub_data\u001b[0m \u001b[1;33m=\u001b[0m \u001b[0mdata\u001b[0m\u001b[1;33m[\u001b[0m\u001b[0mkey\u001b[0m\u001b[1;33m]\u001b[0m\u001b[1;33m\u001b[0m\u001b[1;33m\u001b[0m\u001b[0m\n\u001b[0;32m     45\u001b[0m         \u001b[0msub_path\u001b[0m \u001b[1;33m=\u001b[0m \u001b[0mpath\u001b[0m \u001b[1;33m+\u001b[0m \u001b[1;34m'.'\u001b[0m \u001b[1;33m+\u001b[0m \u001b[0mkey\u001b[0m\u001b[1;33m\u001b[0m\u001b[1;33m\u001b[0m\u001b[0m\n\u001b[1;32m---> 46\u001b[1;33m         \u001b[0mrecursive_validate\u001b[0m\u001b[1;33m(\u001b[0m\u001b[0msub_data\u001b[0m\u001b[1;33m,\u001b[0m \u001b[0msub_template\u001b[0m\u001b[1;33m,\u001b[0m \u001b[0msub_path\u001b[0m\u001b[1;33m)\u001b[0m\u001b[1;33m\u001b[0m\u001b[1;33m\u001b[0m\u001b[0m\n\u001b[0m\u001b[0;32m     47\u001b[0m     \u001b[1;32melse\u001b[0m\u001b[1;33m:\u001b[0m\u001b[1;33m\u001b[0m\u001b[1;33m\u001b[0m\u001b[0m\n\u001b[0;32m     48\u001b[0m         \u001b[1;32mreturn\u001b[0m \u001b[1;34m'Validated'\u001b[0m\u001b[1;33m\u001b[0m\u001b[1;33m\u001b[0m\u001b[0m\n",
      "\u001b[1;32m<ipython-input-118-ffc3f2746ed3>\u001b[0m in \u001b[0;36mrecursive_validate\u001b[1;34m(data, template, path)\u001b[0m\n\u001b[0;32m     36\u001b[0m \u001b[1;32mdef\u001b[0m \u001b[0mrecursive_validate\u001b[0m\u001b[1;33m(\u001b[0m\u001b[0mdata\u001b[0m\u001b[1;33m,\u001b[0m \u001b[0mtemplate\u001b[0m\u001b[1;33m,\u001b[0m \u001b[0mpath\u001b[0m\u001b[1;33m)\u001b[0m\u001b[1;33m:\u001b[0m\u001b[1;33m\u001b[0m\u001b[1;33m\u001b[0m\u001b[0m\n\u001b[0;32m     37\u001b[0m     \u001b[0mmatch_keys\u001b[0m\u001b[1;33m(\u001b[0m\u001b[0mdata\u001b[0m\u001b[1;33m,\u001b[0m \u001b[0mtemplate\u001b[0m\u001b[1;33m,\u001b[0m \u001b[0mpath\u001b[0m\u001b[1;33m)\u001b[0m\u001b[1;33m\u001b[0m\u001b[1;33m\u001b[0m\u001b[0m\n\u001b[1;32m---> 38\u001b[1;33m     \u001b[0mmatch_types\u001b[0m\u001b[1;33m(\u001b[0m\u001b[0mdata\u001b[0m\u001b[1;33m,\u001b[0m \u001b[0mtemplate\u001b[0m\u001b[1;33m,\u001b[0m \u001b[0mpath\u001b[0m\u001b[1;33m)\u001b[0m\u001b[1;33m\u001b[0m\u001b[1;33m\u001b[0m\u001b[0m\n\u001b[0m\u001b[0;32m     39\u001b[0m \u001b[1;33m\u001b[0m\u001b[0m\n\u001b[0;32m     40\u001b[0m     \u001b[0mdict_valued_keys\u001b[0m \u001b[1;33m=\u001b[0m \u001b[1;33m(\u001b[0m\u001b[0mkey\u001b[0m \u001b[1;32mfor\u001b[0m \u001b[0mkey\u001b[0m\u001b[1;33m,\u001b[0m \u001b[0mvalue\u001b[0m \u001b[1;32min\u001b[0m \u001b[0mtemplate\u001b[0m\u001b[1;33m.\u001b[0m\u001b[0mitems\u001b[0m\u001b[1;33m(\u001b[0m\u001b[1;33m)\u001b[0m \u001b[1;32mif\u001b[0m \u001b[0misinstance\u001b[0m\u001b[1;33m(\u001b[0m\u001b[0mvalue\u001b[0m\u001b[1;33m,\u001b[0m \u001b[0mdict\u001b[0m\u001b[1;33m)\u001b[0m\u001b[1;33m)\u001b[0m\u001b[1;33m\u001b[0m\u001b[1;33m\u001b[0m\u001b[0m\n",
      "\u001b[1;32m<ipython-input-118-ffc3f2746ed3>\u001b[0m in \u001b[0;36mmatch_types\u001b[1;34m(data, template, path)\u001b[0m\n\u001b[0;32m     31\u001b[0m                          \u001b[0mstr\u001b[0m\u001b[1;33m(\u001b[0m\u001b[0mkey\u001b[0m\u001b[1;33m)\u001b[0m \u001b[1;33m+\u001b[0m \u001b[1;34m' expected -> '\u001b[0m \u001b[1;33m+\u001b[0m \u001b[0mvalue\u001b[0m\u001b[1;33m.\u001b[0m\u001b[0m__name__\u001b[0m \u001b[1;33m+\u001b[0m\u001b[1;33m\u001b[0m\u001b[1;33m\u001b[0m\u001b[0m\n\u001b[0;32m     32\u001b[0m                          ' recieved -> ' + type(data_value).__name__)\n\u001b[1;32m---> 33\u001b[1;33m             \u001b[1;32mraise\u001b[0m \u001b[0mSchemaTypeError\u001b[0m\u001b[1;33m(\u001b[0m\u001b[0merror_msg\u001b[0m\u001b[1;33m)\u001b[0m\u001b[1;33m\u001b[0m\u001b[1;33m\u001b[0m\u001b[0m\n\u001b[0m\u001b[0;32m     34\u001b[0m \u001b[1;33m\u001b[0m\u001b[0m\n\u001b[0;32m     35\u001b[0m \u001b[1;33m\u001b[0m\u001b[0m\n",
      "\u001b[1;31mSchemaTypeError\u001b[0m: Mismatched type : .bio.dob.month expected -> int recieved -> str"
     ]
    }
   ],
   "source": [
    "recursive_validate(michael, template, path)"
   ]
  },
  {
   "cell_type": "code",
   "execution_count": 122,
   "id": "magnetic-aluminum",
   "metadata": {},
   "outputs": [
    {
     "ename": "SchemaKeyError",
     "evalue": "Missing Keys : .bio.dob.day, .bio.dob.month",
     "output_type": "error",
     "traceback": [
      "\u001b[1;31m---------------------------------------------------------------------------\u001b[0m",
      "\u001b[1;31mSchemaKeyError\u001b[0m                            Traceback (most recent call last)",
      "\u001b[1;32m<ipython-input-122-8c635fdba868>\u001b[0m in \u001b[0;36m<module>\u001b[1;34m\u001b[0m\n\u001b[1;32m----> 1\u001b[1;33m \u001b[0mrecursive_validate\u001b[0m\u001b[1;33m(\u001b[0m\u001b[0mhyder\u001b[0m\u001b[1;33m,\u001b[0m \u001b[0mtemplate\u001b[0m\u001b[1;33m,\u001b[0m \u001b[0mpath\u001b[0m\u001b[1;33m)\u001b[0m\u001b[1;33m\u001b[0m\u001b[1;33m\u001b[0m\u001b[0m\n\u001b[0m",
      "\u001b[1;32m<ipython-input-118-ffc3f2746ed3>\u001b[0m in \u001b[0;36mrecursive_validate\u001b[1;34m(data, template, path)\u001b[0m\n\u001b[0;32m     44\u001b[0m         \u001b[0msub_data\u001b[0m \u001b[1;33m=\u001b[0m \u001b[0mdata\u001b[0m\u001b[1;33m[\u001b[0m\u001b[0mkey\u001b[0m\u001b[1;33m]\u001b[0m\u001b[1;33m\u001b[0m\u001b[1;33m\u001b[0m\u001b[0m\n\u001b[0;32m     45\u001b[0m         \u001b[0msub_path\u001b[0m \u001b[1;33m=\u001b[0m \u001b[0mpath\u001b[0m \u001b[1;33m+\u001b[0m \u001b[1;34m'.'\u001b[0m \u001b[1;33m+\u001b[0m \u001b[0mkey\u001b[0m\u001b[1;33m\u001b[0m\u001b[1;33m\u001b[0m\u001b[0m\n\u001b[1;32m---> 46\u001b[1;33m         \u001b[0mrecursive_validate\u001b[0m\u001b[1;33m(\u001b[0m\u001b[0msub_data\u001b[0m\u001b[1;33m,\u001b[0m \u001b[0msub_template\u001b[0m\u001b[1;33m,\u001b[0m \u001b[0msub_path\u001b[0m\u001b[1;33m)\u001b[0m\u001b[1;33m\u001b[0m\u001b[1;33m\u001b[0m\u001b[0m\n\u001b[0m\u001b[0;32m     47\u001b[0m     \u001b[1;32melse\u001b[0m\u001b[1;33m:\u001b[0m\u001b[1;33m\u001b[0m\u001b[1;33m\u001b[0m\u001b[0m\n\u001b[0;32m     48\u001b[0m         \u001b[1;32mreturn\u001b[0m \u001b[1;34m'Validated'\u001b[0m\u001b[1;33m\u001b[0m\u001b[1;33m\u001b[0m\u001b[0m\n",
      "\u001b[1;32m<ipython-input-118-ffc3f2746ed3>\u001b[0m in \u001b[0;36mrecursive_validate\u001b[1;34m(data, template, path)\u001b[0m\n\u001b[0;32m     44\u001b[0m         \u001b[0msub_data\u001b[0m \u001b[1;33m=\u001b[0m \u001b[0mdata\u001b[0m\u001b[1;33m[\u001b[0m\u001b[0mkey\u001b[0m\u001b[1;33m]\u001b[0m\u001b[1;33m\u001b[0m\u001b[1;33m\u001b[0m\u001b[0m\n\u001b[0;32m     45\u001b[0m         \u001b[0msub_path\u001b[0m \u001b[1;33m=\u001b[0m \u001b[0mpath\u001b[0m \u001b[1;33m+\u001b[0m \u001b[1;34m'.'\u001b[0m \u001b[1;33m+\u001b[0m \u001b[0mkey\u001b[0m\u001b[1;33m\u001b[0m\u001b[1;33m\u001b[0m\u001b[0m\n\u001b[1;32m---> 46\u001b[1;33m         \u001b[0mrecursive_validate\u001b[0m\u001b[1;33m(\u001b[0m\u001b[0msub_data\u001b[0m\u001b[1;33m,\u001b[0m \u001b[0msub_template\u001b[0m\u001b[1;33m,\u001b[0m \u001b[0msub_path\u001b[0m\u001b[1;33m)\u001b[0m\u001b[1;33m\u001b[0m\u001b[1;33m\u001b[0m\u001b[0m\n\u001b[0m\u001b[0;32m     47\u001b[0m     \u001b[1;32melse\u001b[0m\u001b[1;33m:\u001b[0m\u001b[1;33m\u001b[0m\u001b[1;33m\u001b[0m\u001b[0m\n\u001b[0;32m     48\u001b[0m         \u001b[1;32mreturn\u001b[0m \u001b[1;34m'Validated'\u001b[0m\u001b[1;33m\u001b[0m\u001b[1;33m\u001b[0m\u001b[0m\n",
      "\u001b[1;32m<ipython-input-118-ffc3f2746ed3>\u001b[0m in \u001b[0;36mrecursive_validate\u001b[1;34m(data, template, path)\u001b[0m\n\u001b[0;32m     35\u001b[0m \u001b[1;33m\u001b[0m\u001b[0m\n\u001b[0;32m     36\u001b[0m \u001b[1;32mdef\u001b[0m \u001b[0mrecursive_validate\u001b[0m\u001b[1;33m(\u001b[0m\u001b[0mdata\u001b[0m\u001b[1;33m,\u001b[0m \u001b[0mtemplate\u001b[0m\u001b[1;33m,\u001b[0m \u001b[0mpath\u001b[0m\u001b[1;33m)\u001b[0m\u001b[1;33m:\u001b[0m\u001b[1;33m\u001b[0m\u001b[1;33m\u001b[0m\u001b[0m\n\u001b[1;32m---> 37\u001b[1;33m     \u001b[0mmatch_keys\u001b[0m\u001b[1;33m(\u001b[0m\u001b[0mdata\u001b[0m\u001b[1;33m,\u001b[0m \u001b[0mtemplate\u001b[0m\u001b[1;33m,\u001b[0m \u001b[0mpath\u001b[0m\u001b[1;33m)\u001b[0m\u001b[1;33m\u001b[0m\u001b[1;33m\u001b[0m\u001b[0m\n\u001b[0m\u001b[0;32m     38\u001b[0m     \u001b[0mmatch_types\u001b[0m\u001b[1;33m(\u001b[0m\u001b[0mdata\u001b[0m\u001b[1;33m,\u001b[0m \u001b[0mtemplate\u001b[0m\u001b[1;33m,\u001b[0m \u001b[0mpath\u001b[0m\u001b[1;33m)\u001b[0m\u001b[1;33m\u001b[0m\u001b[1;33m\u001b[0m\u001b[0m\n\u001b[0;32m     39\u001b[0m \u001b[1;33m\u001b[0m\u001b[0m\n",
      "\u001b[1;32m<ipython-input-118-ffc3f2746ed3>\u001b[0m in \u001b[0;36mmatch_keys\u001b[1;34m(data, template, path)\u001b[0m\n\u001b[0;32m     19\u001b[0m                      else missing_message or extra_message)\n\u001b[0;32m     20\u001b[0m \u001b[1;33m\u001b[0m\u001b[0m\n\u001b[1;32m---> 21\u001b[1;33m         \u001b[1;32mraise\u001b[0m \u001b[0mSchemaKeyError\u001b[0m\u001b[1;33m(\u001b[0m\u001b[0merror_msg\u001b[0m\u001b[1;33m)\u001b[0m\u001b[1;33m\u001b[0m\u001b[1;33m\u001b[0m\u001b[0m\n\u001b[0m\u001b[0;32m     22\u001b[0m \u001b[1;33m\u001b[0m\u001b[0m\n\u001b[0;32m     23\u001b[0m \u001b[1;33m\u001b[0m\u001b[0m\n",
      "\u001b[1;31mSchemaKeyError\u001b[0m: Missing Keys : .bio.dob.day, .bio.dob.month"
     ]
    }
   ],
   "source": [
    "recursive_validate(hyder, template, path)"
   ]
  },
  {
   "cell_type": "code",
   "execution_count": null,
   "id": "educational-berry",
   "metadata": {},
   "outputs": [],
   "source": []
  }
 ],
 "metadata": {
  "kernelspec": {
   "display_name": "Python 3",
   "language": "python",
   "name": "python3"
  },
  "language_info": {
   "codemirror_mode": {
    "name": "ipython",
    "version": 3
   },
   "file_extension": ".py",
   "mimetype": "text/x-python",
   "name": "python",
   "nbconvert_exporter": "python",
   "pygments_lexer": "ipython3",
   "version": "3.9.1"
  }
 },
 "nbformat": 4,
 "nbformat_minor": 5
}
