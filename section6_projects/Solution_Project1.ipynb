{
 "cells": [
  {
   "cell_type": "code",
   "execution_count": 1,
   "id": "realistic-sight",
   "metadata": {},
   "outputs": [],
   "source": [
    "template = {\n",
    "    'user_id': int,\n",
    "    'name': {\n",
    "        'first': str,\n",
    "        'last': str\n",
    "    },\n",
    "    'bio': {\n",
    "        'dob': {\n",
    "            'year': int,\n",
    "            'month': int,\n",
    "            'day': int\n",
    "        },\n",
    "        'birthplace': {\n",
    "            'country': str,\n",
    "            'city': str\n",
    "        }\n",
    "    }\n",
    "}\n",
    "\n",
    "john = {\n",
    "    'user_id': 100,\n",
    "    'name': {\n",
    "        'first': 'John',\n",
    "        'last': 'Cleese'\n",
    "    },\n",
    "    'bio': {\n",
    "        'dob': {\n",
    "            'year': 1939,\n",
    "            'month': 11,\n",
    "            'day': 27\n",
    "        },\n",
    "        'birthplace': {\n",
    "            'country': 'United Kingdom',\n",
    "            'city': 'Weston-super-Mare'\n",
    "        }\n",
    "    }\n",
    "}\n",
    "\n",
    "eric = {\n",
    "    'user_id': 101,\n",
    "    'name': {\n",
    "        'first': 'Eric',\n",
    "        'last': 'Idle'\n",
    "    },\n",
    "    'bio': {\n",
    "        'dob': {\n",
    "            'year': 1943,\n",
    "            'month': 3,\n",
    "            'day': 29\n",
    "        },\n",
    "        'birthplace': {\n",
    "            'country': 'United Kingdom'\n",
    "        }\n",
    "    }\n",
    "}\n",
    "\n",
    "michael = {\n",
    "    'user_id': 102,\n",
    "    'name': {\n",
    "        'first': 'Michael',\n",
    "        'last': 'Palin'\n",
    "    },\n",
    "    'bio': {\n",
    "        'dob': {\n",
    "            'year': 1943,\n",
    "            'month': 'May',\n",
    "            'day': 5\n",
    "        },\n",
    "        'birthplace': {\n",
    "            'country': 'United Kingdom',\n",
    "            'city': 'Sheffield'\n",
    "        }\n",
    "    }\n",
    "}"
   ]
  },
  {
   "cell_type": "code",
   "execution_count": 2,
   "id": "adjacent-broad",
   "metadata": {},
   "outputs": [],
   "source": [
    "def validate(data, template):\n",
    "    template_keys = template.keys()\n",
    "    data_keys = data.keys()\n",
    "    \n",
    "    return template_keys == data_keys"
   ]
  },
  {
   "cell_type": "code",
   "execution_count": 3,
   "id": "fabulous-database",
   "metadata": {
    "scrolled": true
   },
   "outputs": [
    {
     "data": {
      "text/plain": [
       "True"
      ]
     },
     "execution_count": 3,
     "metadata": {},
     "output_type": "execute_result"
    }
   ],
   "source": [
    "validate(john, template)"
   ]
  },
  {
   "cell_type": "code",
   "execution_count": 4,
   "id": "passing-wealth",
   "metadata": {},
   "outputs": [
    {
     "data": {
      "text/plain": [
       "True"
      ]
     },
     "execution_count": 4,
     "metadata": {},
     "output_type": "execute_result"
    }
   ],
   "source": [
    "validate(michael, template)"
   ]
  },
  {
   "cell_type": "code",
   "execution_count": 5,
   "id": "deluxe-representation",
   "metadata": {},
   "outputs": [
    {
     "data": {
      "text/plain": [
       "False"
      ]
     },
     "execution_count": 5,
     "metadata": {},
     "output_type": "execute_result"
    }
   ],
   "source": [
    "dummy_data = {'a': None, 'b': None}\n",
    "validate(dummy_data, template)"
   ]
  },
  {
   "cell_type": "code",
   "execution_count": 6,
   "id": "falling-microphone",
   "metadata": {},
   "outputs": [],
   "source": [
    "def validate(data, template):\n",
    "    template_keys = template.keys()\n",
    "    data_keys = data.keys()\n",
    "    if template_keys == data_keys:\n",
    "        total_dicts = 0\n",
    "        for key, value in template.items():\n",
    "            if type(value) == dict:\n",
    "                total_dicts += 1\n",
    "                nested_dicts = validate(data[key], value)\n",
    "                total_dicts += nested_dicts\n",
    "        return total_dicts"
   ]
  },
  {
   "cell_type": "code",
   "execution_count": 7,
   "id": "suitable-entrance",
   "metadata": {},
   "outputs": [
    {
     "data": {
      "text/plain": [
       "4"
      ]
     },
     "execution_count": 7,
     "metadata": {},
     "output_type": "execute_result"
    }
   ],
   "source": [
    "validate(john, template)"
   ]
  },
  {
   "cell_type": "code",
   "execution_count": 8,
   "id": "veterinary-majority",
   "metadata": {},
   "outputs": [],
   "source": [
    "def flatten_dict(d):\n",
    "    for key, value in d.items():\n",
    "        yield key\n",
    "        if isinstance(value, dict):\n",
    "            yield from flatten_dict(value)"
   ]
  },
  {
   "cell_type": "code",
   "execution_count": 9,
   "id": "august-pocket",
   "metadata": {},
   "outputs": [
    {
     "data": {
      "text/plain": [
       "['user_id',\n",
       " 'name',\n",
       " 'first',\n",
       " 'last',\n",
       " 'bio',\n",
       " 'dob',\n",
       " 'year',\n",
       " 'month',\n",
       " 'day',\n",
       " 'birthplace',\n",
       " 'country',\n",
       " 'city']"
      ]
     },
     "execution_count": 9,
     "metadata": {},
     "output_type": "execute_result"
    }
   ],
   "source": [
    "list(flatten_dict(template))"
   ]
  },
  {
   "cell_type": "code",
   "execution_count": 10,
   "id": "classified-crystal",
   "metadata": {},
   "outputs": [
    {
     "data": {
      "text/plain": [
       "True"
      ]
     },
     "execution_count": 10,
     "metadata": {},
     "output_type": "execute_result"
    }
   ],
   "source": [
    "list(flatten_dict(template)) == list(flatten_dict(john))"
   ]
  },
  {
   "cell_type": "code",
   "execution_count": 11,
   "id": "involved-still",
   "metadata": {},
   "outputs": [],
   "source": [
    "def validate(data, template):\n",
    "    template_keys = set(flatten_dict(template))\n",
    "    data_keys = set(flatten_dict(data))\n",
    "    return template_keys - data_keys"
   ]
  },
  {
   "cell_type": "code",
   "execution_count": 12,
   "id": "signal-weight",
   "metadata": {},
   "outputs": [
    {
     "data": {
      "text/plain": [
       "{'city'}"
      ]
     },
     "execution_count": 12,
     "metadata": {},
     "output_type": "execute_result"
    }
   ],
   "source": [
    "validate(eric, template)"
   ]
  },
  {
   "cell_type": "code",
   "execution_count": 47,
   "id": "remarkable-people",
   "metadata": {},
   "outputs": [],
   "source": [
    "def find_parent(child, grand):\n",
    "    for key, value in grand.items():\n",
    "        if isinstance(value, dict):\n",
    "            if value.keys() == child.keys():\n",
    "                return key\n",
    "            else:\n",
    "                result = find_parent(child, value)\n",
    "                if result:\n",
    "                    return result"
   ]
  },
  {
   "cell_type": "code",
   "execution_count": 48,
   "id": "ruled-master",
   "metadata": {},
   "outputs": [
    {
     "data": {
      "text/plain": [
       "'dob'"
      ]
     },
     "execution_count": 48,
     "metadata": {},
     "output_type": "execute_result"
    }
   ],
   "source": [
    "find_parent({\n",
    "            'year': 1943,\n",
    "            'month': 'May',\n",
    "            'day': 5\n",
    "        }, template)"
   ]
  },
  {
   "cell_type": "code",
   "execution_count": 49,
   "id": "sharing-lyric",
   "metadata": {},
   "outputs": [
    {
     "data": {
      "text/plain": [
       "'bio'"
      ]
     },
     "execution_count": 49,
     "metadata": {},
     "output_type": "execute_result"
    }
   ],
   "source": [
    "find_parent({\n",
    "        'dob': {\n",
    "            'year': 1943,\n",
    "            'month': 'May',\n",
    "            'day': 5\n",
    "        },\n",
    "        'birthplace': {\n",
    "            'country': 'United Kingdom',\n",
    "            'city': 'Sheffield'\n",
    "        }\n",
    "    }, template)"
   ]
  },
  {
   "cell_type": "code",
   "execution_count": 67,
   "id": "cooked-healthcare",
   "metadata": {},
   "outputs": [],
   "source": [
    "def flatten_dict(d):\n",
    "    for key, value in d.items():\n",
    "        if isinstance(value, dict):\n",
    "            yield from flatten_dict(value)\n",
    "        else:\n",
    "            yield key,value"
   ]
  },
  {
   "cell_type": "code",
   "execution_count": 68,
   "id": "involved-japanese",
   "metadata": {},
   "outputs": [],
   "source": [
    "missing = set(flatten_dict(template)) - set(flatten_dict(eric))"
   ]
  },
  {
   "cell_type": "code",
   "execution_count": 69,
   "id": "static-resistance",
   "metadata": {},
   "outputs": [
    {
     "data": {
      "text/plain": [
       "{('city', str),\n",
       " ('country', str),\n",
       " ('day', int),\n",
       " ('first', str),\n",
       " ('last', str),\n",
       " ('month', int),\n",
       " ('user_id', int),\n",
       " ('year', int)}"
      ]
     },
     "execution_count": 69,
     "metadata": {},
     "output_type": "execute_result"
    }
   ],
   "source": [
    "missing"
   ]
  },
  {
   "cell_type": "code",
   "execution_count": 66,
   "id": "genuine-deficit",
   "metadata": {},
   "outputs": [
    {
     "data": {
      "text/plain": [
       "<function __main__.find_parent(child, grand)>"
      ]
     },
     "execution_count": 66,
     "metadata": {},
     "output_type": "execute_result"
    }
   ],
   "source": [
    "find_parent"
   ]
  },
  {
   "cell_type": "code",
   "execution_count": 50,
   "id": "interim-subdivision",
   "metadata": {},
   "outputs": [],
   "source": [
    "def validate(data, template):\n",
    "    data_keys = data.keys()\n",
    "    template_keys = template.keys()\n",
    "    "
   ]
  },
  {
   "cell_type": "code",
   "execution_count": 51,
   "id": "narrative-savings",
   "metadata": {},
   "outputs": [
    {
     "name": "stdout",
     "output_type": "stream",
     "text": [
      "(True, '')\n"
     ]
    }
   ],
   "source": [
    "print(validate(eric, template))"
   ]
  },
  {
   "cell_type": "code",
   "execution_count": null,
   "id": "tutorial-facility",
   "metadata": {},
   "outputs": [],
   "source": []
  }
 ],
 "metadata": {
  "kernelspec": {
   "display_name": "Python 3",
   "language": "python",
   "name": "python3"
  },
  "language_info": {
   "codemirror_mode": {
    "name": "ipython",
    "version": 3
   },
   "file_extension": ".py",
   "mimetype": "text/x-python",
   "name": "python",
   "nbconvert_exporter": "python",
   "pygments_lexer": "ipython3",
   "version": "3.9.1"
  }
 },
 "nbformat": 4,
 "nbformat_minor": 5
}
