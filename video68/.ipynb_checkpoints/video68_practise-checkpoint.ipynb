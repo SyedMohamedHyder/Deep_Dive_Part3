{
 "cells": [
  {
   "cell_type": "code",
   "execution_count": 1,
   "id": "national-garden",
   "metadata": {},
   "outputs": [],
   "source": [
    "from timeit import timeit\n",
    "from collections import OrderedDict"
   ]
  },
  {
   "cell_type": "code",
   "execution_count": 7,
   "id": "controversial-usage",
   "metadata": {},
   "outputs": [],
   "source": [
    "d = OrderedDict(first=1, second=2, third=3, fourth=4)"
   ]
  },
  {
   "cell_type": "code",
   "execution_count": 8,
   "id": "smart-modeling",
   "metadata": {},
   "outputs": [
    {
     "data": {
      "text/plain": [
       "OrderedDict([('first', 1), ('second', 2), ('third', 3), ('fourth', 4)])"
      ]
     },
     "execution_count": 8,
     "metadata": {},
     "output_type": "execute_result"
    }
   ],
   "source": [
    "d"
   ]
  },
  {
   "cell_type": "code",
   "execution_count": 9,
   "id": "collect-guatemala",
   "metadata": {},
   "outputs": [
    {
     "data": {
      "text/plain": [
       "('fourth', 4)"
      ]
     },
     "execution_count": 9,
     "metadata": {},
     "output_type": "execute_result"
    }
   ],
   "source": [
    "d.popitem()"
   ]
  },
  {
   "cell_type": "code",
   "execution_count": 10,
   "id": "preceding-envelope",
   "metadata": {},
   "outputs": [
    {
     "data": {
      "text/plain": [
       "OrderedDict([('first', 1), ('second', 2), ('third', 3)])"
      ]
     },
     "execution_count": 10,
     "metadata": {},
     "output_type": "execute_result"
    }
   ],
   "source": [
    "d"
   ]
  },
  {
   "cell_type": "code",
   "execution_count": 11,
   "id": "informal-milan",
   "metadata": {},
   "outputs": [
    {
     "data": {
      "text/plain": [
       "('first', 1)"
      ]
     },
     "execution_count": 11,
     "metadata": {},
     "output_type": "execute_result"
    }
   ],
   "source": [
    "d.popitem(last=False)"
   ]
  },
  {
   "cell_type": "code",
   "execution_count": 12,
   "id": "emotional-spanking",
   "metadata": {},
   "outputs": [
    {
     "data": {
      "text/plain": [
       "OrderedDict([('second', 2), ('third', 3)])"
      ]
     },
     "execution_count": 12,
     "metadata": {},
     "output_type": "execute_result"
    }
   ],
   "source": [
    "d"
   ]
  },
  {
   "cell_type": "code",
   "execution_count": 13,
   "id": "naughty-genome",
   "metadata": {},
   "outputs": [],
   "source": [
    "d = OrderedDict(first=1, second=2, third=3, fourth=4)"
   ]
  },
  {
   "cell_type": "code",
   "execution_count": 14,
   "id": "offshore-charge",
   "metadata": {},
   "outputs": [],
   "source": [
    "d.move_to_end('second')"
   ]
  },
  {
   "cell_type": "code",
   "execution_count": 15,
   "id": "worthy-blues",
   "metadata": {},
   "outputs": [
    {
     "data": {
      "text/plain": [
       "OrderedDict([('first', 1), ('third', 3), ('fourth', 4), ('second', 2)])"
      ]
     },
     "execution_count": 15,
     "metadata": {},
     "output_type": "execute_result"
    }
   ],
   "source": [
    "d"
   ]
  },
  {
   "cell_type": "code",
   "execution_count": 16,
   "id": "oriented-arbor",
   "metadata": {},
   "outputs": [],
   "source": [
    "d.move_to_end('third', last=False)"
   ]
  },
  {
   "cell_type": "code",
   "execution_count": 17,
   "id": "incorrect-jewel",
   "metadata": {},
   "outputs": [
    {
     "data": {
      "text/plain": [
       "OrderedDict([('third', 3), ('first', 1), ('fourth', 4), ('second', 2)])"
      ]
     },
     "execution_count": 17,
     "metadata": {},
     "output_type": "execute_result"
    }
   ],
   "source": [
    "d"
   ]
  },
  {
   "cell_type": "code",
   "execution_count": 30,
   "id": "bulgarian-fantasy",
   "metadata": {},
   "outputs": [],
   "source": [
    "d1 = OrderedDict(a=1, b=2)\n",
    "d2 = OrderedDict(b=2, a=1)\n",
    "\n",
    "d3 = dict(a=1, b=2)\n",
    "d4 = dict(b=2, a=1)\n",
    "\n",
    "all_dicts = d1, d2, d3, d4"
   ]
  },
  {
   "cell_type": "code",
   "execution_count": 34,
   "id": "entertaining-norwegian",
   "metadata": {},
   "outputs": [
    {
     "data": {
      "text/plain": [
       "{\"OrderedDict([('a', 1), ('b', 2)])==OrderedDict([('a', 1), ('b', 2)])\": True,\n",
       " \"OrderedDict([('a', 1), ('b', 2)])==OrderedDict([('b', 2), ('a', 1)])\": False,\n",
       " \"OrderedDict([('a', 1), ('b', 2)])=={'a': 1, 'b': 2}\": True,\n",
       " \"OrderedDict([('a', 1), ('b', 2)])=={'b': 2, 'a': 1}\": True,\n",
       " \"OrderedDict([('b', 2), ('a', 1)])==OrderedDict([('a', 1), ('b', 2)])\": False,\n",
       " \"OrderedDict([('b', 2), ('a', 1)])==OrderedDict([('b', 2), ('a', 1)])\": True,\n",
       " \"OrderedDict([('b', 2), ('a', 1)])=={'a': 1, 'b': 2}\": True,\n",
       " \"OrderedDict([('b', 2), ('a', 1)])=={'b': 2, 'a': 1}\": True,\n",
       " \"{'a': 1, 'b': 2}==OrderedDict([('a', 1), ('b', 2)])\": True,\n",
       " \"{'a': 1, 'b': 2}==OrderedDict([('b', 2), ('a', 1)])\": True,\n",
       " \"{'a': 1, 'b': 2}=={'a': 1, 'b': 2}\": True,\n",
       " \"{'a': 1, 'b': 2}=={'b': 2, 'a': 1}\": True,\n",
       " \"{'b': 2, 'a': 1}==OrderedDict([('a', 1), ('b', 2)])\": True,\n",
       " \"{'b': 2, 'a': 1}==OrderedDict([('b', 2), ('a', 1)])\": True,\n",
       " \"{'b': 2, 'a': 1}=={'a': 1, 'b': 2}\": True,\n",
       " \"{'b': 2, 'a': 1}=={'b': 2, 'a': 1}\": True}"
      ]
     },
     "execution_count": 34,
     "metadata": {},
     "output_type": "execute_result"
    }
   ],
   "source": [
    "{\n",
    "    f'{d1}=={d2}': d1==d2 \n",
    "    for d1 in all_dicts\n",
    "    for d2 in all_dicts\n",
    "}"
   ]
  },
  {
   "cell_type": "code",
   "execution_count": 35,
   "id": "smoking-infection",
   "metadata": {},
   "outputs": [
    {
     "data": {
      "text/plain": [
       "True"
      ]
     },
     "execution_count": 35,
     "metadata": {},
     "output_type": "execute_result"
    }
   ],
   "source": [
    "isinstance(d1, OrderedDict)"
   ]
  },
  {
   "cell_type": "code",
   "execution_count": 36,
   "id": "usual-upset",
   "metadata": {},
   "outputs": [
    {
     "data": {
      "text/plain": [
       "True"
      ]
     },
     "execution_count": 36,
     "metadata": {},
     "output_type": "execute_result"
    }
   ],
   "source": [
    "isinstance(d1, dict)"
   ]
  },
  {
   "cell_type": "code",
   "execution_count": 37,
   "id": "dental-cricket",
   "metadata": {},
   "outputs": [],
   "source": [
    "from collections import deque"
   ]
  },
  {
   "cell_type": "code",
   "execution_count": 45,
   "id": "adolescent-shooting",
   "metadata": {},
   "outputs": [],
   "source": [
    "def create_OrderedDict(n=100):\n",
    "    d = OrderedDict()\n",
    "    for i in range(n):\n",
    "        d[str(i)] = i\n",
    "    return d\n",
    "\n",
    "def create_deque(n=100):\n",
    "    dq = deque()\n",
    "    for i in range(n):\n",
    "        dq.append((str(i), i))\n",
    "    return dq\n",
    "\n",
    "def pop_from_OrderedDict(n=100, last=True):\n",
    "    d = create_OrderedDict(n)\n",
    "    while True:\n",
    "        try:\n",
    "            d.popitem(last=last)\n",
    "        except KeyError:\n",
    "            break\n",
    "            \n",
    "def pop_from_deque(n=100, last=True):\n",
    "    dq = create_deque(n)\n",
    "    pop_fn = dq.pop if last else dq.popleft\n",
    "    while True:\n",
    "        try:\n",
    "            pop_fn()\n",
    "        except IndexError:\n",
    "            break"
   ]
  },
  {
   "cell_type": "code",
   "execution_count": 53,
   "id": "cognitive-observation",
   "metadata": {},
   "outputs": [],
   "source": [
    "timings = {\n",
    "    'dict_create': timeit('create_OrderedDict(n=1000)', globals=globals(), number=1000),\n",
    "    'deque_create': timeit('create_deque(n=1000)', globals=globals(), number=1000),\n",
    "    'dict_create_pop_last': timeit('pop_from_OrderedDict(n=1000)', globals=globals(), number=1000),\n",
    "    'deque_create_pop_last': timeit('pop_from_deque(n=1000)', globals=globals(), number=1000),\n",
    "    'dict_create_pop_front': timeit('pop_from_OrderedDict(n=1000, last=False)', globals=globals(), \n",
    "                             number=1000),\n",
    "    'deque_create_pop_front': timeit('pop_from_deque(n=1000, last=False)', globals=globals(), \n",
    "                                     number=1000)\n",
    "}\n",
    "timings['dict_pop_last'] = timings['dict_create_pop_last'] - timings['dict_create']\n",
    "timings['dict_pop_front'] = timings['dict_create_pop_front'] - timings['dict_create']\n",
    "timings['deque_pop_last'] = timings['deque_create_pop_last'] - timings['deque_create']\n",
    "timings['deque_pop_first'] = timings['deque_create_pop_front'] - timings['deque_create']"
   ]
  },
  {
   "cell_type": "code",
   "execution_count": 54,
   "id": "revised-situation",
   "metadata": {},
   "outputs": [
    {
     "data": {
      "text/plain": [
       "{'dict_create': 0.7486982999998872,\n",
       " 'deque_create': 0.033347199999752775,\n",
       " 'dict_create_pop_last': 1.1386419000000387,\n",
       " 'deque_create_pop_last': 0.10357749999957377,\n",
       " 'dict_create_pop_front': 1.0767437999998037,\n",
       " 'deque_create_pop_front': 0.1178979999999683,\n",
       " 'dict_pop_last': 0.3899436000001515,\n",
       " 'dict_pop_front': 0.3280454999999165,\n",
       " 'deque_pop_last': 0.070230299999821,\n",
       " 'deque_pop_first': 0.08455080000021553}"
      ]
     },
     "execution_count": 54,
     "metadata": {},
     "output_type": "execute_result"
    }
   ],
   "source": [
    "timings"
   ]
  },
  {
   "cell_type": "code",
   "execution_count": 52,
   "id": "virtual-dinner",
   "metadata": {},
   "outputs": [
    {
     "name": "stdout",
     "output_type": "stream",
     "text": [
      "dict_create: 0.7784596999999849\n",
      "deque_create: 0.03376200000002427\n",
      "dict_create_pop_last: 1.1161004000000503\n",
      "dict_create_pop_first: 1.0710626999998567\n",
      "deque_create_pop_last: 0.10353750000012951\n",
      "deque_create_pop_first: 0.10267740000017511\n",
      "dict_pop_last: 0.3376407000000654\n",
      "dict_pop_first: 0.2926029999998718\n",
      "deque_pop_last: 0.06977550000010524\n",
      "deque_pop_first: 0.06891540000015084\n"
     ]
    }
   ],
   "source": [
    "def create_ordereddict(n=100):\n",
    "    d = OrderedDict()\n",
    "    for i in range(n):\n",
    "        d[str(i)] = i\n",
    "    return d\n",
    "\n",
    "def create_deque(n=100):\n",
    "    return deque(range(n))   \n",
    "\n",
    "def pop_all_ordered_dict(n=1000, last=True):\n",
    "    d = create_ordereddict(n)\n",
    "    while True:\n",
    "        try:\n",
    "            d.popitem(last=last)\n",
    "        except KeyError:\n",
    "            # done popping\n",
    "            break           \n",
    "            \n",
    "def pop_all_deque(n=1000, last=True):\n",
    "    dq = create_deque(n)\n",
    "    if last:\n",
    "        pop = dq.pop\n",
    "    else:\n",
    "        pop = dq.popleft\n",
    "\n",
    "    while True:\n",
    "        try:\n",
    "            pop()\n",
    "        except IndexError:\n",
    "            break\n",
    "\n",
    "\n",
    "\n",
    "n = 1_000\n",
    "number = 1_000\n",
    "\n",
    "results = dict()\n",
    "\n",
    "results['dict_create'] = timeit('create_ordereddict(n)', \n",
    "                                globals=globals(), \n",
    "                                number=number)\n",
    "\n",
    "results['deque_create'] = timeit('create_deque(n)', \n",
    "                                 globals=globals(), \n",
    "                                 number=number)\n",
    "\n",
    "results['dict_create_pop_last'] = timeit(\n",
    "    'pop_all_ordered_dict(n, last=True)',\n",
    "    globals=globals(), number=number)\n",
    "\n",
    "results['dict_create_pop_first'] = timeit(\n",
    "    'pop_all_ordered_dict(n, last=False)',\n",
    "    globals=globals(), number=number)\n",
    "\n",
    "results['deque_create_pop_last'] = timeit(\n",
    "    'pop_all_deque(n, last=True)',\n",
    "    globals=globals(), number=number\n",
    ")\n",
    "\n",
    "results['deque_create_pop_first'] = timeit(\n",
    "    'pop_all_deque(n, last=False)',\n",
    "    globals=globals(), number=number\n",
    ")\n",
    "\n",
    "results['dict_pop_last'] = (\n",
    "    results['dict_create_pop_last'] - results['dict_create'])\n",
    "\n",
    "results['dict_pop_first'] = (\n",
    "    results['dict_create_pop_first'] - results['dict_create'])\n",
    "\n",
    "results['deque_pop_last'] = (\n",
    "    results['deque_create_pop_last'] - results['deque_create'])\n",
    "\n",
    "results['deque_pop_first'] = (\n",
    "    results['deque_create_pop_first'] - results['deque_create'])\n",
    "\n",
    "for key, result in results.items():\n",
    "    print(f'{key}: {result}')\n"
   ]
  },
  {
   "cell_type": "code",
   "execution_count": null,
   "id": "forbidden-colonial",
   "metadata": {},
   "outputs": [],
   "source": []
  }
 ],
 "metadata": {
  "kernelspec": {
   "display_name": "Python 3",
   "language": "python",
   "name": "python3"
  },
  "language_info": {
   "codemirror_mode": {
    "name": "ipython",
    "version": 3
   },
   "file_extension": ".py",
   "mimetype": "text/x-python",
   "name": "python",
   "nbconvert_exporter": "python",
   "pygments_lexer": "ipython3",
   "version": "3.9.1"
  }
 },
 "nbformat": 4,
 "nbformat_minor": 5
}
