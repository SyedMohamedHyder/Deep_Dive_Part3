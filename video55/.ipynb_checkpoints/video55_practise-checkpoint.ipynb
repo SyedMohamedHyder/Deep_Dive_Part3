{
 "cells": [
  {
   "cell_type": "code",
   "execution_count": 1,
   "id": "ultimate-influence",
   "metadata": {},
   "outputs": [],
   "source": [
    "import json"
   ]
  },
  {
   "cell_type": "code",
   "execution_count": 2,
   "id": "immediate-subject",
   "metadata": {},
   "outputs": [],
   "source": [
    "j = '''\n",
    "    {\n",
    "        \"a\": 100,\n",
    "        \"b\": [1, 2, 3],\n",
    "        \"c\": \"python\",\n",
    "        \"d\": {\n",
    "            \"e\": 4,\n",
    "            \"f\": 5.5\n",
    "        }\n",
    "    }\n",
    "'''"
   ]
  },
  {
   "cell_type": "code",
   "execution_count": 3,
   "id": "mexican-rental",
   "metadata": {},
   "outputs": [],
   "source": [
    "class CustomDecoder(json.JSONDecoder):\n",
    "    def decode(self, arg):\n",
    "        return 'simple python'"
   ]
  },
  {
   "cell_type": "code",
   "execution_count": 4,
   "id": "otherwise-military",
   "metadata": {},
   "outputs": [
    {
     "data": {
      "text/plain": [
       "'simple python'"
      ]
     },
     "execution_count": 4,
     "metadata": {},
     "output_type": "execute_result"
    }
   ],
   "source": [
    "json.loads(j, cls=CustomDecoder)"
   ]
  },
  {
   "cell_type": "code",
   "execution_count": 5,
   "id": "covered-peter",
   "metadata": {},
   "outputs": [],
   "source": [
    "class Point:\n",
    "    def __init__(self, x, y):\n",
    "        self.x = x\n",
    "        self.y = y\n",
    "        \n",
    "    def __repr__(self):\n",
    "        return f'Point(x={self.x}, y={self.y})'"
   ]
  },
  {
   "cell_type": "code",
   "execution_count": 6,
   "id": "verified-cutting",
   "metadata": {},
   "outputs": [],
   "source": [
    "j_points = '''\n",
    "{\n",
    "    \"points\": [\n",
    "        [10, 20],\n",
    "        [-1, -2],\n",
    "        [0.5, 0.5]\n",
    "    ]\n",
    "}\n",
    "'''\n",
    "\n",
    "j_other = '''\n",
    "{\n",
    "    \"a\": 1,\n",
    "    \"b\": 2\n",
    "}\n",
    "'''"
   ]
  },
  {
   "cell_type": "code",
   "execution_count": 42,
   "id": "decent-circumstances",
   "metadata": {},
   "outputs": [],
   "source": [
    "class CustomDecoder(json.JSONDecoder):\n",
    "    def decode(self, arg):\n",
    "        obj = super().decode(arg)\n",
    "        return obj"
   ]
  },
  {
   "cell_type": "code",
   "execution_count": 43,
   "id": "separated-snowboard",
   "metadata": {
    "scrolled": false
   },
   "outputs": [
    {
     "data": {
      "text/plain": [
       "{'points': [[10, 20], [-1, -2], [0.5, 0.5]]}"
      ]
     },
     "execution_count": 43,
     "metadata": {},
     "output_type": "execute_result"
    }
   ],
   "source": [
    "json.loads(j_points, cls=CustomDecoder)"
   ]
  },
  {
   "cell_type": "code",
   "execution_count": 44,
   "id": "agreed-maldives",
   "metadata": {},
   "outputs": [
    {
     "data": {
      "text/plain": [
       "{'points': [[10, 20], [-1, -2], [0.5, 0.5]]}"
      ]
     },
     "execution_count": 44,
     "metadata": {},
     "output_type": "execute_result"
    }
   ],
   "source": [
    "json.loads(j_points)"
   ]
  },
  {
   "cell_type": "code",
   "execution_count": 45,
   "id": "undefined-usage",
   "metadata": {},
   "outputs": [
    {
     "name": "stdout",
     "output_type": "stream",
     "text": [
      "{'points': [[10, 20], [-1, -2], [0.5, 0.5]]}\n"
     ]
    }
   ],
   "source": [
    "print(json.loads(j_points, cls=CustomDecoder))"
   ]
  },
  {
   "cell_type": "code",
   "execution_count": 16,
   "id": "heavy-platinum",
   "metadata": {},
   "outputs": [],
   "source": [
    "class CustomDecoder(json.JSONDecoder):\n",
    "    def decode(self, arg):\n",
    "        obj = super().decode(arg)\n",
    "        if 'points' in obj and obj['points']:\n",
    "            obj['points'] = [Point(x, y) for x, y in obj['points']]\n",
    "        return obj"
   ]
  },
  {
   "cell_type": "code",
   "execution_count": 17,
   "id": "overall-medicare",
   "metadata": {},
   "outputs": [
    {
     "data": {
      "text/plain": [
       "{'points': [Point(x=10, y=20), Point(x=-1, y=-2), Point(x=0.5, y=0.5)]}"
      ]
     },
     "execution_count": 17,
     "metadata": {},
     "output_type": "execute_result"
    }
   ],
   "source": [
    "json.loads(j_points, cls=CustomDecoder)"
   ]
  },
  {
   "cell_type": "code",
   "execution_count": 18,
   "id": "historic-fence",
   "metadata": {},
   "outputs": [
    {
     "data": {
      "text/plain": [
       "{'a': 1, 'b': 2}"
      ]
     },
     "execution_count": 18,
     "metadata": {},
     "output_type": "execute_result"
    }
   ],
   "source": [
    "json.loads(j_other, cls=CustomDecoder)"
   ]
  },
  {
   "cell_type": "code",
   "execution_count": 21,
   "id": "miniature-ceiling",
   "metadata": {},
   "outputs": [],
   "source": [
    "def change_points(arg):\n",
    "    if 'points' in arg and arg['points']:\n",
    "        arg['points'] = [Point(x, y) for x, y in arg['points']]\n",
    "    return arg"
   ]
  },
  {
   "cell_type": "code",
   "execution_count": 22,
   "id": "tropical-shadow",
   "metadata": {},
   "outputs": [
    {
     "data": {
      "text/plain": [
       "{'points': [Point(x=10, y=20), Point(x=-1, y=-2), Point(x=0.5, y=0.5)]}"
      ]
     },
     "execution_count": 22,
     "metadata": {},
     "output_type": "execute_result"
    }
   ],
   "source": [
    "json.loads(j_points, object_hook=change_points)"
   ]
  },
  {
   "cell_type": "code",
   "execution_count": 23,
   "id": "thousand-gazette",
   "metadata": {},
   "outputs": [
    {
     "data": {
      "text/plain": [
       "{'a': 1, 'b': 2}"
      ]
     },
     "execution_count": 23,
     "metadata": {},
     "output_type": "execute_result"
    }
   ],
   "source": [
    "json.loads(j_other, object_hook=change_points)"
   ]
  },
  {
   "cell_type": "code",
   "execution_count": 24,
   "id": "distinct-document",
   "metadata": {},
   "outputs": [],
   "source": [
    "j = '''\n",
    "{\n",
    "    \"a\": 100,\n",
    "    \"b\": 0.5,\n",
    "    \"rectangle\": {\n",
    "        \"corners\": {\n",
    "            \"b_left\": {\"_type\": \"point\", \"x\": -1, \"y\": -1},\n",
    "            \"b_right\": {\"_type\": \"point\", \"x\": 1, \"y\": -1},\n",
    "            \"t_left\": {\"_type\": \"point\", \"x\": -1, \"y\": 1},\n",
    "            \"t_right\": {\"_type\": \"point\", \"x\": 1, \"y\": 1}\n",
    "        },\n",
    "        \"rotate\": {\"_type\" : \"point\", \"x\": 0, \"y\": 0},\n",
    "        \"interior_pts\": [\n",
    "            {\"_type\": \"point\", \"x\": 0, \"y\": 0},\n",
    "            {\"_type\": \"point\", \"x\": 0.5, \"y\": 0.5}\n",
    "        ]\n",
    "    }\n",
    "}\n",
    "'''"
   ]
  },
  {
   "cell_type": "code",
   "execution_count": 25,
   "id": "suited-track",
   "metadata": {},
   "outputs": [
    {
     "data": {
      "text/plain": [
       "{'a': 100,\n",
       " 'b': 0.5,\n",
       " 'rectangle': {'corners': {'b_left': {'_type': 'point', 'x': -1, 'y': -1},\n",
       "   'b_right': {'_type': 'point', 'x': 1, 'y': -1},\n",
       "   't_left': {'_type': 'point', 'x': -1, 'y': 1},\n",
       "   't_right': {'_type': 'point', 'x': 1, 'y': 1}},\n",
       "  'rotate': {'_type': 'point', 'x': 0, 'y': 0},\n",
       "  'interior_pts': [{'_type': 'point', 'x': 0, 'y': 0},\n",
       "   {'_type': 'point', 'x': 0.5, 'y': 0.5}]}}"
      ]
     },
     "execution_count": 25,
     "metadata": {},
     "output_type": "execute_result"
    }
   ],
   "source": [
    "json.loads(j, object_hook=change_points)"
   ]
  },
  {
   "cell_type": "code",
   "execution_count": 30,
   "id": "national-cruise",
   "metadata": {},
   "outputs": [],
   "source": [
    "def change_points(arg):\n",
    "    if arg.get('_type')=='point' and 'x' in arg and 'y' in arg:\n",
    "        return Point(arg['x'], arg['y'])\n",
    "    else:\n",
    "        return arg"
   ]
  },
  {
   "cell_type": "code",
   "execution_count": 31,
   "id": "loaded-penguin",
   "metadata": {},
   "outputs": [
    {
     "data": {
      "text/plain": [
       "{'a': 100,\n",
       " 'b': 0.5,\n",
       " 'rectangle': {'corners': {'b_left': Point(x=-1, y=-1),\n",
       "   'b_right': Point(x=1, y=-1),\n",
       "   't_left': Point(x=-1, y=1),\n",
       "   't_right': Point(x=1, y=1)},\n",
       "  'rotate': Point(x=0, y=0),\n",
       "  'interior_pts': [Point(x=0, y=0), Point(x=0.5, y=0.5)]}}"
      ]
     },
     "execution_count": 31,
     "metadata": {},
     "output_type": "execute_result"
    }
   ],
   "source": [
    "json.loads(j, object_hook=change_points)"
   ]
  },
  {
   "cell_type": "code",
   "execution_count": 35,
   "id": "russian-biotechnology",
   "metadata": {},
   "outputs": [],
   "source": [
    "from decimal import Decimal"
   ]
  },
  {
   "cell_type": "code",
   "execution_count": 39,
   "id": "considered-living",
   "metadata": {},
   "outputs": [],
   "source": [
    "class CustomDecoder(json.JSONDecoder):\n",
    "    def __init__(self, *args, **kwargs):\n",
    "        super().__init__(parse_float=Decimal)\n",
    "    def decode(self, arg):\n",
    "        obj = super().decode(arg)\n",
    "        return obj"
   ]
  },
  {
   "cell_type": "code",
   "execution_count": 41,
   "id": "twenty-modern",
   "metadata": {},
   "outputs": [
    {
     "data": {
      "text/plain": [
       "{'a': 100,\n",
       " 'b': Decimal('0.5'),\n",
       " 'rectangle': {'corners': {'b_left': {'_type': 'point', 'x': -1, 'y': -1},\n",
       "   'b_right': {'_type': 'point', 'x': 1, 'y': -1},\n",
       "   't_left': {'_type': 'point', 'x': -1, 'y': 1},\n",
       "   't_right': {'_type': 'point', 'x': 1, 'y': 1}},\n",
       "  'rotate': {'_type': 'point', 'x': 0, 'y': 0},\n",
       "  'interior_pts': [{'_type': 'point', 'x': 0, 'y': 0},\n",
       "   {'_type': 'point', 'x': Decimal('0.5'), 'y': Decimal('0.5')}]}}"
      ]
     },
     "execution_count": 41,
     "metadata": {},
     "output_type": "execute_result"
    }
   ],
   "source": [
    "json.loads(j, cls=CustomDecoder)"
   ]
  },
  {
   "cell_type": "code",
   "execution_count": 46,
   "id": "appropriate-mainstream",
   "metadata": {},
   "outputs": [],
   "source": [
    "import re"
   ]
  },
  {
   "cell_type": "code",
   "execution_count": 49,
   "id": "geographic-confidence",
   "metadata": {},
   "outputs": [],
   "source": [
    "class CustomDecoder(json.JSONDecoder):\n",
    "    def __init__(self, *args, **kwargs):\n",
    "        super().__init__(parse_float=Decimal)\n",
    "        \n",
    "    def decode(self, arg):\n",
    "        pattern = r'\"_type\"\\s*:\\s*\"point\"'\n",
    "        obj = super().decode(arg)\n",
    "        if re.search(pattern, arg):\n",
    "            print('Converting points')\n",
    "        return obj"
   ]
  },
  {
   "cell_type": "code",
   "execution_count": 50,
   "id": "annual-dispute",
   "metadata": {},
   "outputs": [
    {
     "name": "stdout",
     "output_type": "stream",
     "text": [
      "Converting points\n"
     ]
    },
    {
     "data": {
      "text/plain": [
       "{'a': 100,\n",
       " 'b': Decimal('0.5'),\n",
       " 'rectangle': {'corners': {'b_left': {'_type': 'point', 'x': -1, 'y': -1},\n",
       "   'b_right': {'_type': 'point', 'x': 1, 'y': -1},\n",
       "   't_left': {'_type': 'point', 'x': -1, 'y': 1},\n",
       "   't_right': {'_type': 'point', 'x': 1, 'y': 1}},\n",
       "  'rotate': {'_type': 'point', 'x': 0, 'y': 0},\n",
       "  'interior_pts': [{'_type': 'point', 'x': 0, 'y': 0},\n",
       "   {'_type': 'point', 'x': Decimal('0.5'), 'y': Decimal('0.5')}]}}"
      ]
     },
     "execution_count": 50,
     "metadata": {},
     "output_type": "execute_result"
    }
   ],
   "source": [
    "json.loads(j, cls=CustomDecoder)"
   ]
  },
  {
   "cell_type": "code",
   "execution_count": 60,
   "id": "dress-orbit",
   "metadata": {},
   "outputs": [],
   "source": [
    "class CustomDecoder(json.JSONDecoder):\n",
    "    def __init__(self, *args, **kwargs):\n",
    "        super().__init__(parse_float=Decimal)\n",
    "        \n",
    "    def decode(self, arg):\n",
    "        pattern = r'\"_type\"\\s*:\\s*\"point\"'\n",
    "        obj = super().decode(arg)\n",
    "        if re.search(pattern, arg):\n",
    "            obj = self.convert_points(obj)\n",
    "        return obj\n",
    "    \n",
    "    def convert_points(self, obj):\n",
    "        if isinstance(obj, dict):\n",
    "            if obj.get('_type') == 'point' and 'x' in obj and 'y' in obj:\n",
    "                obj = Point(obj['x'], obj['y'])\n",
    "            else:\n",
    "                for key, value in obj.items():\n",
    "                    if isinstance(value, dict):\n",
    "                        obj[key] = self.convert_points(value)\n",
    "                    elif isinstance(value, list):\n",
    "                        obj[key] = [self.convert_points(item) for item in value]\n",
    "        return obj"
   ]
  },
  {
   "cell_type": "code",
   "execution_count": 62,
   "id": "responsible-latex",
   "metadata": {},
   "outputs": [],
   "source": [
    "data = json.loads(j, cls=CustomDecoder)"
   ]
  },
  {
   "cell_type": "code",
   "execution_count": 64,
   "id": "confused-belize",
   "metadata": {},
   "outputs": [
    {
     "data": {
      "text/plain": [
       "Decimal('0.5')"
      ]
     },
     "execution_count": 64,
     "metadata": {},
     "output_type": "execute_result"
    }
   ],
   "source": [
    "data['rectangle']['interior_pts'][1].x"
   ]
  },
  {
   "cell_type": "code",
   "execution_count": 65,
   "id": "delayed-acrylic",
   "metadata": {},
   "outputs": [
    {
     "data": {
      "text/plain": [
       "Decimal('0.5')"
      ]
     },
     "execution_count": 65,
     "metadata": {},
     "output_type": "execute_result"
    }
   ],
   "source": [
    "data['rectangle']['interior_pts'][1].y"
   ]
  },
  {
   "cell_type": "code",
   "execution_count": 66,
   "id": "upset-shuttle",
   "metadata": {},
   "outputs": [
    {
     "data": {
      "text/plain": [
       "{'a': 100,\n",
       " 'b': Decimal('0.5'),\n",
       " 'rectangle': {'corners': {'b_left': Point(x=-1, y=-1),\n",
       "   'b_right': Point(x=1, y=-1),\n",
       "   't_left': Point(x=-1, y=1),\n",
       "   't_right': Point(x=1, y=1)},\n",
       "  'rotate': Point(x=0, y=0),\n",
       "  'interior_pts': [Point(x=0, y=0), Point(x=0.5, y=0.5)]}}"
      ]
     },
     "execution_count": 66,
     "metadata": {},
     "output_type": "execute_result"
    }
   ],
   "source": [
    "data"
   ]
  },
  {
   "cell_type": "code",
   "execution_count": 67,
   "id": "specialized-crime",
   "metadata": {},
   "outputs": [],
   "source": [
    "class CustomDecoder(json.JSONDecoder):\n",
    "    def __init__(self, *args, **kwargs):\n",
    "        super().__init__(parse_float=Decimal, object_hook=self.change_points)\n",
    "        \n",
    "    def change_points(self, arg):\n",
    "        if arg.get('_type')=='point' and 'x' in arg and 'y' in arg:\n",
    "            return Point(arg['x'], arg['y'])\n",
    "        else:\n",
    "            return arg"
   ]
  },
  {
   "cell_type": "code",
   "execution_count": 70,
   "id": "reflected-treat",
   "metadata": {},
   "outputs": [],
   "source": [
    "data = json.loads(j, cls=CustomDecoder)"
   ]
  },
  {
   "cell_type": "code",
   "execution_count": 71,
   "id": "traditional-upper",
   "metadata": {},
   "outputs": [
    {
     "data": {
      "text/plain": [
       "{'a': 100,\n",
       " 'b': Decimal('0.5'),\n",
       " 'rectangle': {'corners': {'b_left': Point(x=-1, y=-1),\n",
       "   'b_right': Point(x=1, y=-1),\n",
       "   't_left': Point(x=-1, y=1),\n",
       "   't_right': Point(x=1, y=1)},\n",
       "  'rotate': Point(x=0, y=0),\n",
       "  'interior_pts': [Point(x=0, y=0), Point(x=0.5, y=0.5)]}}"
      ]
     },
     "execution_count": 71,
     "metadata": {},
     "output_type": "execute_result"
    }
   ],
   "source": [
    "data"
   ]
  },
  {
   "cell_type": "code",
   "execution_count": 72,
   "id": "preliminary-vatican",
   "metadata": {},
   "outputs": [
    {
     "data": {
      "text/plain": [
       "Decimal('0.5')"
      ]
     },
     "execution_count": 72,
     "metadata": {},
     "output_type": "execute_result"
    }
   ],
   "source": [
    "data['rectangle']['interior_pts'][1].x"
   ]
  },
  {
   "cell_type": "code",
   "execution_count": null,
   "id": "accessory-burner",
   "metadata": {},
   "outputs": [],
   "source": []
  }
 ],
 "metadata": {
  "kernelspec": {
   "display_name": "Python 3",
   "language": "python",
   "name": "python3"
  },
  "language_info": {
   "codemirror_mode": {
    "name": "ipython",
    "version": 3
   },
   "file_extension": ".py",
   "mimetype": "text/x-python",
   "name": "python",
   "nbconvert_exporter": "python",
   "pygments_lexer": "ipython3",
   "version": "3.9.1"
  }
 },
 "nbformat": 4,
 "nbformat_minor": 5
}
