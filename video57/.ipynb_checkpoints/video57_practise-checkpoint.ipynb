{
 "cells": [
  {
   "cell_type": "code",
   "execution_count": 1,
   "id": "increasing-elizabeth",
   "metadata": {},
   "outputs": [],
   "source": [
    "from marshmallow import Schema, fields"
   ]
  },
  {
   "cell_type": "code",
   "execution_count": 3,
   "id": "detailed-wilderness",
   "metadata": {},
   "outputs": [],
   "source": [
    "from datetime import date"
   ]
  },
  {
   "cell_type": "code",
   "execution_count": 4,
   "id": "lyric-treat",
   "metadata": {},
   "outputs": [],
   "source": [
    "class Person:\n",
    "    def __init__(self, name, age, dob):\n",
    "        self.name = name\n",
    "        self.age = age\n",
    "        self.dob = dob\n",
    "        \n",
    "    def __repr__(self):\n",
    "        return f'Person(name={self.name}, age={self.age}, dob={self.dob})'"
   ]
  },
  {
   "cell_type": "code",
   "execution_count": 11,
   "id": "threaded-honor",
   "metadata": {},
   "outputs": [],
   "source": [
    "p1 = Person('Hyder', 21, date(2000, 6, 13))"
   ]
  },
  {
   "cell_type": "code",
   "execution_count": 13,
   "id": "stretch-express",
   "metadata": {},
   "outputs": [],
   "source": [
    "class PersonSchema(Schema):\n",
    "    name = fields.Str()\n",
    "    age = fields.Int()\n",
    "    dob = fields.Date()"
   ]
  },
  {
   "cell_type": "code",
   "execution_count": 14,
   "id": "weighted-method",
   "metadata": {},
   "outputs": [],
   "source": [
    "person_schema = PersonSchema()"
   ]
  },
  {
   "cell_type": "code",
   "execution_count": 16,
   "id": "offensive-stand",
   "metadata": {},
   "outputs": [],
   "source": [
    "json_person = person_schema.dumps(p1)"
   ]
  },
  {
   "cell_type": "code",
   "execution_count": 17,
   "id": "separate-compensation",
   "metadata": {},
   "outputs": [
    {
     "data": {
      "text/plain": [
       "'{\"name\": \"Hyder\", \"age\": 21, \"dob\": \"2000-06-13\"}'"
      ]
     },
     "execution_count": 17,
     "metadata": {},
     "output_type": "execute_result"
    }
   ],
   "source": [
    "json_person"
   ]
  },
  {
   "cell_type": "code",
   "execution_count": 18,
   "id": "disciplinary-organizer",
   "metadata": {},
   "outputs": [],
   "source": [
    "data = person_schema.loads(json_person)"
   ]
  },
  {
   "cell_type": "code",
   "execution_count": 19,
   "id": "complex-continuity",
   "metadata": {},
   "outputs": [
    {
     "data": {
      "text/plain": [
       "{'name': 'Hyder', 'age': 21, 'dob': datetime.date(2000, 6, 13)}"
      ]
     },
     "execution_count": 19,
     "metadata": {},
     "output_type": "execute_result"
    }
   ],
   "source": [
    "data"
   ]
  },
  {
   "cell_type": "code",
   "execution_count": 23,
   "id": "distant-colonial",
   "metadata": {},
   "outputs": [
    {
     "data": {
      "text/plain": [
       "{'name': 'Hyder', 'age': 21, 'dob': '2000-06-13'}"
      ]
     },
     "execution_count": 23,
     "metadata": {},
     "output_type": "execute_result"
    }
   ],
   "source": [
    "person_schema.dump(p1)"
   ]
  },
  {
   "cell_type": "code",
   "execution_count": 29,
   "id": "broke-slovenia",
   "metadata": {},
   "outputs": [
    {
     "data": {
      "text/plain": [
       "{}"
      ]
     },
     "execution_count": 29,
     "metadata": {},
     "output_type": "execute_result"
    }
   ],
   "source": [
    "person_schema.dump(dict(Hyder=p1))"
   ]
  },
  {
   "cell_type": "code",
   "execution_count": 30,
   "id": "coordinated-calendar",
   "metadata": {},
   "outputs": [
    {
     "data": {
      "text/plain": [
       "{'Hyder': Person(name=Hyder, age=21, dob=2000-06-13)}"
      ]
     },
     "execution_count": 30,
     "metadata": {},
     "output_type": "execute_result"
    }
   ],
   "source": [
    "dict(Hyder=p1)"
   ]
  },
  {
   "cell_type": "code",
   "execution_count": 33,
   "id": "behavioral-mobility",
   "metadata": {},
   "outputs": [],
   "source": [
    "from collections import namedtuple"
   ]
  },
  {
   "cell_type": "code",
   "execution_count": 34,
   "id": "boring-uniform",
   "metadata": {},
   "outputs": [],
   "source": [
    "PT = namedtuple('PT', 'name, age, dob')"
   ]
  },
  {
   "cell_type": "code",
   "execution_count": 35,
   "id": "comparable-internship",
   "metadata": {},
   "outputs": [
    {
     "data": {
      "text/plain": [
       "'{\"name\": \"Syed\", \"age\": 10, \"dob\": \"2000-06-13\"}'"
      ]
     },
     "execution_count": 35,
     "metadata": {},
     "output_type": "execute_result"
    }
   ],
   "source": [
    "person_schema.dumps(PT('Syed', 10, date(2000, 6, 13)))"
   ]
  },
  {
   "cell_type": "code",
   "execution_count": 36,
   "id": "independent-sigma",
   "metadata": {},
   "outputs": [
    {
     "data": {
      "text/plain": [
       "PT(name='Syed', age=10, dob=datetime.date(2000, 6, 13))"
      ]
     },
     "execution_count": 36,
     "metadata": {},
     "output_type": "execute_result"
    }
   ],
   "source": [
    "PT('Syed', 10, date(2000, 6, 13))"
   ]
  },
  {
   "cell_type": "code",
   "execution_count": 39,
   "id": "warming-volume",
   "metadata": {},
   "outputs": [],
   "source": [
    "p4 = Person(100, None, date(2000, 10, 5))"
   ]
  },
  {
   "cell_type": "code",
   "execution_count": 40,
   "id": "scenic-compact",
   "metadata": {},
   "outputs": [
    {
     "data": {
      "text/plain": [
       "'{\"name\": \"100\", \"age\": null, \"dob\": \"2000-10-05\"}'"
      ]
     },
     "execution_count": 40,
     "metadata": {},
     "output_type": "execute_result"
    }
   ],
   "source": [
    "person_schema.dumps(p4)"
   ]
  },
  {
   "cell_type": "code",
   "execution_count": 41,
   "id": "induced-packing",
   "metadata": {},
   "outputs": [],
   "source": [
    "class Movie:\n",
    "    def __init__(self, title, year, actors):\n",
    "        self.title = title\n",
    "        self.year = year\n",
    "        self.actors = actors\n",
    "    \n",
    "    def __repr__(self):\n",
    "        return f'Movie(title={self.title}, year={self.year}, actors={self.actors})'"
   ]
  },
  {
   "cell_type": "code",
   "execution_count": 44,
   "id": "median-answer",
   "metadata": {},
   "outputs": [],
   "source": [
    "movie = Movie('Mankatha', 2011,[Person('Ajith', 50, date(1977, 3, 1)), PT('Premji', 30, date(1999,3,3))])"
   ]
  },
  {
   "cell_type": "code",
   "execution_count": 45,
   "id": "norwegian-spoke",
   "metadata": {},
   "outputs": [
    {
     "data": {
      "text/plain": [
       "Movie(title=Mankatha, year=2011, actors=[Person(name=Ajith, age=50, dob=1977-03-01), PT(name='Premji', age=30, dob=datetime.date(1999, 3, 3))])"
      ]
     },
     "execution_count": 45,
     "metadata": {},
     "output_type": "execute_result"
    }
   ],
   "source": [
    "movie"
   ]
  },
  {
   "cell_type": "code",
   "execution_count": 46,
   "id": "civic-treasurer",
   "metadata": {},
   "outputs": [],
   "source": [
    "class MovieSchema(Schema):\n",
    "    title = fields.Str()\n",
    "    year = fields.Int()\n",
    "    actors = fields.Nested(PersonSchema, many=True)"
   ]
  },
  {
   "cell_type": "code",
   "execution_count": 47,
   "id": "twelve-moderator",
   "metadata": {},
   "outputs": [],
   "source": [
    "movie_schema = MovieSchema()"
   ]
  },
  {
   "cell_type": "code",
   "execution_count": 50,
   "id": "careful-dream",
   "metadata": {},
   "outputs": [
    {
     "name": "stdout",
     "output_type": "stream",
     "text": [
      "{\n",
      "  \"actors\": [\n",
      "    {\n",
      "      \"name\": \"Ajith\",\n",
      "      \"age\": 50,\n",
      "      \"dob\": \"1977-03-01\"\n",
      "    },\n",
      "    {\n",
      "      \"name\": \"Premji\",\n",
      "      \"age\": 30,\n",
      "      \"dob\": \"1999-03-03\"\n",
      "    }\n",
      "  ],\n",
      "  \"year\": 2011,\n",
      "  \"title\": \"Mankatha\"\n",
      "}\n"
     ]
    }
   ],
   "source": [
    "print(movie_schema.dumps(movie, indent=2))"
   ]
  },
  {
   "cell_type": "code",
   "execution_count": 51,
   "id": "wireless-consent",
   "metadata": {},
   "outputs": [],
   "source": [
    "json_movie = movie_schema.dumps(movie)"
   ]
  },
  {
   "cell_type": "code",
   "execution_count": 52,
   "id": "strategic-disposal",
   "metadata": {},
   "outputs": [
    {
     "data": {
      "text/plain": [
       "{'actors': [{'name': 'Ajith', 'age': 50, 'dob': datetime.date(1977, 3, 1)},\n",
       "  {'name': 'Premji', 'age': 30, 'dob': datetime.date(1999, 3, 3)}],\n",
       " 'year': 2011,\n",
       " 'title': 'Mankatha'}"
      ]
     },
     "execution_count": 52,
     "metadata": {},
     "output_type": "execute_result"
    }
   ],
   "source": [
    "movie_schema.loads(json_movie)"
   ]
  },
  {
   "cell_type": "code",
   "execution_count": 53,
   "id": "hollow-amazon",
   "metadata": {},
   "outputs": [],
   "source": [
    "from marshmallow import post_load"
   ]
  },
  {
   "cell_type": "code",
   "execution_count": 57,
   "id": "loving-copper",
   "metadata": {},
   "outputs": [
    {
     "data": {
      "text/plain": [
       "{'actors': [{'name': 'Ajith', 'age': 50, 'dob': datetime.date(1977, 3, 1)},\n",
       "  {'name': 'Premji', 'age': 30, 'dob': datetime.date(1999, 3, 3)}],\n",
       " 'year': 2011,\n",
       " 'title': 'Mankatha'}"
      ]
     },
     "execution_count": 57,
     "metadata": {},
     "output_type": "execute_result"
    }
   ],
   "source": [
    "movie_schema.loads(json_movie)"
   ]
  },
  {
   "cell_type": "code",
   "execution_count": 93,
   "id": "boxed-chess",
   "metadata": {},
   "outputs": [],
   "source": [
    "class PersonSchema(Schema):\n",
    "    name = fields.Str()\n",
    "    age = fields.Int()\n",
    "    dob = fields.Date()\n",
    "    \n",
    "    @post_load\n",
    "    def make_person(self, data, **kwargs):\n",
    "        return Person(**data)"
   ]
  },
  {
   "cell_type": "code",
   "execution_count": 94,
   "id": "advisory-failure",
   "metadata": {},
   "outputs": [],
   "source": [
    "class MovieSchema(Schema):\n",
    "    title = fields.Str()\n",
    "    year = fields.Int()\n",
    "    actors = fields.Nested(PersonSchema, many=True)\n",
    "    \n",
    "    @post_load\n",
    "    def make_movie(self, data, **kwargs):\n",
    "        print(data)\n",
    "        print(kwargs)\n",
    "        return Movie(**data)"
   ]
  },
  {
   "cell_type": "code",
   "execution_count": 95,
   "id": "collective-bradford",
   "metadata": {},
   "outputs": [],
   "source": [
    "movie_schema = MovieSchema()"
   ]
  },
  {
   "cell_type": "code",
   "execution_count": 96,
   "id": "transparent-textbook",
   "metadata": {},
   "outputs": [
    {
     "data": {
      "text/plain": [
       "'{\"actors\": [{\"name\": \"Ajith\", \"age\": 50, \"dob\": \"1977-03-01\"}, {\"name\": \"Premji\", \"age\": 30, \"dob\": \"1999-03-03\"}], \"year\": 2011, \"title\": \"Mankatha\"}'"
      ]
     },
     "execution_count": 96,
     "metadata": {},
     "output_type": "execute_result"
    }
   ],
   "source": [
    "json_movie"
   ]
  },
  {
   "cell_type": "code",
   "execution_count": 97,
   "id": "cellular-offset",
   "metadata": {},
   "outputs": [
    {
     "name": "stdout",
     "output_type": "stream",
     "text": [
      "{'actors': [Person(name=Ajith, age=50, dob=1977-03-01), Person(name=Premji, age=30, dob=1999-03-03)], 'year': 2011, 'title': 'Mankatha'}\n",
      "{'many': False, 'partial': False}\n"
     ]
    },
    {
     "data": {
      "text/plain": [
       "Movie(title=Mankatha, year=2011, actors=[Person(name=Ajith, age=50, dob=1977-03-01), Person(name=Premji, age=30, dob=1999-03-03)])"
      ]
     },
     "execution_count": 97,
     "metadata": {},
     "output_type": "execute_result"
    }
   ],
   "source": [
    "movie_schema.loads(json_movie)"
   ]
  },
  {
   "cell_type": "code",
   "execution_count": null,
   "id": "married-queue",
   "metadata": {},
   "outputs": [],
   "source": []
  }
 ],
 "metadata": {
  "kernelspec": {
   "display_name": "Python 3",
   "language": "python",
   "name": "python3"
  },
  "language_info": {
   "codemirror_mode": {
    "name": "ipython",
    "version": 3
   },
   "file_extension": ".py",
   "mimetype": "text/x-python",
   "name": "python",
   "nbconvert_exporter": "python",
   "pygments_lexer": "ipython3",
   "version": "3.9.1"
  }
 },
 "nbformat": 4,
 "nbformat_minor": 5
}
