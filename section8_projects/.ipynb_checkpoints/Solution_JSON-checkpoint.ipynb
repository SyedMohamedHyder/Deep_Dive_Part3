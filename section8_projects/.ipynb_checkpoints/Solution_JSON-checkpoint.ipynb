{
 "cells": [
  {
   "cell_type": "code",
   "execution_count": 20,
   "id": "dress-tobacco",
   "metadata": {},
   "outputs": [],
   "source": [
    "import json\n",
    "from decimal import Decimal\n",
    "from datetime import date, datetime\n",
    "from functools import singledispatch"
   ]
  },
  {
   "cell_type": "code",
   "execution_count": 21,
   "id": "collected-attention",
   "metadata": {},
   "outputs": [],
   "source": [
    "class Stock:\n",
    "    def __init__(self, symbol, date, open_, high, low, close, volume):\n",
    "        self.symbol = symbol\n",
    "        self.date = date\n",
    "        self.open = open_\n",
    "        self.high = high\n",
    "        self.low = low\n",
    "        self.close = close\n",
    "        self.volume = volume\n",
    "        \n",
    "    def __repr__(self):\n",
    "        data = ', '.join(f'{key}= {value}' for key, value in vars(self).items())\n",
    "        return f'Stock({data})'"
   ]
  },
  {
   "cell_type": "code",
   "execution_count": 36,
   "id": "exclusive-stage",
   "metadata": {},
   "outputs": [
    {
     "data": {
      "text/plain": [
       "'date'"
      ]
     },
     "execution_count": 36,
     "metadata": {},
     "output_type": "execute_result"
    }
   ],
   "source": [
    "date(2018, 11, 22).__class__.__name__"
   ]
  },
  {
   "cell_type": "code",
   "execution_count": 37,
   "id": "judicial-graduate",
   "metadata": {},
   "outputs": [
    {
     "data": {
      "text/plain": [
       "'datetime'"
      ]
     },
     "execution_count": 37,
     "metadata": {},
     "output_type": "execute_result"
    }
   ],
   "source": [
    "datetime(2018, 11, 22, 10, 5, 12).__class__.__name__"
   ]
  },
  {
   "cell_type": "code",
   "execution_count": 34,
   "id": "popular-trout",
   "metadata": {},
   "outputs": [
    {
     "data": {
      "text/plain": [
       "'2018-11-22'"
      ]
     },
     "execution_count": 34,
     "metadata": {},
     "output_type": "execute_result"
    }
   ],
   "source": [
    "date(2018, 11, 22).isoformat()"
   ]
  },
  {
   "cell_type": "code",
   "execution_count": 22,
   "id": "everyday-travel",
   "metadata": {},
   "outputs": [],
   "source": [
    "stock_tsla = Stock('TSLA', date(2018, 11, 22), \n",
    "              Decimal('338.19'), Decimal('338.64'), Decimal('337.60'), Decimal('338.19'), 365_607)"
   ]
  },
  {
   "cell_type": "code",
   "execution_count": 23,
   "id": "single-category",
   "metadata": {},
   "outputs": [
    {
     "data": {
      "text/plain": [
       "Stock(symbol= TSLA, date= 2018-11-22, open= 338.19, high= 338.64, low= 337.60, close= 338.19, volume= 365607)"
      ]
     },
     "execution_count": 23,
     "metadata": {},
     "output_type": "execute_result"
    }
   ],
   "source": [
    "stock_tsla"
   ]
  },
  {
   "cell_type": "code",
   "execution_count": 42,
   "id": "distinguished-algebra",
   "metadata": {},
   "outputs": [
    {
     "data": {
      "text/plain": [
       "'Stock'"
      ]
     },
     "execution_count": 42,
     "metadata": {},
     "output_type": "execute_result"
    }
   ],
   "source": [
    "stock_tsla.__class__.__name__"
   ]
  },
  {
   "cell_type": "code",
   "execution_count": 24,
   "id": "engaged-parent",
   "metadata": {},
   "outputs": [],
   "source": [
    "class Trade:\n",
    "    def __init__(self, symbol, timestamp, order, price, value, commission):\n",
    "        self.symbol = symbol\n",
    "        self.timestamp = timestamp\n",
    "        self.order = order\n",
    "        self.price = price\n",
    "        self.value = value\n",
    "        self.commission = commission\n",
    "        \n",
    "    def __repr__(self):\n",
    "        data = ', '.join(f'{key}= {value}' for key, value in vars(self).items())\n",
    "        return f'Trade({data})'"
   ]
  },
  {
   "cell_type": "code",
   "execution_count": 25,
   "id": "emerging-astrology",
   "metadata": {},
   "outputs": [],
   "source": [
    "trade_tsla = Trade('TSLA', datetime(2018, 11, 22, 10, 5, 12), 'buy', Decimal('338.25'), 100, Decimal('9.99'))"
   ]
  },
  {
   "cell_type": "code",
   "execution_count": 26,
   "id": "emerging-stability",
   "metadata": {},
   "outputs": [
    {
     "data": {
      "text/plain": [
       "Trade(symbol= TSLA, timestamp= 2018-11-22 10:05:12, order= buy, price= 338.25, value= 100, commission= 9.99)"
      ]
     },
     "execution_count": 26,
     "metadata": {},
     "output_type": "execute_result"
    }
   ],
   "source": [
    "trade_tsla"
   ]
  },
  {
   "cell_type": "code",
   "execution_count": 29,
   "id": "coupled-secretariat",
   "metadata": {},
   "outputs": [],
   "source": [
    "activity = {\n",
    "    \"quotes\": [\n",
    "        Stock('TSLA', date(2018, 11, 22), \n",
    "              Decimal('338.19'), Decimal('338.64'), Decimal('337.60'), Decimal('338.19'), 365_607),\n",
    "        Stock('AAPL', date(2018, 11, 22), \n",
    "              Decimal('176.66'), Decimal('177.25'), Decimal('176.64'), Decimal('176.78'), 3_699_184),\n",
    "        Stock('MSFT', date(2018, 11, 22), \n",
    "              Decimal('103.25'), Decimal('103.48'), Decimal('103.07'), Decimal('103.11'), 4_493_689)\n",
    "    ],\n",
    "    \n",
    "    \"trades\": [\n",
    "        Trade('TSLA', datetime(2018, 11, 22, 10, 5, 12), 'buy', Decimal('338.25'), 100, Decimal('9.99')),\n",
    "        Trade('AAPL', datetime(2018, 11, 22, 10, 30, 5), 'sell', Decimal('177.01'), 20, Decimal('9.99'))\n",
    "    ]\n",
    "}"
   ]
  },
  {
   "cell_type": "code",
   "execution_count": 47,
   "id": "secure-formation",
   "metadata": {},
   "outputs": [],
   "source": [
    "@singledispatch\n",
    "def default_encoder(arg):\n",
    "    try:\n",
    "        return dict(objecttype= arg.__class__.__name__, value= vars(arg))\n",
    "    except TypeError:\n",
    "        return str(arg)\n",
    "    \n",
    "@default_encoder.register(datetime)\n",
    "def _(arg):\n",
    "    return dict(objecttype= arg.__class__.__name__, value= arg.isoformat())\n",
    "\n",
    "@default_encoder.register(date)\n",
    "def _(arg):\n",
    "    return dict(objecttype= arg.__class__.__name__, value= arg.isoformat())\n",
    "\n",
    "@default_encoder.register(Decimal)\n",
    "def _(arg):\n",
    "    return dict(objecttype= arg.__class__.__name__, value= float(arg))"
   ]
  },
  {
   "cell_type": "code",
   "execution_count": 48,
   "id": "considerable-swing",
   "metadata": {},
   "outputs": [
    {
     "name": "stdout",
     "output_type": "stream",
     "text": [
      "{\n",
      "  \"quotes\": [\n",
      "    {\n",
      "      \"objecttype\": \"Stock\",\n",
      "      \"value\": {\n",
      "        \"symbol\": \"TSLA\",\n",
      "        \"date\": {\n",
      "          \"objecttype\": \"date\",\n",
      "          \"value\": \"2018-11-22\"\n",
      "        },\n",
      "        \"open\": {\n",
      "          \"objecttype\": \"Decimal\",\n",
      "          \"value\": 338.19\n",
      "        },\n",
      "        \"high\": {\n",
      "          \"objecttype\": \"Decimal\",\n",
      "          \"value\": 338.64\n",
      "        },\n",
      "        \"low\": {\n",
      "          \"objecttype\": \"Decimal\",\n",
      "          \"value\": 337.6\n",
      "        },\n",
      "        \"close\": {\n",
      "          \"objecttype\": \"Decimal\",\n",
      "          \"value\": 338.19\n",
      "        },\n",
      "        \"volume\": 365607\n",
      "      }\n",
      "    },\n",
      "    {\n",
      "      \"objecttype\": \"Stock\",\n",
      "      \"value\": {\n",
      "        \"symbol\": \"AAPL\",\n",
      "        \"date\": {\n",
      "          \"objecttype\": \"date\",\n",
      "          \"value\": \"2018-11-22\"\n",
      "        },\n",
      "        \"open\": {\n",
      "          \"objecttype\": \"Decimal\",\n",
      "          \"value\": 176.66\n",
      "        },\n",
      "        \"high\": {\n",
      "          \"objecttype\": \"Decimal\",\n",
      "          \"value\": 177.25\n",
      "        },\n",
      "        \"low\": {\n",
      "          \"objecttype\": \"Decimal\",\n",
      "          \"value\": 176.64\n",
      "        },\n",
      "        \"close\": {\n",
      "          \"objecttype\": \"Decimal\",\n",
      "          \"value\": 176.78\n",
      "        },\n",
      "        \"volume\": 3699184\n",
      "      }\n",
      "    },\n",
      "    {\n",
      "      \"objecttype\": \"Stock\",\n",
      "      \"value\": {\n",
      "        \"symbol\": \"MSFT\",\n",
      "        \"date\": {\n",
      "          \"objecttype\": \"date\",\n",
      "          \"value\": \"2018-11-22\"\n",
      "        },\n",
      "        \"open\": {\n",
      "          \"objecttype\": \"Decimal\",\n",
      "          \"value\": 103.25\n",
      "        },\n",
      "        \"high\": {\n",
      "          \"objecttype\": \"Decimal\",\n",
      "          \"value\": 103.48\n",
      "        },\n",
      "        \"low\": {\n",
      "          \"objecttype\": \"Decimal\",\n",
      "          \"value\": 103.07\n",
      "        },\n",
      "        \"close\": {\n",
      "          \"objecttype\": \"Decimal\",\n",
      "          \"value\": 103.11\n",
      "        },\n",
      "        \"volume\": 4493689\n",
      "      }\n",
      "    }\n",
      "  ],\n",
      "  \"trades\": [\n",
      "    {\n",
      "      \"objecttype\": \"Trade\",\n",
      "      \"value\": {\n",
      "        \"symbol\": \"TSLA\",\n",
      "        \"timestamp\": {\n",
      "          \"objecttype\": \"datetime\",\n",
      "          \"value\": \"2018-11-22T10:05:12\"\n",
      "        },\n",
      "        \"order\": \"buy\",\n",
      "        \"price\": {\n",
      "          \"objecttype\": \"Decimal\",\n",
      "          \"value\": 338.25\n",
      "        },\n",
      "        \"value\": 100,\n",
      "        \"commission\": {\n",
      "          \"objecttype\": \"Decimal\",\n",
      "          \"value\": 9.99\n",
      "        }\n",
      "      }\n",
      "    },\n",
      "    {\n",
      "      \"objecttype\": \"Trade\",\n",
      "      \"value\": {\n",
      "        \"symbol\": \"AAPL\",\n",
      "        \"timestamp\": {\n",
      "          \"objecttype\": \"datetime\",\n",
      "          \"value\": \"2018-11-22T10:30:05\"\n",
      "        },\n",
      "        \"order\": \"sell\",\n",
      "        \"price\": {\n",
      "          \"objecttype\": \"Decimal\",\n",
      "          \"value\": 177.01\n",
      "        },\n",
      "        \"value\": 20,\n",
      "        \"commission\": {\n",
      "          \"objecttype\": \"Decimal\",\n",
      "          \"value\": 9.99\n",
      "        }\n",
      "      }\n",
      "    }\n",
      "  ]\n",
      "}\n"
     ]
    }
   ],
   "source": [
    "print(json.dumps(activity, default=default_encoder, indent=2))"
   ]
  },
  {
   "cell_type": "code",
   "execution_count": 86,
   "id": "configured-lease",
   "metadata": {},
   "outputs": [],
   "source": [
    "class CustomEncoder(json.JSONEncoder):\n",
    "    def default(self, arg):\n",
    "        objecttype = arg.__class__.__name__\n",
    "        if isinstance(arg, date) or isinstance(arg, datetime):\n",
    "            return dict(objecttype= objecttype, value= arg.isoformat())\n",
    "        elif isinstance(arg, Decimal):\n",
    "            return dict(objecttype= objecttype, value= str(arg))\n",
    "        elif isinstance(arg, Stock) or isinstance(arg, Trade):\n",
    "            return dict(objecttype= objecttype, value= vars(arg))\n",
    "        else:\n",
    "            return super().default(arg)"
   ]
  },
  {
   "cell_type": "code",
   "execution_count": 87,
   "id": "caring-feedback",
   "metadata": {},
   "outputs": [],
   "source": [
    "encoded_activity = json.dumps(activity, cls=CustomEncoder, indent=1)"
   ]
  },
  {
   "cell_type": "code",
   "execution_count": 88,
   "id": "surprised-surgery",
   "metadata": {},
   "outputs": [
    {
     "name": "stdout",
     "output_type": "stream",
     "text": [
      "{\n",
      " \"quotes\": [\n",
      "  {\n",
      "   \"objecttype\": \"Stock\",\n",
      "   \"value\": {\n",
      "    \"symbol\": \"TSLA\",\n",
      "    \"date\": {\n",
      "     \"objecttype\": \"date\",\n",
      "     \"value\": \"2018-11-22\"\n",
      "    },\n",
      "    \"open\": {\n",
      "     \"objecttype\": \"Decimal\",\n",
      "     \"value\": \"338.19\"\n",
      "    },\n",
      "    \"high\": {\n",
      "     \"objecttype\": \"Decimal\",\n",
      "     \"value\": \"338.64\"\n",
      "    },\n",
      "    \"low\": {\n",
      "     \"objecttype\": \"Decimal\",\n",
      "     \"value\": \"337.60\"\n",
      "    },\n",
      "    \"close\": {\n",
      "     \"objecttype\": \"Decimal\",\n",
      "     \"value\": \"338.19\"\n",
      "    },\n",
      "    \"volume\": 365607\n",
      "   }\n",
      "  },\n",
      "  {\n",
      "   \"objecttype\": \"Stock\",\n",
      "   \"value\": {\n",
      "    \"symbol\": \"AAPL\",\n",
      "    \"date\": {\n",
      "     \"objecttype\": \"date\",\n",
      "     \"value\": \"2018-11-22\"\n",
      "    },\n",
      "    \"open\": {\n",
      "     \"objecttype\": \"Decimal\",\n",
      "     \"value\": \"176.66\"\n",
      "    },\n",
      "    \"high\": {\n",
      "     \"objecttype\": \"Decimal\",\n",
      "     \"value\": \"177.25\"\n",
      "    },\n",
      "    \"low\": {\n",
      "     \"objecttype\": \"Decimal\",\n",
      "     \"value\": \"176.64\"\n",
      "    },\n",
      "    \"close\": {\n",
      "     \"objecttype\": \"Decimal\",\n",
      "     \"value\": \"176.78\"\n",
      "    },\n",
      "    \"volume\": 3699184\n",
      "   }\n",
      "  },\n",
      "  {\n",
      "   \"objecttype\": \"Stock\",\n",
      "   \"value\": {\n",
      "    \"symbol\": \"MSFT\",\n",
      "    \"date\": {\n",
      "     \"objecttype\": \"date\",\n",
      "     \"value\": \"2018-11-22\"\n",
      "    },\n",
      "    \"open\": {\n",
      "     \"objecttype\": \"Decimal\",\n",
      "     \"value\": \"103.25\"\n",
      "    },\n",
      "    \"high\": {\n",
      "     \"objecttype\": \"Decimal\",\n",
      "     \"value\": \"103.48\"\n",
      "    },\n",
      "    \"low\": {\n",
      "     \"objecttype\": \"Decimal\",\n",
      "     \"value\": \"103.07\"\n",
      "    },\n",
      "    \"close\": {\n",
      "     \"objecttype\": \"Decimal\",\n",
      "     \"value\": \"103.11\"\n",
      "    },\n",
      "    \"volume\": 4493689\n",
      "   }\n",
      "  }\n",
      " ],\n",
      " \"trades\": [\n",
      "  {\n",
      "   \"objecttype\": \"Trade\",\n",
      "   \"value\": {\n",
      "    \"symbol\": \"TSLA\",\n",
      "    \"timestamp\": {\n",
      "     \"objecttype\": \"datetime\",\n",
      "     \"value\": \"2018-11-22T10:05:12\"\n",
      "    },\n",
      "    \"order\": \"buy\",\n",
      "    \"price\": {\n",
      "     \"objecttype\": \"Decimal\",\n",
      "     \"value\": \"338.25\"\n",
      "    },\n",
      "    \"value\": 100,\n",
      "    \"commission\": {\n",
      "     \"objecttype\": \"Decimal\",\n",
      "     \"value\": \"9.99\"\n",
      "    }\n",
      "   }\n",
      "  },\n",
      "  {\n",
      "   \"objecttype\": \"Trade\",\n",
      "   \"value\": {\n",
      "    \"symbol\": \"AAPL\",\n",
      "    \"timestamp\": {\n",
      "     \"objecttype\": \"datetime\",\n",
      "     \"value\": \"2018-11-22T10:30:05\"\n",
      "    },\n",
      "    \"order\": \"sell\",\n",
      "    \"price\": {\n",
      "     \"objecttype\": \"Decimal\",\n",
      "     \"value\": \"177.01\"\n",
      "    },\n",
      "    \"value\": 20,\n",
      "    \"commission\": {\n",
      "     \"objecttype\": \"Decimal\",\n",
      "     \"value\": \"9.99\"\n",
      "    }\n",
      "   }\n",
      "  }\n",
      " ]\n",
      "}\n"
     ]
    }
   ],
   "source": [
    "print(encoded_activity)"
   ]
  },
  {
   "cell_type": "markdown",
   "id": "breeding-fields",
   "metadata": {},
   "source": [
    "####  Solution Exercise 1"
   ]
  },
  {
   "cell_type": "code",
   "execution_count": 89,
   "id": "mobile-separate",
   "metadata": {},
   "outputs": [],
   "source": [
    "import json\n",
    "from decimal import Decimal\n",
    "from datetime import date, datetime\n",
    "\n",
    "class CustomEncoder(json.JSONEncoder):\n",
    "    def default(self, arg):\n",
    "        objecttype = arg.__class__.__name__\n",
    "        if isinstance(arg, date) or isinstance(arg, datetime):\n",
    "            return dict(objecttype= objecttype, value= arg.isoformat())\n",
    "        elif isinstance(arg, Decimal):\n",
    "            return dict(objecttype= objecttype, value= str(arg))\n",
    "        elif isinstance(arg, Stock) or isinstance(arg, Trade):\n",
    "            return dict(objecttype= objecttype, value= vars(arg))\n",
    "        else:\n",
    "            return super().default(arg)"
   ]
  },
  {
   "cell_type": "code",
   "execution_count": 104,
   "id": "raising-duncan",
   "metadata": {},
   "outputs": [],
   "source": [
    "class CustomDecoder(json.JSONDecoder):\n",
    "    def __init__(self, *args, **kwargs):\n",
    "        super().__init__(object_hook= self.custom_decode)\n",
    "        \n",
    "    def custom_decode(self, arg):\n",
    "        objecttype = arg.get('objecttype')\n",
    "        if objecttype:\n",
    "            if objecttype == 'Decimal':\n",
    "                return Decimal(arg['value'])\n",
    "            elif objecttype == 'date':\n",
    "                return datetime.strptime(arg['value'], '%Y-%m-%d').date()\n",
    "            elif objecttype == 'datetime':\n",
    "                return datetime.strptime(arg['value'], '%Y-%m-%dT%H:%M:%S')\n",
    "            elif objecttype == 'Stock':\n",
    "                arg['value']['open_'] = arg['value'].pop('open')\n",
    "                return Stock(**arg['value'])\n",
    "            elif objecttype == 'Trade':\n",
    "                return Trade(**arg['value'])\n",
    "        return arg"
   ]
  },
  {
   "cell_type": "code",
   "execution_count": 107,
   "id": "personalized-plenty",
   "metadata": {},
   "outputs": [],
   "source": [
    "decoded_acticity = json.loads(encoded_activity, cls=CustomDecoder)"
   ]
  },
  {
   "cell_type": "code",
   "execution_count": 110,
   "id": "quantitative-watson",
   "metadata": {},
   "outputs": [],
   "source": [
    "from pprint import pprint"
   ]
  },
  {
   "cell_type": "code",
   "execution_count": 111,
   "id": "eligible-breath",
   "metadata": {},
   "outputs": [
    {
     "name": "stdout",
     "output_type": "stream",
     "text": [
      "{'quotes': [Stock(symbol= TSLA, date= 2018-11-22, open= 338.19, high= 338.64, low= 337.60, close= 338.19, volume= 365607),\n",
      "            Stock(symbol= AAPL, date= 2018-11-22, open= 176.66, high= 177.25, low= 176.64, close= 176.78, volume= 3699184),\n",
      "            Stock(symbol= MSFT, date= 2018-11-22, open= 103.25, high= 103.48, low= 103.07, close= 103.11, volume= 4493689)],\n",
      " 'trades': [Trade(symbol= TSLA, timestamp= 2018-11-22 10:05:12, order= buy, price= 338.25, value= 100, commission= 9.99),\n",
      "            Trade(symbol= AAPL, timestamp= 2018-11-22 10:30:05, order= sell, price= 177.01, value= 20, commission= 9.99)]}\n"
     ]
    }
   ],
   "source": [
    "pprint(decoded_acticity)"
   ]
  },
  {
   "cell_type": "code",
   "execution_count": 114,
   "id": "vertical-twins",
   "metadata": {},
   "outputs": [],
   "source": [
    "decoded_tsla = decoded_acticity['quotes'][0]"
   ]
  },
  {
   "cell_type": "code",
   "execution_count": 115,
   "id": "domestic-allocation",
   "metadata": {},
   "outputs": [],
   "source": [
    "class Stock:\n",
    "    def __init__(self, symbol, date, open_, high, low, close, volume):\n",
    "        self.symbol = symbol\n",
    "        self.date = date\n",
    "        self.open = open_\n",
    "        self.high = high\n",
    "        self.low = low\n",
    "        self.close = close\n",
    "        self.volume = volume\n",
    "        \n",
    "    def __eq__(self, other):\n",
    "        if isinstance(other, self.__class__):\n",
    "            return vars(self) == vars(other)\n",
    "        else:\n",
    "            return NotImplemented\n",
    "        \n",
    "    def __repr__(self):\n",
    "        data = ', '.join(f'{key}= {value}' for key, value in vars(self).items())\n",
    "        return f'Stock({data})'"
   ]
  },
  {
   "cell_type": "code",
   "execution_count": 119,
   "id": "passive-catalyst",
   "metadata": {},
   "outputs": [],
   "source": [
    "class CustomDecoder(json.JSONDecoder):\n",
    "    def __init__(self, *args, **kwargs):\n",
    "        super().__init__(object_hook= self.custom_decode)\n",
    "        \n",
    "    def custom_decode(self, arg):\n",
    "        objecttype = arg.get('objecttype')\n",
    "        if objecttype:\n",
    "            if objecttype == 'Decimal':\n",
    "                return Decimal(arg['value'])\n",
    "            elif objecttype == 'date':\n",
    "                return datetime.strptime(arg['value'], '%Y-%m-%d').date()\n",
    "            elif objecttype == 'datetime':\n",
    "                return datetime.strptime(arg['value'], '%Y-%m-%dT%H:%M:%S')\n",
    "            elif objecttype == 'Stock':\n",
    "                arg['value']['open_'] = arg['value'].pop('open')\n",
    "                return Stock(**arg['value'])\n",
    "            elif objecttype == 'Trade':\n",
    "                return Trade(**arg['value'])\n",
    "        return arg"
   ]
  },
  {
   "cell_type": "code",
   "execution_count": 120,
   "id": "thermal-broadcast",
   "metadata": {},
   "outputs": [],
   "source": [
    "decoded_acticity = json.loads(encoded_activity, cls=CustomDecoder)"
   ]
  },
  {
   "cell_type": "code",
   "execution_count": 121,
   "id": "afraid-rings",
   "metadata": {},
   "outputs": [],
   "source": [
    "decoded_tsla = decoded_acticity['quotes'][0]"
   ]
  },
  {
   "cell_type": "code",
   "execution_count": 122,
   "id": "advisory-civilian",
   "metadata": {},
   "outputs": [],
   "source": [
    "stock_tsla = Stock('TSLA', date(2018, 11, 22), \n",
    "              Decimal('338.19'), Decimal('338.64'), Decimal('337.60'), Decimal('338.19'), 365_607)"
   ]
  },
  {
   "cell_type": "code",
   "execution_count": 123,
   "id": "finnish-colony",
   "metadata": {},
   "outputs": [
    {
     "data": {
      "text/plain": [
       "True"
      ]
     },
     "execution_count": 123,
     "metadata": {},
     "output_type": "execute_result"
    }
   ],
   "source": [
    "decoded_tsla == stock_tsla"
   ]
  },
  {
   "cell_type": "code",
   "execution_count": 128,
   "id": "stainless-wallpaper",
   "metadata": {},
   "outputs": [
    {
     "data": {
      "text/plain": [
       "False"
      ]
     },
     "execution_count": 128,
     "metadata": {},
     "output_type": "execute_result"
    }
   ],
   "source": [
    "stock_tsla == decoded_acticity['quotes'][1]"
   ]
  },
  {
   "cell_type": "markdown",
   "id": "chubby-thomas",
   "metadata": {},
   "source": [
    "#### Solution Exercise 4"
   ]
  },
  {
   "cell_type": "code",
   "execution_count": 129,
   "id": "cooked-horizon",
   "metadata": {},
   "outputs": [],
   "source": [
    "class CustomDecoder(json.JSONDecoder):\n",
    "    def __init__(self, *args, **kwargs):\n",
    "        super().__init__(object_hook= self.custom_decode)\n",
    "        \n",
    "    def custom_decode(self, arg):\n",
    "        objecttype = arg.get('objecttype')\n",
    "        if objecttype:\n",
    "            if objecttype == 'Decimal':\n",
    "                return Decimal(arg['value'])\n",
    "            elif objecttype == 'date':\n",
    "                return datetime.strptime(arg['value'], '%Y-%m-%d').date()\n",
    "            elif objecttype == 'datetime':\n",
    "                return datetime.strptime(arg['value'], '%Y-%m-%dT%H:%M:%S')\n",
    "            elif objecttype == 'Stock':\n",
    "                arg['value']['open_'] = arg['value'].pop('open')\n",
    "                return Stock(**arg['value'])\n",
    "            elif objecttype == 'Trade':\n",
    "                return Trade(**arg['value'])\n",
    "        return arg"
   ]
  },
  {
   "cell_type": "code",
   "execution_count": 133,
   "id": "modified-candle",
   "metadata": {},
   "outputs": [],
   "source": [
    "from marshmallow import Schema, fields, post_load"
   ]
  },
  {
   "cell_type": "code",
   "execution_count": 134,
   "id": "secret-newton",
   "metadata": {},
   "outputs": [],
   "source": [
    "class Stock:\n",
    "    def __init__(self, symbol, date, open_, high, low, close, volume):\n",
    "        self.symbol = symbol\n",
    "        self.date = date\n",
    "        self.open = open_\n",
    "        self.high = high\n",
    "        self.low = low\n",
    "        self.close = close\n",
    "        self.volume = volume\n",
    "        \n",
    "    def __eq__(self, other):\n",
    "        if isinstance(other, self.__class__):\n",
    "            return vars(self) == vars(other)\n",
    "        else:\n",
    "            return NotImplemented\n",
    "        \n",
    "    def __repr__(self):\n",
    "        data = ', '.join(f'{key}= {value}' for key, value in vars(self).items())\n",
    "        return f'Stock({data})'\n",
    "    \n",
    "\n",
    "    \n",
    "class Trade:\n",
    "    def __init__(self, symbol, timestamp, order, price, value, commission):\n",
    "        self.symbol = symbol\n",
    "        self.timestamp = timestamp\n",
    "        self.order = order\n",
    "        self.price = price\n",
    "        self.value = value\n",
    "        self.commission = commission\n",
    "        \n",
    "    def __eq__(self, other):\n",
    "        if isinstance(other, self.__class__):\n",
    "            return vars(self) == vars(other)\n",
    "        else:\n",
    "            return NotImplemented\n",
    "        \n",
    "    def __repr__(self):\n",
    "        data = ', '.join(f'{key}= {value}' for key, value in vars(self).items())\n",
    "        return f'Trade({data})'\n",
    "    \n",
    "    \n",
    "\n",
    "activity = {\n",
    "    \"quotes\": [\n",
    "        Stock('TSLA', date(2018, 11, 22), \n",
    "              Decimal('338.19'), Decimal('338.64'), Decimal('337.60'), Decimal('338.19'), 365_607),\n",
    "        Stock('AAPL', date(2018, 11, 22), \n",
    "              Decimal('176.66'), Decimal('177.25'), Decimal('176.64'), Decimal('176.78'), 3_699_184),\n",
    "        Stock('MSFT', date(2018, 11, 22), \n",
    "              Decimal('103.25'), Decimal('103.48'), Decimal('103.07'), Decimal('103.11'), 4_493_689)\n",
    "    ],\n",
    "    \n",
    "    \"trades\": [\n",
    "        Trade('TSLA', datetime(2018, 11, 22, 10, 5, 12), 'buy', Decimal('338.25'), 100, Decimal('9.99')),\n",
    "        Trade('AAPL', datetime(2018, 11, 22, 10, 30, 5), 'sell', Decimal('177.01'), 20, Decimal('9.99'))\n",
    "    ]\n",
    "}"
   ]
  },
  {
   "cell_type": "code",
   "execution_count": 186,
   "id": "normal-tradition",
   "metadata": {},
   "outputs": [],
   "source": [
    "class StockSchema(Schema):\n",
    "    symbol = fields.Str()\n",
    "    date = fields.Date()\n",
    "    open = fields.Decimal(as_string=True)\n",
    "    high = fields.Decimal(as_string=True)\n",
    "    low = fields.Decimal(as_string=True)\n",
    "    close = fields.Decimal(as_string=True)\n",
    "    volume = fields.Int()\n",
    "    \n",
    "    @post_load\n",
    "    def reconstruct_stock(self, data, *args, **kwargs):\n",
    "        data['open_'] = data.pop('open')\n",
    "        return Stock(**data)\n",
    "    \n",
    "class TradeSchema(Schema):\n",
    "    symbol = fields.Str()\n",
    "    timestamp = fields.DateTime()\n",
    "    order = fields.Str()\n",
    "    price = fields.Decimal(as_string=True)\n",
    "    value = fields.Int()\n",
    "    commission = fields.Decimal(as_string=True)\n",
    "    \n",
    "    @post_load\n",
    "    def reconstruct_trade(self, data, *args, **kwargs):\n",
    "        return Trade(**data)"
   ]
  },
  {
   "cell_type": "code",
   "execution_count": 187,
   "id": "romantic-skating",
   "metadata": {},
   "outputs": [],
   "source": [
    "stock_serializer = StockSchema()\n",
    "trade_serializer = TradeSchema()"
   ]
  },
  {
   "cell_type": "code",
   "execution_count": 188,
   "id": "contained-tsunami",
   "metadata": {},
   "outputs": [
    {
     "data": {
      "text/plain": [
       "'{\"low\": \"337.60\", \"volume\": 365607, \"close\": \"338.19\", \"high\": \"338.64\", \"open\": \"338.19\", \"date\": \"2018-11-22\", \"symbol\": \"TSLA\"}'"
      ]
     },
     "execution_count": 188,
     "metadata": {},
     "output_type": "execute_result"
    }
   ],
   "source": [
    "stock_serializer.dumps(activity['quotes'][0])"
   ]
  },
  {
   "cell_type": "code",
   "execution_count": 189,
   "id": "collected-works",
   "metadata": {},
   "outputs": [],
   "source": [
    "marsh_serialized_stock = stock_serializer.dumps(activity['quotes'][0])"
   ]
  },
  {
   "cell_type": "code",
   "execution_count": 190,
   "id": "unable-bosnia",
   "metadata": {},
   "outputs": [
    {
     "data": {
      "text/plain": [
       "Stock(symbol= TSLA, date= 2018-11-22, open= 338.19, high= 338.64, low= 337.60, close= 338.19, volume= 365607)"
      ]
     },
     "execution_count": 190,
     "metadata": {},
     "output_type": "execute_result"
    }
   ],
   "source": [
    "stock_serializer.loads(marsh_serialized_stock)"
   ]
  },
  {
   "cell_type": "code",
   "execution_count": 191,
   "id": "induced-replica",
   "metadata": {},
   "outputs": [],
   "source": [
    "marsh_serialized_trade = trade_serializer.dumps(activity['trades'][0])"
   ]
  },
  {
   "cell_type": "code",
   "execution_count": 192,
   "id": "floppy-rally",
   "metadata": {},
   "outputs": [
    {
     "data": {
      "text/plain": [
       "'{\"value\": 100, \"price\": \"338.25\", \"order\": \"buy\", \"commission\": \"9.99\", \"symbol\": \"TSLA\", \"timestamp\": \"2018-11-22T10:05:12\"}'"
      ]
     },
     "execution_count": 192,
     "metadata": {},
     "output_type": "execute_result"
    }
   ],
   "source": [
    "marsh_serialized_trade"
   ]
  },
  {
   "cell_type": "code",
   "execution_count": 193,
   "id": "spanish-isaac",
   "metadata": {
    "scrolled": true
   },
   "outputs": [
    {
     "data": {
      "text/plain": [
       "Trade(symbol= TSLA, timestamp= 2018-11-22 10:05:12, order= buy, price= 338.25, value= 100, commission= 9.99)"
      ]
     },
     "execution_count": 193,
     "metadata": {},
     "output_type": "execute_result"
    }
   ],
   "source": [
    "trade_serializer.loads(marsh_serialized_trade)"
   ]
  },
  {
   "cell_type": "code",
   "execution_count": 194,
   "id": "involved-belief",
   "metadata": {},
   "outputs": [],
   "source": [
    "demarshel_tlsa = stock_serializer.loads(marsh_serialized_stock)"
   ]
  },
  {
   "cell_type": "code",
   "execution_count": 195,
   "id": "molecular-nicholas",
   "metadata": {},
   "outputs": [
    {
     "data": {
      "text/plain": [
       "Decimal('338.19')"
      ]
     },
     "execution_count": 195,
     "metadata": {},
     "output_type": "execute_result"
    }
   ],
   "source": [
    "demarshel_tlsa.open"
   ]
  },
  {
   "cell_type": "code",
   "execution_count": 197,
   "id": "premier-botswana",
   "metadata": {},
   "outputs": [],
   "source": [
    "class ActivitySchema(Schema):\n",
    "    quotes = fields.Nested(StockSchema, many=True)\n",
    "    trades = fields.Nested(TradeSchema, many=True)"
   ]
  },
  {
   "cell_type": "code",
   "execution_count": 198,
   "id": "large-commercial",
   "metadata": {},
   "outputs": [],
   "source": [
    "activity_serializer = ActivitySchema()"
   ]
  },
  {
   "cell_type": "code",
   "execution_count": 201,
   "id": "spare-device",
   "metadata": {},
   "outputs": [
    {
     "name": "stdout",
     "output_type": "stream",
     "text": [
      "{\n",
      "  \"quotes\": [\n",
      "    {\n",
      "      \"low\": \"337.60\",\n",
      "      \"volume\": 365607,\n",
      "      \"close\": \"338.19\",\n",
      "      \"high\": \"338.64\",\n",
      "      \"open\": \"338.19\",\n",
      "      \"date\": \"2018-11-22\",\n",
      "      \"symbol\": \"TSLA\"\n",
      "    },\n",
      "    {\n",
      "      \"low\": \"176.64\",\n",
      "      \"volume\": 3699184,\n",
      "      \"close\": \"176.78\",\n",
      "      \"high\": \"177.25\",\n",
      "      \"open\": \"176.66\",\n",
      "      \"date\": \"2018-11-22\",\n",
      "      \"symbol\": \"AAPL\"\n",
      "    },\n",
      "    {\n",
      "      \"low\": \"103.07\",\n",
      "      \"volume\": 4493689,\n",
      "      \"close\": \"103.11\",\n",
      "      \"high\": \"103.48\",\n",
      "      \"open\": \"103.25\",\n",
      "      \"date\": \"2018-11-22\",\n",
      "      \"symbol\": \"MSFT\"\n",
      "    }\n",
      "  ],\n",
      "  \"trades\": [\n",
      "    {\n",
      "      \"value\": 100,\n",
      "      \"price\": \"338.25\",\n",
      "      \"order\": \"buy\",\n",
      "      \"commission\": \"9.99\",\n",
      "      \"symbol\": \"TSLA\",\n",
      "      \"timestamp\": \"2018-11-22T10:05:12\"\n",
      "    },\n",
      "    {\n",
      "      \"value\": 20,\n",
      "      \"price\": \"177.01\",\n",
      "      \"order\": \"sell\",\n",
      "      \"commission\": \"9.99\",\n",
      "      \"symbol\": \"AAPL\",\n",
      "      \"timestamp\": \"2018-11-22T10:30:05\"\n",
      "    }\n",
      "  ]\n",
      "}\n"
     ]
    }
   ],
   "source": [
    "print(activity_serializer.dumps(activity, indent=2))"
   ]
  },
  {
   "cell_type": "code",
   "execution_count": 202,
   "id": "immediate-supply",
   "metadata": {},
   "outputs": [],
   "source": [
    "serialized_activity = activity_serializer.dumps(activity)"
   ]
  },
  {
   "cell_type": "code",
   "execution_count": 203,
   "id": "straight-architecture",
   "metadata": {},
   "outputs": [],
   "source": [
    "deserialized_activity = activity_serializer.loads(serialized_activity)"
   ]
  },
  {
   "cell_type": "code",
   "execution_count": 204,
   "id": "hybrid-certification",
   "metadata": {},
   "outputs": [
    {
     "data": {
      "text/plain": [
       "{'quotes': [Stock(symbol= TSLA, date= 2018-11-22, open= 338.19, high= 338.64, low= 337.60, close= 338.19, volume= 365607),\n",
       "  Stock(symbol= AAPL, date= 2018-11-22, open= 176.66, high= 177.25, low= 176.64, close= 176.78, volume= 3699184),\n",
       "  Stock(symbol= MSFT, date= 2018-11-22, open= 103.25, high= 103.48, low= 103.07, close= 103.11, volume= 4493689)],\n",
       " 'trades': [Trade(symbol= TSLA, timestamp= 2018-11-22 10:05:12, order= buy, price= 338.25, value= 100, commission= 9.99),\n",
       "  Trade(symbol= AAPL, timestamp= 2018-11-22 10:30:05, order= sell, price= 177.01, value= 20, commission= 9.99)]}"
      ]
     },
     "execution_count": 204,
     "metadata": {},
     "output_type": "execute_result"
    }
   ],
   "source": [
    "deserialized_activity"
   ]
  },
  {
   "cell_type": "code",
   "execution_count": 205,
   "id": "senior-lighter",
   "metadata": {},
   "outputs": [
    {
     "data": {
      "text/plain": [
       "True"
      ]
     },
     "execution_count": 205,
     "metadata": {},
     "output_type": "execute_result"
    }
   ],
   "source": [
    "deserialized_activity == activity"
   ]
  },
  {
   "cell_type": "markdown",
   "id": "following-program",
   "metadata": {},
   "source": [
    "### Solution"
   ]
  },
  {
   "cell_type": "code",
   "execution_count": 6,
   "id": "failing-wilson",
   "metadata": {},
   "outputs": [],
   "source": [
    "# Data\n",
    "import json\n",
    "from decimal import Decimal\n",
    "from datetime import datetime\n",
    "\n",
    "class Stock:\n",
    "    def __init__(self, symbol, date, open_, high, low, close, volume):\n",
    "        self.symbol = symbol\n",
    "        self.date = date\n",
    "        self.open = open_\n",
    "        self.high = high\n",
    "        self.low = low\n",
    "        self.close = close\n",
    "        self.volume = volume\n",
    "        \n",
    "    def __eq__(self, other):\n",
    "        if isinstance(other, self.__class__):\n",
    "            return vars(self) == vars(other)\n",
    "        else:\n",
    "            return NotImplemented\n",
    "        \n",
    "    def __repr__(self):\n",
    "        data = ', '.join(f'{key}= {value}' for key, value in vars(self).items())\n",
    "        return f'Stock({data})'\n",
    "    \n",
    "\n",
    "    \n",
    "class Trade:\n",
    "    def __init__(self, symbol, timestamp, order, price, value, commission):\n",
    "        self.symbol = symbol\n",
    "        self.timestamp = timestamp\n",
    "        self.order = order\n",
    "        self.price = price\n",
    "        self.value = value\n",
    "        self.commission = commission\n",
    "        \n",
    "    def __eq__(self, other):\n",
    "        if isinstance(other, self.__class__):\n",
    "            return vars(self) == vars(other)\n",
    "        else:\n",
    "            return NotImplemented\n",
    "        \n",
    "    def __repr__(self):\n",
    "        data = ', '.join(f'{key}= {value}' for key, value in vars(self).items())\n",
    "        return f'Trade({data})'\n",
    "    \n",
    "    \n",
    "\n",
    "activity = {\n",
    "    \"quotes\": [\n",
    "        Stock('TSLA', date(2018, 11, 22), \n",
    "              Decimal('338.19'), Decimal('338.64'), Decimal('337.60'), Decimal('338.19'), 365_607),\n",
    "        Stock('AAPL', date(2018, 11, 22), \n",
    "              Decimal('176.66'), Decimal('177.25'), Decimal('176.64'), Decimal('176.78'), 3_699_184),\n",
    "        Stock('MSFT', date(2018, 11, 22), \n",
    "              Decimal('103.25'), Decimal('103.48'), Decimal('103.07'), Decimal('103.11'), 4_493_689)\n",
    "    ],\n",
    "    \n",
    "    \"trades\": [\n",
    "        Trade('TSLA', datetime(2018, 11, 22, 10, 5, 12), 'buy', Decimal('338.25'), 100, Decimal('9.99')),\n",
    "        Trade('AAPL', datetime(2018, 11, 22, 10, 30, 5), 'sell', Decimal('177.01'), 20, Decimal('9.99'))\n",
    "    ]\n",
    "}"
   ]
  },
  {
   "cell_type": "code",
   "execution_count": 19,
   "id": "coordinate-empire",
   "metadata": {},
   "outputs": [],
   "source": [
    "# Solution 1, 2 In-built JSON Library\n",
    "\n",
    "import json\n",
    "from decimal import Decimal\n",
    "from datetime import date, datetime\n",
    "\n",
    "class CustomEncoder(json.JSONEncoder):\n",
    "    \n",
    "    def default(self, arg):\n",
    "        objecttype = arg.__class__.__name__\n",
    "        default_matches = {\n",
    "            'date': lambda arg: dict(objecttype= objecttype, value= arg.isoformat()),\n",
    "            'datetime': lambda arg: dict(objecttype= objecttype, value= arg.isoformat()),\n",
    "            'Decimal': lambda arg: dict(objecttype= objecttype, value= str(arg)),\n",
    "            'Stock': lambda arg: dict(objecttype= objecttype, value= vars(arg)),\n",
    "            'Trade': lambda arg: dict(objecttype= objecttype, value= vars(arg))\n",
    "        }\n",
    "        return default_matches.get(objecttype, super().default)(arg)\n",
    "        \n",
    "class CustomDecoder(json.JSONDecoder):\n",
    "    def __init__(self, *args, **kwargs):\n",
    "        super().__init__(object_hook= self.custom_decode)\n",
    "        \n",
    "    def custom_decode(self, arg):\n",
    "        objecttype = arg.get('objecttype')\n",
    "        if objecttype:\n",
    "            if objecttype == 'Decimal':\n",
    "                return Decimal(arg['value'])\n",
    "            elif objecttype == 'date':\n",
    "                return datetime.strptime(arg['value'], '%Y-%m-%d').date()\n",
    "            elif objecttype == 'datetime':\n",
    "                return datetime.strptime(arg['value'], '%Y-%m-%dT%H:%M:%S')\n",
    "            elif objecttype == 'Stock':\n",
    "                arg['value']['open_'] = arg['value'].pop('open')\n",
    "                return Stock(**arg['value'])\n",
    "            elif objecttype == 'Trade':\n",
    "                return Trade(**arg['value'])\n",
    "        return arg"
   ]
  },
  {
   "cell_type": "code",
   "execution_count": 20,
   "id": "studied-responsibility",
   "metadata": {},
   "outputs": [],
   "source": [
    "# Solution 3 with marshmellow\n",
    "from marshmallow import Schema, fields, post_load\n",
    "\n",
    "class StockSchema(Schema):\n",
    "    symbol = fields.Str()\n",
    "    date = fields.Date()\n",
    "    open = fields.Decimal(as_string=True)\n",
    "    high = fields.Decimal(as_string=True)\n",
    "    low = fields.Decimal(as_string=True)\n",
    "    close = fields.Decimal(as_string=True)\n",
    "    volume = fields.Int()\n",
    "    \n",
    "    @post_load\n",
    "    def reconstruct_stock(self, data, *args, **kwargs):\n",
    "        data['open_'] = data.pop('open')\n",
    "        return Stock(**data)\n",
    "    \n",
    "class TradeSchema(Schema):\n",
    "    symbol = fields.Str()\n",
    "    timestamp = fields.DateTime()\n",
    "    order = fields.Str()\n",
    "    price = fields.Decimal(as_string=True)\n",
    "    value = fields.Int()\n",
    "    commission = fields.Decimal(as_string=True)\n",
    "    \n",
    "    @post_load\n",
    "    def reconstruct_trade(self, data, *args, **kwargs):\n",
    "        return Trade(**data)\n",
    "    \n",
    "    \n",
    "class ActivitySchema(Schema):\n",
    "    quotes = fields.Nested(StockSchema, many=True)\n",
    "    trades = fields.Nested(TradeSchema, many=True)"
   ]
  },
  {
   "cell_type": "code",
   "execution_count": 21,
   "id": "uniform-adult",
   "metadata": {},
   "outputs": [],
   "source": [
    "encoded_activity = json.dumps(activity, cls=CustomEncoder, indent=2)"
   ]
  },
  {
   "cell_type": "code",
   "execution_count": 22,
   "id": "referenced-trash",
   "metadata": {
    "scrolled": true
   },
   "outputs": [
    {
     "name": "stdout",
     "output_type": "stream",
     "text": [
      "{\n",
      "  \"quotes\": [\n",
      "    {\n",
      "      \"objecttype\": \"Stock\",\n",
      "      \"value\": {\n",
      "        \"symbol\": \"TSLA\",\n",
      "        \"date\": {\n",
      "          \"objecttype\": \"date\",\n",
      "          \"value\": \"2018-11-22\"\n",
      "        },\n",
      "        \"open\": {\n",
      "          \"objecttype\": \"Decimal\",\n",
      "          \"value\": \"338.19\"\n",
      "        },\n",
      "        \"high\": {\n",
      "          \"objecttype\": \"Decimal\",\n",
      "          \"value\": \"338.64\"\n",
      "        },\n",
      "        \"low\": {\n",
      "          \"objecttype\": \"Decimal\",\n",
      "          \"value\": \"337.60\"\n",
      "        },\n",
      "        \"close\": {\n",
      "          \"objecttype\": \"Decimal\",\n",
      "          \"value\": \"338.19\"\n",
      "        },\n",
      "        \"volume\": 365607\n",
      "      }\n",
      "    },\n",
      "    {\n",
      "      \"objecttype\": \"Stock\",\n",
      "      \"value\": {\n",
      "        \"symbol\": \"AAPL\",\n",
      "        \"date\": {\n",
      "          \"objecttype\": \"date\",\n",
      "          \"value\": \"2018-11-22\"\n",
      "        },\n",
      "        \"open\": {\n",
      "          \"objecttype\": \"Decimal\",\n",
      "          \"value\": \"176.66\"\n",
      "        },\n",
      "        \"high\": {\n",
      "          \"objecttype\": \"Decimal\",\n",
      "          \"value\": \"177.25\"\n",
      "        },\n",
      "        \"low\": {\n",
      "          \"objecttype\": \"Decimal\",\n",
      "          \"value\": \"176.64\"\n",
      "        },\n",
      "        \"close\": {\n",
      "          \"objecttype\": \"Decimal\",\n",
      "          \"value\": \"176.78\"\n",
      "        },\n",
      "        \"volume\": 3699184\n",
      "      }\n",
      "    },\n",
      "    {\n",
      "      \"objecttype\": \"Stock\",\n",
      "      \"value\": {\n",
      "        \"symbol\": \"MSFT\",\n",
      "        \"date\": {\n",
      "          \"objecttype\": \"date\",\n",
      "          \"value\": \"2018-11-22\"\n",
      "        },\n",
      "        \"open\": {\n",
      "          \"objecttype\": \"Decimal\",\n",
      "          \"value\": \"103.25\"\n",
      "        },\n",
      "        \"high\": {\n",
      "          \"objecttype\": \"Decimal\",\n",
      "          \"value\": \"103.48\"\n",
      "        },\n",
      "        \"low\": {\n",
      "          \"objecttype\": \"Decimal\",\n",
      "          \"value\": \"103.07\"\n",
      "        },\n",
      "        \"close\": {\n",
      "          \"objecttype\": \"Decimal\",\n",
      "          \"value\": \"103.11\"\n",
      "        },\n",
      "        \"volume\": 4493689\n",
      "      }\n",
      "    }\n",
      "  ],\n",
      "  \"trades\": [\n",
      "    {\n",
      "      \"objecttype\": \"Trade\",\n",
      "      \"value\": {\n",
      "        \"symbol\": \"TSLA\",\n",
      "        \"timestamp\": {\n",
      "          \"objecttype\": \"datetime\",\n",
      "          \"value\": \"2018-11-22T10:05:12\"\n",
      "        },\n",
      "        \"order\": \"buy\",\n",
      "        \"price\": {\n",
      "          \"objecttype\": \"Decimal\",\n",
      "          \"value\": \"338.25\"\n",
      "        },\n",
      "        \"value\": 100,\n",
      "        \"commission\": {\n",
      "          \"objecttype\": \"Decimal\",\n",
      "          \"value\": \"9.99\"\n",
      "        }\n",
      "      }\n",
      "    },\n",
      "    {\n",
      "      \"objecttype\": \"Trade\",\n",
      "      \"value\": {\n",
      "        \"symbol\": \"AAPL\",\n",
      "        \"timestamp\": {\n",
      "          \"objecttype\": \"datetime\",\n",
      "          \"value\": \"2018-11-22T10:30:05\"\n",
      "        },\n",
      "        \"order\": \"sell\",\n",
      "        \"price\": {\n",
      "          \"objecttype\": \"Decimal\",\n",
      "          \"value\": \"177.01\"\n",
      "        },\n",
      "        \"value\": 20,\n",
      "        \"commission\": {\n",
      "          \"objecttype\": \"Decimal\",\n",
      "          \"value\": \"9.99\"\n",
      "        }\n",
      "      }\n",
      "    }\n",
      "  ]\n",
      "}\n"
     ]
    }
   ],
   "source": [
    "print(encoded_activity)"
   ]
  },
  {
   "cell_type": "code",
   "execution_count": 14,
   "id": "crucial-baltimore",
   "metadata": {},
   "outputs": [],
   "source": [
    "decoded_activity = json.loads(encoded_activity, cls=CustomDecoder)"
   ]
  },
  {
   "cell_type": "code",
   "execution_count": 15,
   "id": "undefined-renewal",
   "metadata": {},
   "outputs": [
    {
     "data": {
      "text/plain": [
       "{'quotes': [Stock(symbol= TSLA, date= 2018-11-22, open= 338.19, high= 338.64, low= 337.60, close= 338.19, volume= 365607),\n",
       "  Stock(symbol= AAPL, date= 2018-11-22, open= 176.66, high= 177.25, low= 176.64, close= 176.78, volume= 3699184),\n",
       "  Stock(symbol= MSFT, date= 2018-11-22, open= 103.25, high= 103.48, low= 103.07, close= 103.11, volume= 4493689)],\n",
       " 'trades': [Trade(symbol= TSLA, timestamp= 2018-11-22 10:05:12, order= buy, price= 338.25, value= 100, commission= 9.99),\n",
       "  Trade(symbol= AAPL, timestamp= 2018-11-22 10:30:05, order= sell, price= 177.01, value= 20, commission= 9.99)]}"
      ]
     },
     "execution_count": 15,
     "metadata": {},
     "output_type": "execute_result"
    }
   ],
   "source": [
    "decoded_activity"
   ]
  },
  {
   "cell_type": "code",
   "execution_count": null,
   "id": "australian-raleigh",
   "metadata": {},
   "outputs": [],
   "source": []
  }
 ],
 "metadata": {
  "kernelspec": {
   "display_name": "Python 3",
   "language": "python",
   "name": "python3"
  },
  "language_info": {
   "codemirror_mode": {
    "name": "ipython",
    "version": 3
   },
   "file_extension": ".py",
   "mimetype": "text/x-python",
   "name": "python",
   "nbconvert_exporter": "python",
   "pygments_lexer": "ipython3",
   "version": "3.9.1"
  }
 },
 "nbformat": 4,
 "nbformat_minor": 5
}
