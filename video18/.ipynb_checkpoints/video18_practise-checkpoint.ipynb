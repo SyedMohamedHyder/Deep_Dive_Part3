{
 "cells": [
  {
   "cell_type": "code",
   "execution_count": 1,
   "id": "incorporate-blind",
   "metadata": {},
   "outputs": [],
   "source": [
    "class Person:\n",
    "    def __init__(self, name, age):\n",
    "        self.name = name\n",
    "        self.age = age\n",
    "        \n",
    "    def __repr__(self):\n",
    "        return f'{self.__class__.__name__}(name={self.name}, age={self.age})'"
   ]
  },
  {
   "cell_type": "code",
   "execution_count": 2,
   "id": "light-finnish",
   "metadata": {},
   "outputs": [],
   "source": [
    "p1 = Person('John', 78)"
   ]
  },
  {
   "cell_type": "code",
   "execution_count": 3,
   "id": "funny-intersection",
   "metadata": {},
   "outputs": [
    {
     "data": {
      "text/plain": [
       "Person(name=John, age=78)"
      ]
     },
     "execution_count": 3,
     "metadata": {},
     "output_type": "execute_result"
    }
   ],
   "source": [
    "p1"
   ]
  },
  {
   "cell_type": "code",
   "execution_count": 4,
   "id": "exceptional-capacity",
   "metadata": {},
   "outputs": [],
   "source": [
    "d = {p1 : 'John object'}"
   ]
  },
  {
   "cell_type": "code",
   "execution_count": 5,
   "id": "certain-furniture",
   "metadata": {},
   "outputs": [
    {
     "ename": "KeyError",
     "evalue": "Person(name=John, age=78)",
     "output_type": "error",
     "traceback": [
      "\u001b[1;31m---------------------------------------------------------------------------\u001b[0m",
      "\u001b[1;31mKeyError\u001b[0m                                  Traceback (most recent call last)",
      "\u001b[1;32m<ipython-input-5-a02208d3ade2>\u001b[0m in \u001b[0;36m<module>\u001b[1;34m\u001b[0m\n\u001b[1;32m----> 1\u001b[1;33m \u001b[0md\u001b[0m\u001b[1;33m[\u001b[0m\u001b[0mPerson\u001b[0m\u001b[1;33m(\u001b[0m\u001b[1;34m'John'\u001b[0m\u001b[1;33m,\u001b[0m \u001b[1;36m78\u001b[0m\u001b[1;33m)\u001b[0m\u001b[1;33m]\u001b[0m\u001b[1;33m\u001b[0m\u001b[1;33m\u001b[0m\u001b[0m\n\u001b[0m",
      "\u001b[1;31mKeyError\u001b[0m: Person(name=John, age=78)"
     ]
    }
   ],
   "source": [
    "d[Person('John', 78)]"
   ]
  },
  {
   "cell_type": "code",
   "execution_count": 6,
   "id": "binding-burton",
   "metadata": {},
   "outputs": [
    {
     "data": {
      "text/plain": [
       "'John object'"
      ]
     },
     "execution_count": 6,
     "metadata": {},
     "output_type": "execute_result"
    }
   ],
   "source": [
    "d[p1]"
   ]
  },
  {
   "cell_type": "code",
   "execution_count": 7,
   "id": "norwegian-literacy",
   "metadata": {},
   "outputs": [],
   "source": [
    "p2 = Person('John', 78)"
   ]
  },
  {
   "cell_type": "code",
   "execution_count": 8,
   "id": "executive-major",
   "metadata": {},
   "outputs": [
    {
     "data": {
      "text/plain": [
       "False"
      ]
     },
     "execution_count": 8,
     "metadata": {},
     "output_type": "execute_result"
    }
   ],
   "source": [
    "p1 is p2"
   ]
  },
  {
   "cell_type": "code",
   "execution_count": 9,
   "id": "british-intermediate",
   "metadata": {},
   "outputs": [
    {
     "data": {
      "text/plain": [
       "False"
      ]
     },
     "execution_count": 9,
     "metadata": {},
     "output_type": "execute_result"
    }
   ],
   "source": [
    "p1 == p2"
   ]
  },
  {
   "cell_type": "code",
   "execution_count": 10,
   "id": "stable-bermuda",
   "metadata": {},
   "outputs": [
    {
     "ename": "KeyError",
     "evalue": "Person(name=John, age=78)",
     "output_type": "error",
     "traceback": [
      "\u001b[1;31m---------------------------------------------------------------------------\u001b[0m",
      "\u001b[1;31mKeyError\u001b[0m                                  Traceback (most recent call last)",
      "\u001b[1;32m<ipython-input-10-b91affa518a8>\u001b[0m in \u001b[0;36m<module>\u001b[1;34m\u001b[0m\n\u001b[1;32m----> 1\u001b[1;33m \u001b[0md\u001b[0m\u001b[1;33m[\u001b[0m\u001b[0mp2\u001b[0m\u001b[1;33m]\u001b[0m\u001b[1;33m\u001b[0m\u001b[1;33m\u001b[0m\u001b[0m\n\u001b[0m",
      "\u001b[1;31mKeyError\u001b[0m: Person(name=John, age=78)"
     ]
    }
   ],
   "source": [
    "d[p2]"
   ]
  },
  {
   "cell_type": "code",
   "execution_count": 11,
   "id": "educated-beverage",
   "metadata": {},
   "outputs": [],
   "source": [
    "class Person:\n",
    "    def __init__(self, name, age):\n",
    "        self.name = name\n",
    "        self.age = age\n",
    "        \n",
    "    def __eq__(self, other):\n",
    "        if isinstance(other, Person):\n",
    "            return self.name == other.name and self.age == other.age\n",
    "        else:\n",
    "            return False\n",
    "    \n",
    "    def __repr__(self):\n",
    "        return f'{self.__class__.__name__}(name={self.name}, age={self.age})'"
   ]
  },
  {
   "cell_type": "code",
   "execution_count": 12,
   "id": "built-emission",
   "metadata": {},
   "outputs": [],
   "source": [
    "p1 = Person('John', 78)"
   ]
  },
  {
   "cell_type": "code",
   "execution_count": 13,
   "id": "intimate-cathedral",
   "metadata": {},
   "outputs": [
    {
     "ename": "TypeError",
     "evalue": "unhashable type: 'Person'",
     "output_type": "error",
     "traceback": [
      "\u001b[1;31m---------------------------------------------------------------------------\u001b[0m",
      "\u001b[1;31mTypeError\u001b[0m                                 Traceback (most recent call last)",
      "\u001b[1;32m<ipython-input-13-de28671633e8>\u001b[0m in \u001b[0;36m<module>\u001b[1;34m\u001b[0m\n\u001b[1;32m----> 1\u001b[1;33m \u001b[0md\u001b[0m \u001b[1;33m=\u001b[0m \u001b[1;33m{\u001b[0m\u001b[0mp1\u001b[0m \u001b[1;33m:\u001b[0m \u001b[1;34m'John object'\u001b[0m\u001b[1;33m}\u001b[0m\u001b[1;33m\u001b[0m\u001b[1;33m\u001b[0m\u001b[0m\n\u001b[0m",
      "\u001b[1;31mTypeError\u001b[0m: unhashable type: 'Person'"
     ]
    }
   ],
   "source": [
    "d = {p1 : 'John object'}"
   ]
  },
  {
   "cell_type": "code",
   "execution_count": 14,
   "id": "hindu-ferry",
   "metadata": {},
   "outputs": [],
   "source": [
    "hash_fn = p1.__hash__"
   ]
  },
  {
   "cell_type": "code",
   "execution_count": 15,
   "id": "grave-poetry",
   "metadata": {},
   "outputs": [
    {
     "name": "stdout",
     "output_type": "stream",
     "text": [
      "None\n"
     ]
    }
   ],
   "source": [
    "print(hash_fn)"
   ]
  },
  {
   "cell_type": "code",
   "execution_count": 16,
   "id": "rational-governor",
   "metadata": {},
   "outputs": [],
   "source": [
    "class Person:\n",
    "    def __init__(self, name, age):\n",
    "        self.name = name\n",
    "        self.age = age\n",
    "        \n",
    "    def __eq__(self, other):\n",
    "        if isinstance(other, Person):\n",
    "            return self.name == other.name and self.age == other.age\n",
    "        else:\n",
    "            return False\n",
    "    \n",
    "    def __hash__(self):\n",
    "        return hash((self.name, self.age))\n",
    "    \n",
    "    def __repr__(self):\n",
    "        return f'{self.__class__.__name__}(name={self.name}, age={self.age})'"
   ]
  },
  {
   "cell_type": "code",
   "execution_count": 17,
   "id": "seven-plymouth",
   "metadata": {},
   "outputs": [],
   "source": [
    "p1 = Person('John', 78)"
   ]
  },
  {
   "cell_type": "code",
   "execution_count": 18,
   "id": "analyzed-enclosure",
   "metadata": {},
   "outputs": [],
   "source": [
    "d = {p1 : 'John object'}"
   ]
  },
  {
   "cell_type": "code",
   "execution_count": 19,
   "id": "furnished-broadway",
   "metadata": {},
   "outputs": [
    {
     "data": {
      "text/plain": [
       "'John object'"
      ]
     },
     "execution_count": 19,
     "metadata": {},
     "output_type": "execute_result"
    }
   ],
   "source": [
    "d[Person('John', 78)]"
   ]
  },
  {
   "cell_type": "code",
   "execution_count": 20,
   "id": "functional-vatican",
   "metadata": {},
   "outputs": [
    {
     "ename": "KeyError",
     "evalue": "Person(name=John, age=8)",
     "output_type": "error",
     "traceback": [
      "\u001b[1;31m---------------------------------------------------------------------------\u001b[0m",
      "\u001b[1;31mKeyError\u001b[0m                                  Traceback (most recent call last)",
      "\u001b[1;32m<ipython-input-20-915b1241bba1>\u001b[0m in \u001b[0;36m<module>\u001b[1;34m\u001b[0m\n\u001b[1;32m----> 1\u001b[1;33m \u001b[0md\u001b[0m\u001b[1;33m[\u001b[0m\u001b[0mPerson\u001b[0m\u001b[1;33m(\u001b[0m\u001b[1;34m'John'\u001b[0m\u001b[1;33m,\u001b[0m \u001b[1;36m8\u001b[0m\u001b[1;33m)\u001b[0m\u001b[1;33m]\u001b[0m\u001b[1;33m\u001b[0m\u001b[1;33m\u001b[0m\u001b[0m\n\u001b[0m",
      "\u001b[1;31mKeyError\u001b[0m: Person(name=John, age=8)"
     ]
    }
   ],
   "source": [
    "d[Person('John', 8)]"
   ]
  },
  {
   "cell_type": "code",
   "execution_count": 21,
   "id": "prime-prague",
   "metadata": {},
   "outputs": [],
   "source": [
    "class Person:\n",
    "    def __init__(self, name, age):\n",
    "        self.name = name\n",
    "        self.age = age\n",
    "        \n",
    "    def __repr__(self):\n",
    "        return f'{self.__class__.__name__}(name={self.name}, age={self.age})'\n",
    "    \n",
    "    __hash__ = None"
   ]
  },
  {
   "cell_type": "code",
   "execution_count": 22,
   "id": "attached-girlfriend",
   "metadata": {},
   "outputs": [],
   "source": [
    "p1 = Person('John', 78)"
   ]
  },
  {
   "cell_type": "code",
   "execution_count": 23,
   "id": "adolescent-consciousness",
   "metadata": {},
   "outputs": [
    {
     "ename": "TypeError",
     "evalue": "unhashable type: 'Person'",
     "output_type": "error",
     "traceback": [
      "\u001b[1;31m---------------------------------------------------------------------------\u001b[0m",
      "\u001b[1;31mTypeError\u001b[0m                                 Traceback (most recent call last)",
      "\u001b[1;32m<ipython-input-23-de28671633e8>\u001b[0m in \u001b[0;36m<module>\u001b[1;34m\u001b[0m\n\u001b[1;32m----> 1\u001b[1;33m \u001b[0md\u001b[0m \u001b[1;33m=\u001b[0m \u001b[1;33m{\u001b[0m\u001b[0mp1\u001b[0m \u001b[1;33m:\u001b[0m \u001b[1;34m'John object'\u001b[0m\u001b[1;33m}\u001b[0m\u001b[1;33m\u001b[0m\u001b[1;33m\u001b[0m\u001b[0m\n\u001b[0m",
      "\u001b[1;31mTypeError\u001b[0m: unhashable type: 'Person'"
     ]
    }
   ],
   "source": [
    "d = {p1 : 'John object'}"
   ]
  },
  {
   "cell_type": "code",
   "execution_count": 26,
   "id": "impaired-karma",
   "metadata": {},
   "outputs": [],
   "source": [
    "class Test:\n",
    "    def __hash__(self):\n",
    "        return 'Hello'"
   ]
  },
  {
   "cell_type": "code",
   "execution_count": 27,
   "id": "sharp-butler",
   "metadata": {},
   "outputs": [
    {
     "ename": "TypeError",
     "evalue": "__hash__ method should return an integer",
     "output_type": "error",
     "traceback": [
      "\u001b[1;31m---------------------------------------------------------------------------\u001b[0m",
      "\u001b[1;31mTypeError\u001b[0m                                 Traceback (most recent call last)",
      "\u001b[1;32m<ipython-input-27-335ee67029c9>\u001b[0m in \u001b[0;36m<module>\u001b[1;34m\u001b[0m\n\u001b[1;32m----> 1\u001b[1;33m \u001b[0mhash\u001b[0m\u001b[1;33m(\u001b[0m\u001b[0mTest\u001b[0m\u001b[1;33m(\u001b[0m\u001b[1;33m)\u001b[0m\u001b[1;33m)\u001b[0m\u001b[1;33m\u001b[0m\u001b[1;33m\u001b[0m\u001b[0m\n\u001b[0m",
      "\u001b[1;31mTypeError\u001b[0m: __hash__ method should return an integer"
     ]
    }
   ],
   "source": [
    "hash(Test())"
   ]
  },
  {
   "cell_type": "code",
   "execution_count": 28,
   "id": "billion-acting",
   "metadata": {},
   "outputs": [],
   "source": [
    "class Test:\n",
    "    def __hash__(self):\n",
    "        return 100"
   ]
  },
  {
   "cell_type": "code",
   "execution_count": 29,
   "id": "hollywood-suicide",
   "metadata": {},
   "outputs": [
    {
     "data": {
      "text/plain": [
       "100"
      ]
     },
     "execution_count": 29,
     "metadata": {},
     "output_type": "execute_result"
    }
   ],
   "source": [
    "hash(Test())"
   ]
  },
  {
   "cell_type": "code",
   "execution_count": 30,
   "id": "rotary-region",
   "metadata": {},
   "outputs": [],
   "source": [
    "import sys"
   ]
  },
  {
   "cell_type": "code",
   "execution_count": 32,
   "id": "female-tiffany",
   "metadata": {},
   "outputs": [
    {
     "data": {
      "text/plain": [
       "2305843009213693951"
      ]
     },
     "execution_count": 32,
     "metadata": {},
     "output_type": "execute_result"
    }
   ],
   "source": [
    "sys.hash_info.modulus"
   ]
  },
  {
   "cell_type": "code",
   "execution_count": 52,
   "id": "systematic-property",
   "metadata": {},
   "outputs": [],
   "source": [
    "class Number:\n",
    "    def __init__(self, n):\n",
    "        self.n = n\n",
    "    \n",
    "    def __eq__(self, other):\n",
    "        if isinstance(other, Number):\n",
    "            return self.n == other.n\n",
    "        else:\n",
    "            return False\n",
    "        \n",
    "    def __hash__(self):\n",
    "        return hash(self.n)"
   ]
  },
  {
   "cell_type": "code",
   "execution_count": 53,
   "id": "alert-protocol",
   "metadata": {},
   "outputs": [],
   "source": [
    "n1 = Number(10)\n",
    "n2 = Number(15)"
   ]
  },
  {
   "cell_type": "code",
   "execution_count": 54,
   "id": "saving-genetics",
   "metadata": {},
   "outputs": [
    {
     "data": {
      "text/plain": [
       "False"
      ]
     },
     "execution_count": 54,
     "metadata": {},
     "output_type": "execute_result"
    }
   ],
   "source": [
    "n1 is n2"
   ]
  },
  {
   "cell_type": "code",
   "execution_count": 55,
   "id": "assigned-treaty",
   "metadata": {},
   "outputs": [
    {
     "data": {
      "text/plain": [
       "False"
      ]
     },
     "execution_count": 55,
     "metadata": {},
     "output_type": "execute_result"
    }
   ],
   "source": [
    "n1 == n2"
   ]
  },
  {
   "cell_type": "code",
   "execution_count": 56,
   "id": "southeast-switzerland",
   "metadata": {},
   "outputs": [
    {
     "data": {
      "text/plain": [
       "False"
      ]
     },
     "execution_count": 56,
     "metadata": {},
     "output_type": "execute_result"
    }
   ],
   "source": [
    "n1 == 10"
   ]
  },
  {
   "cell_type": "code",
   "execution_count": 57,
   "id": "eastern-rehabilitation",
   "metadata": {},
   "outputs": [
    {
     "data": {
      "text/plain": [
       "True"
      ]
     },
     "execution_count": 57,
     "metadata": {},
     "output_type": "execute_result"
    }
   ],
   "source": [
    "bool(n1)"
   ]
  },
  {
   "cell_type": "code",
   "execution_count": 58,
   "id": "recorded-azerbaijan",
   "metadata": {},
   "outputs": [],
   "source": [
    "class SameHash:\n",
    "    def __init__(self, n):\n",
    "        self.n = n\n",
    "        \n",
    "    def __hash__(self):\n",
    "        return hash(self.n)"
   ]
  },
  {
   "cell_type": "code",
   "execution_count": 59,
   "id": "modular-layer",
   "metadata": {},
   "outputs": [],
   "source": [
    "n1 = SameHash(10)"
   ]
  },
  {
   "cell_type": "code",
   "execution_count": 60,
   "id": "funny-arizona",
   "metadata": {},
   "outputs": [
    {
     "data": {
      "text/plain": [
       "10"
      ]
     },
     "execution_count": 60,
     "metadata": {},
     "output_type": "execute_result"
    }
   ],
   "source": [
    "hash(n1)"
   ]
  },
  {
   "cell_type": "code",
   "execution_count": 61,
   "id": "fifth-entity",
   "metadata": {},
   "outputs": [],
   "source": [
    "d = {n1 : 'same hash'}"
   ]
  },
  {
   "cell_type": "code",
   "execution_count": 62,
   "id": "typical-database",
   "metadata": {},
   "outputs": [
    {
     "data": {
      "text/plain": [
       "'same hash'"
      ]
     },
     "execution_count": 62,
     "metadata": {},
     "output_type": "execute_result"
    }
   ],
   "source": [
    "d[n1]"
   ]
  },
  {
   "cell_type": "code",
   "execution_count": 69,
   "id": "royal-heath",
   "metadata": {},
   "outputs": [],
   "source": [
    "class SameHash:\n",
    "    def __init__(self, n):\n",
    "        self.n = n\n",
    "        \n",
    "    def __eq__(self, other):\n",
    "        if isinstance(other, SameHash):\n",
    "            return self.n == other.n\n",
    "        else:\n",
    "            return False\n",
    "    \n",
    "    def __hash__(self):\n",
    "        return 100"
   ]
  },
  {
   "cell_type": "code",
   "execution_count": 65,
   "id": "combined-department",
   "metadata": {},
   "outputs": [],
   "source": [
    "from timeit import timeit"
   ]
  },
  {
   "cell_type": "code",
   "execution_count": 73,
   "id": "affecting-george",
   "metadata": {},
   "outputs": [],
   "source": [
    "numbers = {Number(i) : 'Some value' for i in range(10000)}\n",
    "same_hashes = {SameHash(i) : 'Same Hash' for i in range(10000)}"
   ]
  },
  {
   "cell_type": "code",
   "execution_count": 74,
   "id": "baking-timothy",
   "metadata": {},
   "outputs": [
    {
     "data": {
      "text/plain": [
       "0.01522560000012163"
      ]
     },
     "execution_count": 74,
     "metadata": {},
     "output_type": "execute_result"
    }
   ],
   "source": [
    "timeit('numbers[Number(500)]', globals=globals(), number=10000)"
   ]
  },
  {
   "cell_type": "code",
   "execution_count": 77,
   "id": "celtic-netherlands",
   "metadata": {},
   "outputs": [
    {
     "data": {
      "text/plain": [
       "1.7228691999998773"
      ]
     },
     "execution_count": 77,
     "metadata": {},
     "output_type": "execute_result"
    }
   ],
   "source": [
    "timeit('same_hashes[SameHash(500)]', globals=globals(), number=10000)"
   ]
  },
  {
   "cell_type": "code",
   "execution_count": 78,
   "id": "placed-criterion",
   "metadata": {},
   "outputs": [],
   "source": [
    "class Point:\n",
    "    def __init__(self, x, y):\n",
    "        self._x = x\n",
    "        self._y = y\n",
    "        \n",
    "    @property\n",
    "    def x(self):\n",
    "        return self._x\n",
    "    \n",
    "    @property\n",
    "    def y(self):\n",
    "        return self._y\n",
    "    \n",
    "    def __eq__(self, other):\n",
    "        if isinstance(other, tuple) and len(other) == 2 :\n",
    "            other = Point(*other)\n",
    "        if isinstance(other, Point):\n",
    "            return self.x == other.x and self.y == other.y\n",
    "        else:\n",
    "            return False\n",
    "        \n",
    "    def __hash__(self):\n",
    "        return hash((self.x, self.y))"
   ]
  },
  {
   "cell_type": "code",
   "execution_count": 79,
   "id": "passing-symbol",
   "metadata": {},
   "outputs": [],
   "source": [
    "p1 = Point(0, 0)\n",
    "p2 = Point(1, 1)"
   ]
  },
  {
   "cell_type": "code",
   "execution_count": 80,
   "id": "fantastic-niger",
   "metadata": {},
   "outputs": [],
   "source": [
    "d = {p1 : 'origin',\n",
    "    p2 : '(1,1)'}"
   ]
  },
  {
   "cell_type": "code",
   "execution_count": 81,
   "id": "secure-castle",
   "metadata": {},
   "outputs": [
    {
     "data": {
      "text/plain": [
       "'origin'"
      ]
     },
     "execution_count": 81,
     "metadata": {},
     "output_type": "execute_result"
    }
   ],
   "source": [
    "d[(0,0)]"
   ]
  },
  {
   "cell_type": "code",
   "execution_count": 82,
   "id": "animal-warning",
   "metadata": {},
   "outputs": [
    {
     "ename": "AttributeError",
     "evalue": "can't set attribute",
     "output_type": "error",
     "traceback": [
      "\u001b[1;31m---------------------------------------------------------------------------\u001b[0m",
      "\u001b[1;31mAttributeError\u001b[0m                            Traceback (most recent call last)",
      "\u001b[1;32m<ipython-input-82-fde675c585de>\u001b[0m in \u001b[0;36m<module>\u001b[1;34m\u001b[0m\n\u001b[1;32m----> 1\u001b[1;33m \u001b[0mp1\u001b[0m\u001b[1;33m.\u001b[0m\u001b[0mx\u001b[0m \u001b[1;33m=\u001b[0m\u001b[1;36m10\u001b[0m\u001b[1;33m\u001b[0m\u001b[1;33m\u001b[0m\u001b[0m\n\u001b[0m",
      "\u001b[1;31mAttributeError\u001b[0m: can't set attribute"
     ]
    }
   ],
   "source": [
    "p1.x =10"
   ]
  },
  {
   "cell_type": "code",
   "execution_count": null,
   "id": "marked-activation",
   "metadata": {},
   "outputs": [],
   "source": []
  }
 ],
 "metadata": {
  "kernelspec": {
   "display_name": "Python 3",
   "language": "python",
   "name": "python3"
  },
  "language_info": {
   "codemirror_mode": {
    "name": "ipython",
    "version": 3
   },
   "file_extension": ".py",
   "mimetype": "text/x-python",
   "name": "python",
   "nbconvert_exporter": "python",
   "pygments_lexer": "ipython3",
   "version": "3.9.1"
  }
 },
 "nbformat": 4,
 "nbformat_minor": 5
}
