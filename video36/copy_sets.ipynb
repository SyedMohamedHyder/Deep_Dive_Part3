{
 "cells": [
  {
   "cell_type": "code",
   "execution_count": 1,
   "id": "patient-habitat",
   "metadata": {},
   "outputs": [],
   "source": [
    "class Person:\n",
    "    def __init__(self, name):\n",
    "        self.name = name\n",
    "        \n",
    "    def __repr__(self):\n",
    "        return f'{self.__class__.__name__}(name={self.name})'"
   ]
  },
  {
   "cell_type": "code",
   "execution_count": 2,
   "id": "reflected-floating",
   "metadata": {},
   "outputs": [],
   "source": [
    "p1 = Person('Hyder')\n",
    "p2 = Person('Jabeen')"
   ]
  },
  {
   "cell_type": "code",
   "execution_count": 3,
   "id": "extraordinary-optics",
   "metadata": {},
   "outputs": [],
   "source": [
    "s1 = {p1, p2}"
   ]
  },
  {
   "cell_type": "code",
   "execution_count": 4,
   "id": "banner-moisture",
   "metadata": {},
   "outputs": [],
   "source": [
    "s = set(s1)"
   ]
  },
  {
   "cell_type": "code",
   "execution_count": 5,
   "id": "occupational-fellowship",
   "metadata": {},
   "outputs": [
    {
     "data": {
      "text/plain": [
       "False"
      ]
     },
     "execution_count": 5,
     "metadata": {},
     "output_type": "execute_result"
    }
   ],
   "source": [
    "s is s1"
   ]
  },
  {
   "cell_type": "code",
   "execution_count": 6,
   "id": "decent-personality",
   "metadata": {},
   "outputs": [
    {
     "data": {
      "text/plain": [
       "True"
      ]
     },
     "execution_count": 6,
     "metadata": {},
     "output_type": "execute_result"
    }
   ],
   "source": [
    "s == s1"
   ]
  },
  {
   "cell_type": "code",
   "execution_count": 7,
   "id": "informed-street",
   "metadata": {},
   "outputs": [],
   "source": [
    "from copy import deepcopy"
   ]
  },
  {
   "cell_type": "code",
   "execution_count": 8,
   "id": "understood-briefs",
   "metadata": {},
   "outputs": [],
   "source": [
    "s = deepcopy(s1)"
   ]
  },
  {
   "cell_type": "code",
   "execution_count": 9,
   "id": "fitted-framing",
   "metadata": {},
   "outputs": [
    {
     "data": {
      "text/plain": [
       "False"
      ]
     },
     "execution_count": 9,
     "metadata": {},
     "output_type": "execute_result"
    }
   ],
   "source": [
    "s is s1"
   ]
  },
  {
   "cell_type": "code",
   "execution_count": 10,
   "id": "martial-liverpool",
   "metadata": {},
   "outputs": [
    {
     "data": {
      "text/plain": [
       "False"
      ]
     },
     "execution_count": 10,
     "metadata": {},
     "output_type": "execute_result"
    }
   ],
   "source": [
    "s == s1"
   ]
  },
  {
   "cell_type": "code",
   "execution_count": 11,
   "id": "arctic-victoria",
   "metadata": {},
   "outputs": [],
   "source": [
    "s2 = {*s1}"
   ]
  },
  {
   "cell_type": "code",
   "execution_count": 12,
   "id": "generous-footwear",
   "metadata": {},
   "outputs": [
    {
     "data": {
      "text/plain": [
       "({Person(name=Hyder), Person(name=Jabeen)},\n",
       " {Person(name=Hyder), Person(name=Jabeen)},\n",
       " {Person(name=Hyder), Person(name=Jabeen)})"
      ]
     },
     "execution_count": 12,
     "metadata": {},
     "output_type": "execute_result"
    }
   ],
   "source": [
    "s, s1, s2"
   ]
  },
  {
   "cell_type": "code",
   "execution_count": 13,
   "id": "premier-annotation",
   "metadata": {},
   "outputs": [],
   "source": [
    "p2.name = 'Rubeen'"
   ]
  },
  {
   "cell_type": "code",
   "execution_count": 14,
   "id": "organized-delay",
   "metadata": {},
   "outputs": [
    {
     "data": {
      "text/plain": [
       "({Person(name=Hyder), Person(name=Jabeen)},\n",
       " {Person(name=Hyder), Person(name=Rubeen)},\n",
       " {Person(name=Hyder), Person(name=Rubeen)})"
      ]
     },
     "execution_count": 14,
     "metadata": {},
     "output_type": "execute_result"
    }
   ],
   "source": [
    "s, s1, s2"
   ]
  },
  {
   "cell_type": "code",
   "execution_count": null,
   "id": "regular-conflict",
   "metadata": {},
   "outputs": [],
   "source": []
  }
 ],
 "metadata": {
  "kernelspec": {
   "display_name": "Python 3",
   "language": "python",
   "name": "python3"
  },
  "language_info": {
   "codemirror_mode": {
    "name": "ipython",
    "version": 3
   },
   "file_extension": ".py",
   "mimetype": "text/x-python",
   "name": "python",
   "nbconvert_exporter": "python",
   "pygments_lexer": "ipython3",
   "version": "3.9.1"
  }
 },
 "nbformat": 4,
 "nbformat_minor": 5
}
