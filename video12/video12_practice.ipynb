{
 "cells": [
  {
   "cell_type": "code",
   "execution_count": 1,
   "id": "joined-albert",
   "metadata": {},
   "outputs": [],
   "source": [
    "import itertools\n",
    "from collections import Counter"
   ]
  },
  {
   "cell_type": "code",
   "execution_count": 2,
   "id": "congressional-fruit",
   "metadata": {},
   "outputs": [
    {
     "data": {
      "text/plain": [
       "Counter({'a': 1, 'b': 1, 'c': 1, 'd': 1, ' ': 1, 'A': 1, 'B': 1, 'C': 3})"
      ]
     },
     "execution_count": 2,
     "metadata": {},
     "output_type": "execute_result"
    }
   ],
   "source": [
    "Counter('abcd ABCCC')"
   ]
  },
  {
   "cell_type": "code",
   "execution_count": 3,
   "id": "spoken-command",
   "metadata": {},
   "outputs": [],
   "source": [
    "text = 'Sed ut perspiciatis, unde omnis iste natus error sit voluptatem accusantium doloremque laudantium, totam rem aperiam eaque ipsa, quae ab illo inventore veritatis et quasi architecto beatae vitae dicta sunt, explicabo. Nemo enim ipsam voluptatem, quia voluptas sit, aspernatur aut odit aut fugit, sed quia consequuntur magni dolores eos, qui ratione voluptatem sequi nesciunt, neque porro quisquam est, qui dolorem ipsum, quia dolor sit amet consectetur adipisci[ng] velit, sed quia non-numquam [do] eius modi tempora inci[di]dunt, ut labore et dolore magnam aliquam quaerat voluptatem. Ut enim ad minima veniam, quis nostrum exercitationem ullam corporis suscipit laboriosam, nisi ut aliquid ex ea commodi consequatur? Quis autem vel eum iure reprehenderit, qui in ea voluptate velit esse, quam nihil molestiae consequatur, vel illum, qui dolorem eum fugiat, quo voluptas nulla pariatur?'"
   ]
  },
  {
   "cell_type": "code",
   "execution_count": 4,
   "id": "attractive-translator",
   "metadata": {},
   "outputs": [],
   "source": [
    "import string\n"
   ]
  },
  {
   "cell_type": "code",
   "execution_count": 5,
   "id": "encouraging-shopping",
   "metadata": {},
   "outputs": [],
   "source": [
    "def cat_key(c):\n",
    "    cat1 = dict.fromkeys(string.ascii_lowercase, 'Lower')\n",
    "    cat2 = dict.fromkeys(string.ascii_uppercase, 'Upper')\n",
    "    categories = dict(itertools.chain(cat1.items(), cat2.items()))\n",
    "    return categories.get(c, 'Other')"
   ]
  },
  {
   "cell_type": "code",
   "execution_count": 6,
   "id": "thousand-object",
   "metadata": {},
   "outputs": [
    {
     "data": {
      "text/plain": [
       "'Lower'"
      ]
     },
     "execution_count": 6,
     "metadata": {},
     "output_type": "execute_result"
    }
   ],
   "source": [
    "cat_key('h')"
   ]
  },
  {
   "cell_type": "code",
   "execution_count": 7,
   "id": "familiar-consortium",
   "metadata": {},
   "outputs": [
    {
     "data": {
      "text/plain": [
       "'Upper'"
      ]
     },
     "execution_count": 7,
     "metadata": {},
     "output_type": "execute_result"
    }
   ],
   "source": [
    "cat_key('H')"
   ]
  },
  {
   "cell_type": "code",
   "execution_count": 8,
   "id": "unsigned-endorsement",
   "metadata": {},
   "outputs": [
    {
     "data": {
      "text/plain": [
       "'Other'"
      ]
     },
     "execution_count": 8,
     "metadata": {},
     "output_type": "execute_result"
    }
   ],
   "source": [
    "cat_key('')"
   ]
  },
  {
   "cell_type": "code",
   "execution_count": 9,
   "id": "different-combat",
   "metadata": {},
   "outputs": [
    {
     "data": {
      "text/plain": [
       "'Other'"
      ]
     },
     "execution_count": 9,
     "metadata": {},
     "output_type": "execute_result"
    }
   ],
   "source": [
    "cat_key('/')"
   ]
  },
  {
   "cell_type": "code",
   "execution_count": 10,
   "id": "patent-punch",
   "metadata": {},
   "outputs": [
    {
     "name": "stdout",
     "output_type": "stream",
     "text": [
      "Upper : UNQS\n",
      "Lower : evfmoucstlndqxibpghra\n",
      "Other : [-.] ?,\n"
     ]
    }
   ],
   "source": [
    "d = dict()\n",
    "for c in text:\n",
    "    key = cat_key(c)\n",
    "    d.setdefault(key, set()).add(c)\n",
    "for cat in d.items():\n",
    "    print(f'{cat[0]} : {\"\".join(cat[1])}')"
   ]
  },
  {
   "cell_type": "code",
   "execution_count": null,
   "id": "difficult-depth",
   "metadata": {},
   "outputs": [],
   "source": []
  }
 ],
 "metadata": {
  "kernelspec": {
   "display_name": "Python 3",
   "language": "python",
   "name": "python3"
  },
  "language_info": {
   "codemirror_mode": {
    "name": "ipython",
    "version": 3
   },
   "file_extension": ".py",
   "mimetype": "text/x-python",
   "name": "python",
   "nbconvert_exporter": "python",
   "pygments_lexer": "ipython3",
   "version": "3.9.1"
  }
 },
 "nbformat": 4,
 "nbformat_minor": 5
}
