{
 "cells": [
  {
   "cell_type": "code",
   "execution_count": 1,
   "id": "foreign-confidence",
   "metadata": {},
   "outputs": [],
   "source": [
    "from jsonschema import validate, Draft4Validator\n",
    "from jsonschema.exceptions import ValidationError\n",
    "import json"
   ]
  },
  {
   "cell_type": "code",
   "execution_count": 20,
   "id": "controversial-strengthening",
   "metadata": {},
   "outputs": [],
   "source": [
    "person_schema = {\n",
    "    \"type\": \"object\",\n",
    "    \"properties\": {\n",
    "        \"firstname\": {\n",
    "            \"type\": \"string\",\n",
    "            \"minLen\": 1,\n",
    "        },\n",
    "        \"middlename\": {\n",
    "            \"type\": \"string\",\n",
    "            \"minLen\": 1,\n",
    "            \"maxLen\": 1\n",
    "        },\n",
    "        \"lastname\": {\n",
    "            \"type\": \"string\",\n",
    "            \"minLen\": 1\n",
    "        },\n",
    "        \"age\": {\n",
    "            \"type\": \"integer\",\n",
    "            \"minimum\": 0\n",
    "        },\n",
    "        \"eyecolor\": {\n",
    "            \"type\": \"string\",\n",
    "            \"enum\": [\"black\", \"brown\", \"blue\", \"gray\"]\n",
    "        },\n",
    "        \"address\": {\n",
    "            \"type\": \"object\",\n",
    "            \"properties\": {\n",
    "                \"door_number\": {\n",
    "                    \"type\": \"integer\",\n",
    "                },\n",
    "                \"street\": {\n",
    "                    \"type\": \"string\",\n",
    "                }\n",
    "            },\n",
    "            \"required\": [\"street\"]\n",
    "        }\n",
    "    },\n",
    "    \"required\": [\"firstname\", \"lastname\", \"age\"]\n",
    "}"
   ]
  },
  {
   "cell_type": "code",
   "execution_count": 26,
   "id": "elder-remains",
   "metadata": {},
   "outputs": [],
   "source": [
    "p1 = '''\n",
    "{\n",
    "\"firstname\": \"Syed\",\n",
    "\"lastname\": \"Hyder\",\n",
    "\"age\": 21,\n",
    "\"middlename\": \"M\",\n",
    "\"address\": {\n",
    "    \"door_number\": 15,\n",
    "    \"street\": \"Gandhi Middle St\"\n",
    "    }\n",
    "}\n",
    "'''"
   ]
  },
  {
   "cell_type": "code",
   "execution_count": 32,
   "id": "artificial-payday",
   "metadata": {},
   "outputs": [],
   "source": [
    "p2 = '''\n",
    "{\n",
    "\"firstname\": \"Syed\",\n",
    "\"lastname\": \"Hyder\",\n",
    "\"age\": 21,\n",
    "\"middlename\": \"M\",\n",
    "\"address\": {\n",
    "    \"door_number\": 15\n",
    "    }\n",
    "}\n",
    "'''"
   ]
  },
  {
   "cell_type": "code",
   "execution_count": 35,
   "id": "earned-machinery",
   "metadata": {},
   "outputs": [],
   "source": [
    "p3 = '''\n",
    "{\n",
    "\"firstname\": \"Syed\",\n",
    "\"lastname\": \"Hyder\",\n",
    "\"age\": 21,\n",
    "\"middlename\": \"M\",\n",
    "\"address\": {\n",
    "    \"door_number\": 15,\n",
    "    \"street\": \"Gandhi Middle St\"\n",
    "    },\n",
    "\"eyecolor\": \"white\"\n",
    "}\n",
    "'''"
   ]
  },
  {
   "cell_type": "code",
   "execution_count": 29,
   "id": "functional-louis",
   "metadata": {},
   "outputs": [],
   "source": [
    "p4 = '''\n",
    "{\n",
    "\"firstname\": \"Syed\",\n",
    "\"lastname\": \"Hyder\",\n",
    "\"middlename\": \"M\",\n",
    "\"address\": {\n",
    "    \"door_number\": 15,\n",
    "    \"street\": \"Gandhi Middle St\"\n",
    "    }\n",
    "}\n",
    "'''"
   ]
  },
  {
   "cell_type": "code",
   "execution_count": 30,
   "id": "referenced-damages",
   "metadata": {},
   "outputs": [
    {
     "name": "stdout",
     "output_type": "stream",
     "text": [
      "\n",
      "{\n",
      "\"firstname\": \"Syed\",\n",
      "\"lastname\": \"Hyder\",\n",
      "\"age\": 21,\n",
      "\"middlename\": \"M\",\n",
      "\"address\": {\n",
      "    \"door_number\": 15,\n",
      "    \"street\": \"Gandhi Middle St\"\n",
      "    }\n",
      "}\n",
      "\n",
      "JSON is valid\n"
     ]
    }
   ],
   "source": [
    "print(p1)\n",
    "\n",
    "try:\n",
    "    validate(json.loads(p1), person_schema)\n",
    "except json.JSONDecodeError as ex:\n",
    "    print(f'Invalid JSON: {ex}')\n",
    "except ValidationError as ex:\n",
    "    print(f'Validation error: {ex}')\n",
    "else:\n",
    "    print('JSON is valid')"
   ]
  },
  {
   "cell_type": "code",
   "execution_count": 33,
   "id": "accepted-conclusion",
   "metadata": {},
   "outputs": [
    {
     "name": "stdout",
     "output_type": "stream",
     "text": [
      "\n",
      "{\n",
      "\"firstname\": \"Syed\",\n",
      "\"lastname\": \"Hyder\",\n",
      "\"age\": 21,\n",
      "\"middlename\": \"M\",\n",
      "\"address\": {\n",
      "    \"door_number\": 15\n",
      "    }\n",
      "}\n",
      "\n",
      "Validation error: 'street' is a required property\n",
      "\n",
      "Failed validating 'required' in schema['properties']['address']:\n",
      "    {'properties': {'door_number': {'type': 'integer'},\n",
      "                    'street': {'type': 'string'}},\n",
      "     'required': ['street'],\n",
      "     'type': 'object'}\n",
      "\n",
      "On instance['address']:\n",
      "    {'door_number': 15}\n"
     ]
    }
   ],
   "source": [
    "print(p2)\n",
    "\n",
    "try:\n",
    "    validate(json.loads(p2), person_schema)\n",
    "except json.JSONDecodeError as ex:\n",
    "    print(f'Invalid JSON: {ex}')\n",
    "except ValidationError as ex:\n",
    "    print(f'Validation error: {ex}')\n",
    "else:\n",
    "    print('JSON is valid')"
   ]
  },
  {
   "cell_type": "code",
   "execution_count": 36,
   "id": "solid-donna",
   "metadata": {
    "scrolled": true
   },
   "outputs": [
    {
     "name": "stdout",
     "output_type": "stream",
     "text": [
      "\n",
      "{\n",
      "\"firstname\": \"Syed\",\n",
      "\"lastname\": \"Hyder\",\n",
      "\"age\": 21,\n",
      "\"middlename\": \"M\",\n",
      "\"address\": {\n",
      "    \"door_number\": 15,\n",
      "    \"street\": \"Gandhi Middle St\"\n",
      "    },\n",
      "\"eyecolor\": \"white\"\n",
      "}\n",
      "\n",
      "Validation error: 'white' is not one of ['black', 'brown', 'blue', 'gray']\n",
      "\n",
      "Failed validating 'enum' in schema['properties']['eyecolor']:\n",
      "    {'enum': ['black', 'brown', 'blue', 'gray'], 'type': 'string'}\n",
      "\n",
      "On instance['eyecolor']:\n",
      "    'white'\n"
     ]
    }
   ],
   "source": [
    "print(p3)\n",
    "\n",
    "try:\n",
    "    validate(json.loads(p3), person_schema)\n",
    "except json.JSONDecodeError as ex:\n",
    "    print(f'Invalid JSON: {ex}')\n",
    "except ValidationError as ex:\n",
    "    print(f'Validation error: {ex}')\n",
    "else:\n",
    "    print('JSON is valid')"
   ]
  },
  {
   "cell_type": "code",
   "execution_count": 37,
   "id": "discrete-blink",
   "metadata": {},
   "outputs": [
    {
     "name": "stdout",
     "output_type": "stream",
     "text": [
      "\n",
      "{\n",
      "\"firstname\": \"Syed\",\n",
      "\"lastname\": \"Hyder\",\n",
      "\"middlename\": \"M\",\n",
      "\"address\": {\n",
      "    \"door_number\": 15,\n",
      "    \"street\": \"Gandhi Middle St\"\n",
      "    }\n",
      "}\n",
      "\n",
      "Validation error: 'age' is a required property\n",
      "\n",
      "Failed validating 'required' in schema:\n",
      "    {'properties': {'address': {'properties': {'door_number': {'type': 'integer'},\n",
      "                                               'street': {'type': 'string'}},\n",
      "                                'required': ['street'],\n",
      "                                'type': 'object'},\n",
      "                    'age': {'minimum': 0, 'type': 'integer'},\n",
      "                    'eyecolor': {'enum': ['black', 'brown', 'blue', 'gray'],\n",
      "                                 'type': 'string'},\n",
      "                    'firstname': {'minLen': 1, 'type': 'string'},\n",
      "                    'lastname': {'minLen': 1, 'type': 'string'},\n",
      "                    'middlename': {'maxLen': 1,\n",
      "                                   'minLen': 1,\n",
      "                                   'type': 'string'}},\n",
      "     'required': ['firstname', 'lastname', 'age'],\n",
      "     'type': 'object'}\n",
      "\n",
      "On instance:\n",
      "    {'address': {'door_number': 15, 'street': 'Gandhi Middle St'},\n",
      "     'firstname': 'Syed',\n",
      "     'lastname': 'Hyder',\n",
      "     'middlename': 'M'}\n"
     ]
    }
   ],
   "source": [
    "print(p4)\n",
    "\n",
    "try:\n",
    "    validate(json.loads(p4), person_schema)\n",
    "except json.JSONDecodeError as ex:\n",
    "    print(f'Invalid JSON: {ex}')\n",
    "except ValidationError as ex:\n",
    "    print(f'Validation error: {ex}')\n",
    "else:\n",
    "    print('JSON is valid')"
   ]
  },
  {
   "cell_type": "code",
   "execution_count": 38,
   "id": "transsexual-luxury",
   "metadata": {},
   "outputs": [],
   "source": [
    "validator = Draft4Validator(person_schema)"
   ]
  },
  {
   "cell_type": "code",
   "execution_count": 44,
   "id": "julian-information",
   "metadata": {},
   "outputs": [
    {
     "name": "stdout",
     "output_type": "stream",
     "text": [
      "'street' is a required property\n",
      "\n",
      "Failed validating 'required' in schema['properties']['address']:\n",
      "    {'properties': {'door_number': {'type': 'integer'},\n",
      "                    'street': {'type': 'string'}},\n",
      "     'required': ['street'],\n",
      "     'type': 'object'}\n",
      "\n",
      "On instance['address']:\n",
      "    {'door_number': 15}\n",
      "-----------\n"
     ]
    }
   ],
   "source": [
    "for error in validator.iter_errors(json.loads(p2)):\n",
    "    print(error, end='\\n-----------\\n')"
   ]
  },
  {
   "cell_type": "code",
   "execution_count": 45,
   "id": "aerial-concentrate",
   "metadata": {},
   "outputs": [],
   "source": [
    "for error in validator.iter_errors(json.loads(p1)):\n",
    "    print(error, end='\\n-----------\\n')"
   ]
  },
  {
   "cell_type": "code",
   "execution_count": 46,
   "id": "excellent-modem",
   "metadata": {},
   "outputs": [],
   "source": [
    "p3 = '''\n",
    "    {\n",
    "        \"firstName\": \"John\",\n",
    "        \"age\": -10.5\n",
    "    }\n",
    "'''"
   ]
  },
  {
   "cell_type": "code",
   "execution_count": 47,
   "id": "painful-universe",
   "metadata": {},
   "outputs": [
    {
     "name": "stdout",
     "output_type": "stream",
     "text": [
      "-10.5 is not of type 'integer'\n",
      "\n",
      "Failed validating 'type' in schema['properties']['age']:\n",
      "    {'minimum': 0, 'type': 'integer'}\n",
      "\n",
      "On instance['age']:\n",
      "    -10.5\n",
      "-----------\n",
      "-10.5 is less than the minimum of 0\n",
      "\n",
      "Failed validating 'minimum' in schema['properties']['age']:\n",
      "    {'minimum': 0, 'type': 'integer'}\n",
      "\n",
      "On instance['age']:\n",
      "    -10.5\n",
      "-----------\n",
      "'firstname' is a required property\n",
      "\n",
      "Failed validating 'required' in schema:\n",
      "    {'properties': {'address': {'properties': {'door_number': {'type': 'integer'},\n",
      "                                               'street': {'type': 'string'}},\n",
      "                                'required': ['street'],\n",
      "                                'type': 'object'},\n",
      "                    'age': {'minimum': 0, 'type': 'integer'},\n",
      "                    'eyecolor': {'enum': ['black', 'brown', 'blue', 'gray'],\n",
      "                                 'type': 'string'},\n",
      "                    'firstname': {'minLen': 1, 'type': 'string'},\n",
      "                    'lastname': {'minLen': 1, 'type': 'string'},\n",
      "                    'middlename': {'maxLen': 1,\n",
      "                                   'minLen': 1,\n",
      "                                   'type': 'string'}},\n",
      "     'required': ['firstname', 'lastname', 'age'],\n",
      "     'type': 'object'}\n",
      "\n",
      "On instance:\n",
      "    {'age': -10.5, 'firstName': 'John'}\n",
      "-----------\n",
      "'lastname' is a required property\n",
      "\n",
      "Failed validating 'required' in schema:\n",
      "    {'properties': {'address': {'properties': {'door_number': {'type': 'integer'},\n",
      "                                               'street': {'type': 'string'}},\n",
      "                                'required': ['street'],\n",
      "                                'type': 'object'},\n",
      "                    'age': {'minimum': 0, 'type': 'integer'},\n",
      "                    'eyecolor': {'enum': ['black', 'brown', 'blue', 'gray'],\n",
      "                                 'type': 'string'},\n",
      "                    'firstname': {'minLen': 1, 'type': 'string'},\n",
      "                    'lastname': {'minLen': 1, 'type': 'string'},\n",
      "                    'middlename': {'maxLen': 1,\n",
      "                                   'minLen': 1,\n",
      "                                   'type': 'string'}},\n",
      "     'required': ['firstname', 'lastname', 'age'],\n",
      "     'type': 'object'}\n",
      "\n",
      "On instance:\n",
      "    {'age': -10.5, 'firstName': 'John'}\n",
      "-----------\n"
     ]
    }
   ],
   "source": [
    "for error in validator.iter_errors(json.loads(p3)):\n",
    "    print(error, end='\\n-----------\\n')"
   ]
  },
  {
   "cell_type": "code",
   "execution_count": null,
   "id": "industrial-psychology",
   "metadata": {},
   "outputs": [],
   "source": []
  }
 ],
 "metadata": {
  "kernelspec": {
   "display_name": "Python 3",
   "language": "python",
   "name": "python3"
  },
  "language_info": {
   "codemirror_mode": {
    "name": "ipython",
    "version": 3
   },
   "file_extension": ".py",
   "mimetype": "text/x-python",
   "name": "python",
   "nbconvert_exporter": "python",
   "pygments_lexer": "ipython3",
   "version": "3.9.1"
  }
 },
 "nbformat": 4,
 "nbformat_minor": 5
}
