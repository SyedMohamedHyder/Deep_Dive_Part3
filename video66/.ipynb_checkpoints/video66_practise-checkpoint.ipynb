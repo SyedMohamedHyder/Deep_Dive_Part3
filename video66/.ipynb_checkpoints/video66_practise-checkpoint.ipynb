{
 "cells": [
  {
   "cell_type": "code",
   "execution_count": 1,
   "id": "threatened-methodology",
   "metadata": {},
   "outputs": [],
   "source": [
    "from functools import wraps\n",
    "from datetime import datetime\n",
    "from collections import defaultdict, namedtuple"
   ]
  },
  {
   "cell_type": "code",
   "execution_count": 2,
   "id": "exotic-pontiac",
   "metadata": {},
   "outputs": [],
   "source": [
    "sentence = 'hello my name is hyder'"
   ]
  },
  {
   "cell_type": "code",
   "execution_count": 3,
   "id": "imposed-boring",
   "metadata": {},
   "outputs": [],
   "source": [
    "counts = defaultdict(int)"
   ]
  },
  {
   "cell_type": "code",
   "execution_count": 4,
   "id": "functional-saturn",
   "metadata": {},
   "outputs": [],
   "source": [
    "for c in sentence:\n",
    "    counts[c] += 1"
   ]
  },
  {
   "cell_type": "code",
   "execution_count": 5,
   "id": "biological-zambia",
   "metadata": {},
   "outputs": [
    {
     "data": {
      "text/plain": [
       "defaultdict(int,\n",
       "            {'h': 2,\n",
       "             'e': 3,\n",
       "             'l': 2,\n",
       "             'o': 1,\n",
       "             ' ': 4,\n",
       "             'm': 2,\n",
       "             'y': 2,\n",
       "             'n': 1,\n",
       "             'a': 1,\n",
       "             'i': 1,\n",
       "             's': 1,\n",
       "             'd': 1,\n",
       "             'r': 1})"
      ]
     },
     "execution_count": 5,
     "metadata": {},
     "output_type": "execute_result"
    }
   ],
   "source": [
    "counts"
   ]
  },
  {
   "cell_type": "code",
   "execution_count": 6,
   "id": "compatible-tuesday",
   "metadata": {},
   "outputs": [
    {
     "data": {
      "text/plain": [
       "True"
      ]
     },
     "execution_count": 6,
     "metadata": {},
     "output_type": "execute_result"
    }
   ],
   "source": [
    "isinstance(counts, defaultdict)"
   ]
  },
  {
   "cell_type": "code",
   "execution_count": 7,
   "id": "sharp-criterion",
   "metadata": {},
   "outputs": [
    {
     "data": {
      "text/plain": [
       "True"
      ]
     },
     "execution_count": 7,
     "metadata": {},
     "output_type": "execute_result"
    }
   ],
   "source": [
    "isinstance(counts, dict)"
   ]
  },
  {
   "cell_type": "code",
   "execution_count": 8,
   "id": "answering-boston",
   "metadata": {},
   "outputs": [
    {
     "data": {
      "text/plain": [
       "2"
      ]
     },
     "execution_count": 8,
     "metadata": {},
     "output_type": "execute_result"
    }
   ],
   "source": [
    "counts['h']"
   ]
  },
  {
   "cell_type": "code",
   "execution_count": 9,
   "id": "contemporary-tract",
   "metadata": {},
   "outputs": [
    {
     "data": {
      "text/plain": [
       "0"
      ]
     },
     "execution_count": 9,
     "metadata": {},
     "output_type": "execute_result"
    }
   ],
   "source": [
    "counts['python']"
   ]
  },
  {
   "cell_type": "code",
   "execution_count": 10,
   "id": "editorial-setting",
   "metadata": {},
   "outputs": [
    {
     "data": {
      "text/plain": [
       "defaultdict(int,\n",
       "            {'h': 2,\n",
       "             'e': 3,\n",
       "             'l': 2,\n",
       "             'o': 1,\n",
       "             ' ': 4,\n",
       "             'm': 2,\n",
       "             'y': 2,\n",
       "             'n': 1,\n",
       "             'a': 1,\n",
       "             'i': 1,\n",
       "             's': 1,\n",
       "             'd': 1,\n",
       "             'r': 1,\n",
       "             'python': 0})"
      ]
     },
     "execution_count": 10,
     "metadata": {},
     "output_type": "execute_result"
    }
   ],
   "source": [
    "counts"
   ]
  },
  {
   "cell_type": "code",
   "execution_count": 11,
   "id": "solar-outdoors",
   "metadata": {},
   "outputs": [],
   "source": [
    "counts['hello'] = 'world'"
   ]
  },
  {
   "cell_type": "code",
   "execution_count": 12,
   "id": "protective-scottish",
   "metadata": {},
   "outputs": [
    {
     "data": {
      "text/plain": [
       "defaultdict(int,\n",
       "            {'h': 2,\n",
       "             'e': 3,\n",
       "             'l': 2,\n",
       "             'o': 1,\n",
       "             ' ': 4,\n",
       "             'm': 2,\n",
       "             'y': 2,\n",
       "             'n': 1,\n",
       "             'a': 1,\n",
       "             'i': 1,\n",
       "             's': 1,\n",
       "             'd': 1,\n",
       "             'r': 1,\n",
       "             'python': 0,\n",
       "             'hello': 'world'})"
      ]
     },
     "execution_count": 12,
     "metadata": {},
     "output_type": "execute_result"
    }
   ],
   "source": [
    "counts"
   ]
  },
  {
   "cell_type": "code",
   "execution_count": 13,
   "id": "latin-banks",
   "metadata": {},
   "outputs": [],
   "source": [
    "del counts['hello']"
   ]
  },
  {
   "cell_type": "code",
   "execution_count": 14,
   "id": "recreational-litigation",
   "metadata": {},
   "outputs": [
    {
     "data": {
      "text/plain": [
       "defaultdict(int,\n",
       "            {'h': 2,\n",
       "             'e': 3,\n",
       "             'l': 2,\n",
       "             'o': 1,\n",
       "             ' ': 4,\n",
       "             'm': 2,\n",
       "             'y': 2,\n",
       "             'n': 1,\n",
       "             'a': 1,\n",
       "             'i': 1,\n",
       "             's': 1,\n",
       "             'd': 1,\n",
       "             'r': 1,\n",
       "             'python': 0})"
      ]
     },
     "execution_count": 14,
     "metadata": {},
     "output_type": "execute_result"
    }
   ],
   "source": [
    "counts"
   ]
  },
  {
   "cell_type": "code",
   "execution_count": 17,
   "id": "awful-month",
   "metadata": {},
   "outputs": [
    {
     "data": {
      "text/plain": [
       "0"
      ]
     },
     "execution_count": 17,
     "metadata": {},
     "output_type": "execute_result"
    }
   ],
   "source": [
    "d = defaultdict(int)\n",
    "d['a']"
   ]
  },
  {
   "cell_type": "code",
   "execution_count": 18,
   "id": "obvious-buffalo",
   "metadata": {},
   "outputs": [
    {
     "data": {
      "text/plain": [
       "''"
      ]
     },
     "execution_count": 18,
     "metadata": {},
     "output_type": "execute_result"
    }
   ],
   "source": [
    "d = defaultdict(str)\n",
    "d['a']"
   ]
  },
  {
   "cell_type": "code",
   "execution_count": 19,
   "id": "white-underwear",
   "metadata": {},
   "outputs": [
    {
     "data": {
      "text/plain": [
       "()"
      ]
     },
     "execution_count": 19,
     "metadata": {},
     "output_type": "execute_result"
    }
   ],
   "source": [
    "d = defaultdict(tuple)\n",
    "d['a']"
   ]
  },
  {
   "cell_type": "code",
   "execution_count": 20,
   "id": "different-kingston",
   "metadata": {},
   "outputs": [
    {
     "data": {
      "text/plain": [
       "[]"
      ]
     },
     "execution_count": 20,
     "metadata": {},
     "output_type": "execute_result"
    }
   ],
   "source": [
    "d = defaultdict(list)\n",
    "d['a']"
   ]
  },
  {
   "cell_type": "code",
   "execution_count": 21,
   "id": "surface-giant",
   "metadata": {},
   "outputs": [
    {
     "data": {
      "text/plain": [
       "False"
      ]
     },
     "execution_count": 21,
     "metadata": {},
     "output_type": "execute_result"
    }
   ],
   "source": [
    "d = defaultdict(bool)\n",
    "d['a']"
   ]
  },
  {
   "cell_type": "code",
   "execution_count": 23,
   "id": "minus-superintendent",
   "metadata": {},
   "outputs": [
    {
     "data": {
      "text/plain": [
       "set()"
      ]
     },
     "execution_count": 23,
     "metadata": {},
     "output_type": "execute_result"
    }
   ],
   "source": [
    "d = defaultdict(set)\n",
    "d['a']"
   ]
  },
  {
   "cell_type": "code",
   "execution_count": 33,
   "id": "spatial-remains",
   "metadata": {},
   "outputs": [],
   "source": [
    "persons = {\n",
    "    'john': {'age': 20, 'eye_color': 'blue'},\n",
    "    'jack': {'age': 25, 'eye_color': 'brown'},\n",
    "    'jill': {'age': 22, 'eye_color': 'blue'},\n",
    "    'eric': {'age': 35},\n",
    "    'michael': {'age': 27}\n",
    "}"
   ]
  },
  {
   "cell_type": "code",
   "execution_count": 40,
   "id": "stopped-biography",
   "metadata": {},
   "outputs": [
    {
     "data": {
      "text/plain": [
       "{'blue': ['john', 'jill'], 'brown': ['jack'], 'Unknown': ['eric', 'michael']}"
      ]
     },
     "execution_count": 40,
     "metadata": {},
     "output_type": "execute_result"
    }
   ],
   "source": [
    "eye_details = dict()\n",
    "for person, details in persons.items():\n",
    "    eyecolor = details.get('eye_color', 'Unknown')\n",
    "    person_list = eye_details.get(eyecolor,list())\n",
    "    person_list.append(person)\n",
    "    eye_details[eyecolor] = person_list\n",
    "eye_details"
   ]
  },
  {
   "cell_type": "code",
   "execution_count": 41,
   "id": "freelance-johnston",
   "metadata": {},
   "outputs": [],
   "source": [
    "eye_details = defaultdict(list)\n",
    "for person, details in persons.items():\n",
    "    eyecolor = details.get('eye_color', 'Unknown')\n",
    "    eye_details[eyecolor].append(person)"
   ]
  },
  {
   "cell_type": "code",
   "execution_count": 42,
   "id": "further-final",
   "metadata": {},
   "outputs": [
    {
     "data": {
      "text/plain": [
       "defaultdict(list,\n",
       "            {'blue': ['john', 'jill'],\n",
       "             'brown': ['jack'],\n",
       "             'Unknown': ['eric', 'michael']})"
      ]
     },
     "execution_count": 42,
     "metadata": {},
     "output_type": "execute_result"
    }
   ],
   "source": [
    "eye_details"
   ]
  },
  {
   "cell_type": "code",
   "execution_count": 43,
   "id": "clean-radio",
   "metadata": {},
   "outputs": [],
   "source": [
    "persons = {\n",
    "    'john': defaultdict(lambda : 'Unknown',age=20, eye_color='blue'),\n",
    "    'jack': defaultdict(lambda : 'Unknown',age=25, eye_color='brown'),\n",
    "    'jill': defaultdict(lambda : 'Unknown',age=22, eye_color='blue'),\n",
    "    'eric': defaultdict(lambda : 'Unknown',age=20),\n",
    "    'michael': defaultdict(lambda : 'Unknown',age=27)\n",
    "}"
   ]
  },
  {
   "cell_type": "code",
   "execution_count": 44,
   "id": "public-structure",
   "metadata": {},
   "outputs": [],
   "source": [
    "eye_details = defaultdict(list)\n",
    "for person, details in persons.items():\n",
    "    eyecolor = details['eye_color']\n",
    "    eye_details[eyecolor].append(person)"
   ]
  },
  {
   "cell_type": "code",
   "execution_count": 45,
   "id": "prostate-estimate",
   "metadata": {},
   "outputs": [
    {
     "data": {
      "text/plain": [
       "defaultdict(list,\n",
       "            {'blue': ['john', 'jill'],\n",
       "             'brown': ['jack'],\n",
       "             'Unknown': ['eric', 'michael']})"
      ]
     },
     "execution_count": 45,
     "metadata": {},
     "output_type": "execute_result"
    }
   ],
   "source": [
    "eye_details"
   ]
  },
  {
   "cell_type": "code",
   "execution_count": 46,
   "id": "respected-voluntary",
   "metadata": {},
   "outputs": [],
   "source": [
    "from functools import partial"
   ]
  },
  {
   "cell_type": "code",
   "execution_count": 47,
   "id": "smooth-battle",
   "metadata": {},
   "outputs": [],
   "source": [
    "eye_dict = partial(defaultdict, lambda : 'Unknown')"
   ]
  },
  {
   "cell_type": "code",
   "execution_count": 48,
   "id": "turkish-quarterly",
   "metadata": {},
   "outputs": [],
   "source": [
    "persons = {\n",
    "    'john': eye_dict(age=20, eye_color='blue'),\n",
    "    'jack': eye_dict(age=25, eye_color='brown'),\n",
    "    'jill': eye_dict(age=22, eye_color='blue'),\n",
    "    'eric': eye_dict(age=20),\n",
    "    'michael': eye_dict(age=27)\n",
    "}"
   ]
  },
  {
   "cell_type": "code",
   "execution_count": 49,
   "id": "static-implementation",
   "metadata": {},
   "outputs": [],
   "source": [
    "eye_details = defaultdict(list)\n",
    "for person, details in persons.items():\n",
    "    eyecolor = details['eye_color']\n",
    "    eye_details[eyecolor].append(person)"
   ]
  },
  {
   "cell_type": "code",
   "execution_count": 50,
   "id": "native-thesis",
   "metadata": {},
   "outputs": [
    {
     "data": {
      "text/plain": [
       "defaultdict(list,\n",
       "            {'blue': ['john', 'jill'],\n",
       "             'brown': ['jack'],\n",
       "             'Unknown': ['eric', 'michael']})"
      ]
     },
     "execution_count": 50,
     "metadata": {},
     "output_type": "execute_result"
    }
   ],
   "source": [
    "eye_details"
   ]
  },
  {
   "cell_type": "code",
   "execution_count": 67,
   "id": "exotic-christian",
   "metadata": {},
   "outputs": [],
   "source": [
    "def function_stats():\n",
    "    d = defaultdict(lambda : dict(count = 0, first_called = datetime.now()))\n",
    "    Stats = namedtuple('Stats', 'decorator data') \n",
    "    def decorator(fn):\n",
    "        @wraps(fn)\n",
    "        def inner(*args, **kwargs):\n",
    "            d[fn.__name__]['count'] += 1\n",
    "            return fn(*args, **kwargs)\n",
    "        return inner\n",
    "    return Stats(decorator, d)"
   ]
  },
  {
   "cell_type": "code",
   "execution_count": 68,
   "id": "respiratory-pitch",
   "metadata": {},
   "outputs": [],
   "source": [
    "stats = function_stats()"
   ]
  },
  {
   "cell_type": "code",
   "execution_count": 69,
   "id": "alone-differential",
   "metadata": {},
   "outputs": [
    {
     "data": {
      "text/plain": [
       "defaultdict(<function __main__.function_stats.<locals>.<lambda>()>, {})"
      ]
     },
     "execution_count": 69,
     "metadata": {},
     "output_type": "execute_result"
    }
   ],
   "source": [
    "stats.data"
   ]
  },
  {
   "cell_type": "code",
   "execution_count": 70,
   "id": "extended-draft",
   "metadata": {},
   "outputs": [],
   "source": [
    "@stats.decorator\n",
    "def fn1():\n",
    "    pass"
   ]
  },
  {
   "cell_type": "code",
   "execution_count": 71,
   "id": "postal-meaning",
   "metadata": {},
   "outputs": [],
   "source": [
    "fn1()"
   ]
  },
  {
   "cell_type": "code",
   "execution_count": 72,
   "id": "offensive-benchmark",
   "metadata": {},
   "outputs": [
    {
     "data": {
      "text/plain": [
       "defaultdict(<function __main__.function_stats.<locals>.<lambda>()>,\n",
       "            {'fn1': {'count': 1,\n",
       "              'first_called': datetime.datetime(2021, 4, 1, 13, 1, 59, 583630)}})"
      ]
     },
     "execution_count": 72,
     "metadata": {},
     "output_type": "execute_result"
    }
   ],
   "source": [
    "stats.data"
   ]
  },
  {
   "cell_type": "code",
   "execution_count": 73,
   "id": "liable-praise",
   "metadata": {},
   "outputs": [],
   "source": [
    "@stats.decorator\n",
    "def fn2():\n",
    "    pass"
   ]
  },
  {
   "cell_type": "code",
   "execution_count": 74,
   "id": "removable-revelation",
   "metadata": {},
   "outputs": [
    {
     "data": {
      "text/plain": [
       "defaultdict(<function __main__.function_stats.<locals>.<lambda>()>,\n",
       "            {'fn1': {'count': 1,\n",
       "              'first_called': datetime.datetime(2021, 4, 1, 13, 1, 59, 583630)}})"
      ]
     },
     "execution_count": 74,
     "metadata": {},
     "output_type": "execute_result"
    }
   ],
   "source": [
    "stats.data"
   ]
  },
  {
   "cell_type": "code",
   "execution_count": 75,
   "id": "superb-thunder",
   "metadata": {},
   "outputs": [],
   "source": [
    "fn2()"
   ]
  },
  {
   "cell_type": "code",
   "execution_count": 76,
   "id": "injured-probe",
   "metadata": {},
   "outputs": [
    {
     "data": {
      "text/plain": [
       "defaultdict(<function __main__.function_stats.<locals>.<lambda>()>,\n",
       "            {'fn1': {'count': 1,\n",
       "              'first_called': datetime.datetime(2021, 4, 1, 13, 1, 59, 583630)},\n",
       "             'fn2': {'count': 1,\n",
       "              'first_called': datetime.datetime(2021, 4, 1, 13, 2, 39, 696622)}})"
      ]
     },
     "execution_count": 76,
     "metadata": {},
     "output_type": "execute_result"
    }
   ],
   "source": [
    "stats.data"
   ]
  },
  {
   "cell_type": "code",
   "execution_count": 77,
   "id": "placed-reference",
   "metadata": {},
   "outputs": [],
   "source": [
    "fn2()"
   ]
  },
  {
   "cell_type": "code",
   "execution_count": 78,
   "id": "political-accountability",
   "metadata": {},
   "outputs": [
    {
     "data": {
      "text/plain": [
       "defaultdict(<function __main__.function_stats.<locals>.<lambda>()>,\n",
       "            {'fn1': {'count': 1,\n",
       "              'first_called': datetime.datetime(2021, 4, 1, 13, 1, 59, 583630)},\n",
       "             'fn2': {'count': 2,\n",
       "              'first_called': datetime.datetime(2021, 4, 1, 13, 2, 39, 696622)}})"
      ]
     },
     "execution_count": 78,
     "metadata": {},
     "output_type": "execute_result"
    }
   ],
   "source": [
    "stats.data"
   ]
  },
  {
   "cell_type": "code",
   "execution_count": null,
   "id": "neural-germany",
   "metadata": {},
   "outputs": [],
   "source": []
  }
 ],
 "metadata": {
  "kernelspec": {
   "display_name": "Python 3",
   "language": "python",
   "name": "python3"
  },
  "language_info": {
   "codemirror_mode": {
    "name": "ipython",
    "version": 3
   },
   "file_extension": ".py",
   "mimetype": "text/x-python",
   "name": "python",
   "nbconvert_exporter": "python",
   "pygments_lexer": "ipython3",
   "version": "3.9.1"
  }
 },
 "nbformat": 4,
 "nbformat_minor": 5
}
