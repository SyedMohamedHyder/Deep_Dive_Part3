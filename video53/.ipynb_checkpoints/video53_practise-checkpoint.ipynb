{
 "cells": [
  {
   "cell_type": "code",
   "execution_count": 1,
   "id": "speaking-exhaust",
   "metadata": {},
   "outputs": [],
   "source": [
    "import json"
   ]
  },
  {
   "cell_type": "code",
   "execution_count": 2,
   "id": "viral-shame",
   "metadata": {},
   "outputs": [],
   "source": [
    "j = '''\n",
    "\n",
    "    {\n",
    "    \n",
    "        \"name\" : \"python\",\n",
    "        \"age\" : 27,\n",
    "        \"versions\" : [\"2.x\", \"3.x\"]\n",
    "    \n",
    "    }\n",
    "\n",
    "'''"
   ]
  },
  {
   "cell_type": "code",
   "execution_count": 3,
   "id": "appointed-brown",
   "metadata": {},
   "outputs": [
    {
     "data": {
      "text/plain": [
       "{'name': 'python', 'age': 27, 'versions': ['2.x', '3.x']}"
      ]
     },
     "execution_count": 3,
     "metadata": {},
     "output_type": "execute_result"
    }
   ],
   "source": [
    "json.loads(j)"
   ]
  },
  {
   "cell_type": "code",
   "execution_count": 8,
   "id": "activated-remove",
   "metadata": {},
   "outputs": [],
   "source": [
    "j = '''\n",
    "    {\n",
    "        \"time\": {\n",
    "            \"created\": \"2020-08-03T11:11:11\",\n",
    "            \"destroyed\": \"2021-09-04T12:12:12\"\n",
    "        },\n",
    "        \"message\": \"Hello World\"\n",
    "    }\n",
    "'''"
   ]
  },
  {
   "cell_type": "code",
   "execution_count": 9,
   "id": "express-aside",
   "metadata": {},
   "outputs": [
    {
     "data": {
      "text/plain": [
       "{'time': {'created': '2020-08-03T11:11:11',\n",
       "  'destroyed': '2021-09-04T12:12:12'},\n",
       " 'message': 'Hello World'}"
      ]
     },
     "execution_count": 9,
     "metadata": {},
     "output_type": "execute_result"
    }
   ],
   "source": [
    "json.loads(j)"
   ]
  },
  {
   "cell_type": "code",
   "execution_count": 10,
   "id": "about-sampling",
   "metadata": {},
   "outputs": [],
   "source": [
    "j = '''\n",
    "    {\n",
    "        \"time\": {\n",
    "            \"created\": {\n",
    "                \"objecttype\": \"datetime\",\n",
    "                \"value\": \"2020-08-03T11:11:11\"\n",
    "                },\n",
    "            \"destroyed\": {\n",
    "                \"objecttype\": \"datetime\",\n",
    "                \"value\": \"2021-09-04T12:12:12\"\n",
    "                }\n",
    "        },\n",
    "        \"message\": \"Hello World\"\n",
    "    }\n",
    "'''"
   ]
  },
  {
   "cell_type": "code",
   "execution_count": 13,
   "id": "turkish-homeless",
   "metadata": {},
   "outputs": [],
   "source": [
    "from datetime import datetime"
   ]
  },
  {
   "cell_type": "code",
   "execution_count": 14,
   "id": "affected-elevation",
   "metadata": {},
   "outputs": [],
   "source": [
    "def decoder(arg):\n",
    "    if arg.get('objecttype') == 'datetime':\n",
    "        return datetime.strptime(arg['value'], '%Y-%m-%dT%H:%M:%S')\n",
    "    else:\n",
    "        return arg"
   ]
  },
  {
   "cell_type": "code",
   "execution_count": 15,
   "id": "impressed-calibration",
   "metadata": {},
   "outputs": [
    {
     "data": {
      "text/plain": [
       "{'time': {'created': datetime.datetime(2020, 8, 3, 11, 11, 11),\n",
       "  'destroyed': datetime.datetime(2021, 9, 4, 12, 12, 12)},\n",
       " 'message': 'Hello World'}"
      ]
     },
     "execution_count": 15,
     "metadata": {},
     "output_type": "execute_result"
    }
   ],
   "source": [
    "json.loads(j, object_hook=decoder)"
   ]
  },
  {
   "cell_type": "code",
   "execution_count": 26,
   "id": "valid-cemetery",
   "metadata": {},
   "outputs": [],
   "source": [
    "j = '''\n",
    "    {\n",
    "        \"time\": {\n",
    "            \"created\": {\n",
    "                \"objecttype\": \"datetime\",\n",
    "                \"value\": \"2020-08-03T11:11:11\"\n",
    "                },\n",
    "            \"destroyed\": {\n",
    "                \"objecttype\": \"datetime\",\n",
    "                \"value\": \"2021-09-04T12:12:12\"\n",
    "                }\n",
    "        },\n",
    "        \"my_fraction\": {\n",
    "            \"objecttype\": \"fraction\",\n",
    "            \"numerator\" : 1,\n",
    "            \"denominator\" : 8\n",
    "        },\n",
    "        \"message\": \"Hello World\"\n",
    "    }\n",
    "'''"
   ]
  },
  {
   "cell_type": "code",
   "execution_count": 27,
   "id": "charming-iraqi",
   "metadata": {},
   "outputs": [],
   "source": [
    "from fractions import Fraction"
   ]
  },
  {
   "cell_type": "code",
   "execution_count": 28,
   "id": "interior-access",
   "metadata": {},
   "outputs": [],
   "source": [
    "def decoder(arg):\n",
    "    print(arg)\n",
    "    if arg.get('objecttype') == 'datetime':\n",
    "        return datetime.strptime(arg['value'], '%Y-%m-%dT%H:%M:%S')\n",
    "    elif arg.get('objecttype') == 'fraction':\n",
    "        return Fraction(arg['numerator'], arg['denominator'])\n",
    "    else:\n",
    "        return arg"
   ]
  },
  {
   "cell_type": "code",
   "execution_count": 29,
   "id": "arbitrary-shopper",
   "metadata": {},
   "outputs": [
    {
     "name": "stdout",
     "output_type": "stream",
     "text": [
      "{'objecttype': 'datetime', 'value': '2020-08-03T11:11:11'}\n",
      "{'objecttype': 'datetime', 'value': '2021-09-04T12:12:12'}\n",
      "{'created': datetime.datetime(2020, 8, 3, 11, 11, 11), 'destroyed': datetime.datetime(2021, 9, 4, 12, 12, 12)}\n",
      "{'objecttype': 'fraction', 'numerator': 1, 'denominator': 8}\n",
      "{'time': {'created': datetime.datetime(2020, 8, 3, 11, 11, 11), 'destroyed': datetime.datetime(2021, 9, 4, 12, 12, 12)}, 'my_fraction': Fraction(1, 8), 'message': 'Hello World'}\n"
     ]
    },
    {
     "data": {
      "text/plain": [
       "{'time': {'created': datetime.datetime(2020, 8, 3, 11, 11, 11),\n",
       "  'destroyed': datetime.datetime(2021, 9, 4, 12, 12, 12)},\n",
       " 'my_fraction': Fraction(1, 8),\n",
       " 'message': 'Hello World'}"
      ]
     },
     "execution_count": 29,
     "metadata": {},
     "output_type": "execute_result"
    }
   ],
   "source": [
    "json.loads(j, object_hook=decoder)"
   ]
  },
  {
   "cell_type": "code",
   "execution_count": 30,
   "id": "seven-antigua",
   "metadata": {},
   "outputs": [
    {
     "name": "stdout",
     "output_type": "stream",
     "text": [
      "{'objecttype': 'fraction', 'numerator': 10, 'denominator': 1}\n"
     ]
    },
    {
     "data": {
      "text/plain": [
       "Fraction(10, 1)"
      ]
     },
     "execution_count": 30,
     "metadata": {},
     "output_type": "execute_result"
    }
   ],
   "source": [
    "decoder(dict(objecttype='fraction', numerator=10, denominator=1))"
   ]
  },
  {
   "cell_type": "code",
   "execution_count": 31,
   "id": "seven-bailey",
   "metadata": {},
   "outputs": [
    {
     "name": "stdout",
     "output_type": "stream",
     "text": [
      "{'a': 1}\n"
     ]
    },
    {
     "data": {
      "text/plain": [
       "{'a': 1}"
      ]
     },
     "execution_count": 31,
     "metadata": {},
     "output_type": "execute_result"
    }
   ],
   "source": [
    "decoder(dict(a=1))"
   ]
  },
  {
   "cell_type": "code",
   "execution_count": 32,
   "id": "electrical-psychiatry",
   "metadata": {},
   "outputs": [],
   "source": [
    "j = '''\n",
    "    {\n",
    "        \"cake\": \"yummy chocolate cake\",\n",
    "        \"myShare\": {\n",
    "            \"objecttype\": \"fraction\",\n",
    "            \"numerator\": 1,\n",
    "            \"denominator\": 8\n",
    "        },\n",
    "        \"eaten\": {\n",
    "            \"at\": {\n",
    "                \"objecttype\": \"datetime\",\n",
    "                \"value\": \"2018-10-21T21:30:00\"\n",
    "                },\n",
    "            \"time_taken\": \"30 seconds\"\n",
    "        }\n",
    "    }\n",
    "'''"
   ]
  },
  {
   "cell_type": "code",
   "execution_count": 33,
   "id": "relevant-cattle",
   "metadata": {},
   "outputs": [
    {
     "name": "stdout",
     "output_type": "stream",
     "text": [
      "{'objecttype': 'fraction', 'numerator': 1, 'denominator': 8}\n",
      "{'objecttype': 'datetime', 'value': '2018-10-21T21:30:00'}\n",
      "{'at': datetime.datetime(2018, 10, 21, 21, 30), 'time_taken': '30 seconds'}\n",
      "{'cake': 'yummy chocolate cake', 'myShare': Fraction(1, 8), 'eaten': {'at': datetime.datetime(2018, 10, 21, 21, 30), 'time_taken': '30 seconds'}}\n"
     ]
    },
    {
     "data": {
      "text/plain": [
       "{'cake': 'yummy chocolate cake',\n",
       " 'myShare': Fraction(1, 8),\n",
       " 'eaten': {'at': datetime.datetime(2018, 10, 21, 21, 30),\n",
       "  'time_taken': '30 seconds'}}"
      ]
     },
     "execution_count": 33,
     "metadata": {},
     "output_type": "execute_result"
    }
   ],
   "source": [
    "json.loads(j, object_hook=decoder)"
   ]
  },
  {
   "cell_type": "code",
   "execution_count": 35,
   "id": "varied-groove",
   "metadata": {},
   "outputs": [],
   "source": [
    "class Person:\n",
    "    def __init__(self, name, ssn):\n",
    "        self.name=name\n",
    "        self.ssn=ssn\n",
    "        \n",
    "    def __repr__(self):\n",
    "        return f'Person(name={self.name}, ssn={self.ssn})'\n",
    "    \n",
    "    def toJson(self):\n",
    "        return dict(objecttype='person', name=self.name, ssn=self.ssn)"
   ]
  },
  {
   "cell_type": "code",
   "execution_count": 36,
   "id": "handy-ceramic",
   "metadata": {},
   "outputs": [],
   "source": [
    "def decoder(arg):\n",
    "    print(arg)\n",
    "    if arg.get('objecttype') == 'datetime':\n",
    "        return datetime.strptime(arg['value'], '%Y-%m-%dT%H:%M:%S')\n",
    "    elif arg.get('objecttype') == 'fraction':\n",
    "        return Fraction(arg['numerator'], arg['denominator'])\n",
    "    elif arg.get('objecttype') == 'person':\n",
    "        return Person(arg['name'], arg['ssn'])\n",
    "    else:\n",
    "        return arg"
   ]
  },
  {
   "cell_type": "code",
   "execution_count": 37,
   "id": "separate-journal",
   "metadata": {},
   "outputs": [],
   "source": [
    "j = '''\n",
    "    {\n",
    "        \"accountHolder\": {\n",
    "            \"objecttype\": \"person\",\n",
    "            \"name\": \"Eric Idle\",\n",
    "            \"ssn\": 100\n",
    "        },\n",
    "        \"created\": {\n",
    "            \"objecttype\": \"datetime\",\n",
    "            \"value\": \"2018-10-21T03:00:00\"\n",
    "        }\n",
    "    }\n",
    "'''"
   ]
  },
  {
   "cell_type": "code",
   "execution_count": 38,
   "id": "verbal-double",
   "metadata": {},
   "outputs": [
    {
     "name": "stdout",
     "output_type": "stream",
     "text": [
      "{'objecttype': 'person', 'name': 'Eric Idle', 'ssn': 100}\n",
      "{'objecttype': 'datetime', 'value': '2018-10-21T03:00:00'}\n",
      "{'accountHolder': Person(name=Eric Idle, ssn=100), 'created': datetime.datetime(2018, 10, 21, 3, 0)}\n"
     ]
    },
    {
     "data": {
      "text/plain": [
       "{'accountHolder': Person(name=Eric Idle, ssn=100),\n",
       " 'created': datetime.datetime(2018, 10, 21, 3, 0)}"
      ]
     },
     "execution_count": 38,
     "metadata": {},
     "output_type": "execute_result"
    }
   ],
   "source": [
    "json.loads(j, object_hook=decoder)"
   ]
  },
  {
   "cell_type": "code",
   "execution_count": 47,
   "id": "cheap-dispatch",
   "metadata": {},
   "outputs": [],
   "source": [
    "def int_handler(arg):\n",
    "    print('Called int handler', arg)\n",
    "    return int(arg)\n",
    "\n",
    "def float_handler(arg):\n",
    "    print('Called float handler', arg)\n",
    "    return float(arg)\n",
    "\n",
    "def constant_handler(arg):\n",
    "    print('Calling constant', arg)\n",
    "    return None\n",
    "    \n",
    "def obj_hook(arg):\n",
    "    print('Called obj hook', arg)\n",
    "    return arg\n",
    "\n",
    "def obj_pair_hooks(arg):\n",
    "    print('Called obj pair hooks', arg)\n",
    "    return arg"
   ]
  },
  {
   "cell_type": "code",
   "execution_count": 48,
   "id": "hazardous-relative",
   "metadata": {},
   "outputs": [],
   "source": [
    "j = '''\n",
    "    {\n",
    "        \"a\": [1, 2, 3, 4, 5],\n",
    "        \"b\": 100,\n",
    "        \"c\": 10.5,\n",
    "        \"d\": NaN,\n",
    "        \"e\": null,\n",
    "        \"f\": \"python\",\n",
    "        \"g\": Infinity\n",
    "    }\n",
    "'''"
   ]
  },
  {
   "cell_type": "code",
   "execution_count": 49,
   "id": "afraid-idaho",
   "metadata": {},
   "outputs": [
    {
     "name": "stdout",
     "output_type": "stream",
     "text": [
      "Called int handler 1\n",
      "Called int handler 2\n",
      "Called int handler 3\n",
      "Called int handler 4\n",
      "Called int handler 5\n",
      "Called int handler 100\n",
      "Called float handler 10.5\n",
      "Calling constant NaN\n",
      "Calling constant Infinity\n",
      "Called obj hook {'a': [1, 2, 3, 4, 5], 'b': 100, 'c': 10.5, 'd': None, 'e': None, 'f': 'python', 'g': None}\n"
     ]
    },
    {
     "data": {
      "text/plain": [
       "{'a': [1, 2, 3, 4, 5],\n",
       " 'b': 100,\n",
       " 'c': 10.5,\n",
       " 'd': None,\n",
       " 'e': None,\n",
       " 'f': 'python',\n",
       " 'g': None}"
      ]
     },
     "execution_count": 49,
     "metadata": {},
     "output_type": "execute_result"
    }
   ],
   "source": [
    "json.loads(j, \n",
    "           object_hook=obj_hook,\n",
    "           parse_float=float_handler,\n",
    "           parse_int=int_handler,\n",
    "           parse_constant=constant_handler\n",
    "          )"
   ]
  },
  {
   "cell_type": "code",
   "execution_count": 50,
   "id": "three-cotton",
   "metadata": {
    "scrolled": true
   },
   "outputs": [
    {
     "name": "stdout",
     "output_type": "stream",
     "text": [
      "Called int handler 1\n",
      "Called int handler 2\n",
      "Called int handler 3\n",
      "Called int handler 4\n",
      "Called int handler 5\n",
      "Called int handler 100\n",
      "Called float handler 10.5\n",
      "Calling constant NaN\n",
      "Calling constant Infinity\n",
      "Called obj pair hooks [('a', [1, 2, 3, 4, 5]), ('b', 100), ('c', 10.5), ('d', None), ('e', None), ('f', 'python'), ('g', None)]\n"
     ]
    },
    {
     "data": {
      "text/plain": [
       "[('a', [1, 2, 3, 4, 5]),\n",
       " ('b', 100),\n",
       " ('c', 10.5),\n",
       " ('d', None),\n",
       " ('e', None),\n",
       " ('f', 'python'),\n",
       " ('g', None)]"
      ]
     },
     "execution_count": 50,
     "metadata": {},
     "output_type": "execute_result"
    }
   ],
   "source": [
    "json.loads(j, \n",
    "           object_hook=obj_hook,\n",
    "           parse_float=float_handler,\n",
    "           parse_int=int_handler,\n",
    "           parse_constant=constant_handler,\n",
    "           object_pairs_hook=obj_pair_hooks\n",
    "          )"
   ]
  },
  {
   "cell_type": "code",
   "execution_count": null,
   "id": "frozen-marks",
   "metadata": {},
   "outputs": [],
   "source": []
  }
 ],
 "metadata": {
  "kernelspec": {
   "display_name": "Python 3",
   "language": "python",
   "name": "python3"
  },
  "language_info": {
   "codemirror_mode": {
    "name": "ipython",
    "version": 3
   },
   "file_extension": ".py",
   "mimetype": "text/x-python",
   "name": "python",
   "nbconvert_exporter": "python",
   "pygments_lexer": "ipython3",
   "version": "3.9.1"
  }
 },
 "nbformat": 4,
 "nbformat_minor": 5
}
