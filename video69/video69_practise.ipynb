{
 "cells": [
  {
   "cell_type": "code",
   "execution_count": 1,
   "id": "excited-limitation",
   "metadata": {},
   "outputs": [],
   "source": [
    "from timeit import timeit\n",
    "from collections import OrderedDict"
   ]
  },
  {
   "cell_type": "code",
   "execution_count": 4,
   "id": "promising-plant",
   "metadata": {},
   "outputs": [],
   "source": [
    "d1 = OrderedDict(a=1, b=2, c=3, d=4)\n",
    "d2 = dict(a=1, b=2, c=3, d=4)\n",
    "d3 = dict(b=2, c=3, a=1, d=4)"
   ]
  },
  {
   "cell_type": "code",
   "execution_count": 5,
   "id": "present-buffer",
   "metadata": {},
   "outputs": [
    {
     "data": {
      "text/plain": [
       "True"
      ]
     },
     "execution_count": 5,
     "metadata": {},
     "output_type": "execute_result"
    }
   ],
   "source": [
    "d1 == d2"
   ]
  },
  {
   "cell_type": "code",
   "execution_count": 6,
   "id": "heavy-evening",
   "metadata": {},
   "outputs": [
    {
     "data": {
      "text/plain": [
       "True"
      ]
     },
     "execution_count": 6,
     "metadata": {},
     "output_type": "execute_result"
    }
   ],
   "source": [
    "d2 == d3"
   ]
  },
  {
   "cell_type": "code",
   "execution_count": 7,
   "id": "synthetic-integration",
   "metadata": {},
   "outputs": [],
   "source": [
    "def isequally_ordered_dicts(d1, d2):\n",
    "    return d1 == d2 and all(k1==k2 for k1, k2 in zip(d1,d2))"
   ]
  },
  {
   "cell_type": "code",
   "execution_count": 8,
   "id": "artificial-peace",
   "metadata": {},
   "outputs": [
    {
     "data": {
      "text/plain": [
       "True"
      ]
     },
     "execution_count": 8,
     "metadata": {},
     "output_type": "execute_result"
    }
   ],
   "source": [
    "isequally_ordered_dicts(d1, d2)"
   ]
  },
  {
   "cell_type": "code",
   "execution_count": 9,
   "id": "medium-artwork",
   "metadata": {},
   "outputs": [
    {
     "data": {
      "text/plain": [
       "True"
      ]
     },
     "execution_count": 9,
     "metadata": {},
     "output_type": "execute_result"
    }
   ],
   "source": [
    "isequally_ordered_dicts(d2, d2)"
   ]
  },
  {
   "cell_type": "code",
   "execution_count": 10,
   "id": "brave-newton",
   "metadata": {},
   "outputs": [
    {
     "data": {
      "text/plain": [
       "False"
      ]
     },
     "execution_count": 10,
     "metadata": {},
     "output_type": "execute_result"
    }
   ],
   "source": [
    "isequally_ordered_dicts(d2, d3)"
   ]
  },
  {
   "cell_type": "code",
   "execution_count": 11,
   "id": "helpful-basketball",
   "metadata": {},
   "outputs": [
    {
     "data": {
      "text/plain": [
       "OrderedDict([('a', 1), ('b', 2), ('c', 3), ('d', 4)])"
      ]
     },
     "execution_count": 11,
     "metadata": {},
     "output_type": "execute_result"
    }
   ],
   "source": [
    "d1"
   ]
  },
  {
   "cell_type": "code",
   "execution_count": 12,
   "id": "august-alpha",
   "metadata": {},
   "outputs": [],
   "source": [
    "d1.move_to_end('a')"
   ]
  },
  {
   "cell_type": "code",
   "execution_count": 13,
   "id": "reserved-phrase",
   "metadata": {},
   "outputs": [
    {
     "data": {
      "text/plain": [
       "OrderedDict([('b', 2), ('c', 3), ('d', 4), ('a', 1)])"
      ]
     },
     "execution_count": 13,
     "metadata": {},
     "output_type": "execute_result"
    }
   ],
   "source": [
    "d1"
   ]
  },
  {
   "cell_type": "code",
   "execution_count": 14,
   "id": "seventh-input",
   "metadata": {},
   "outputs": [],
   "source": [
    "d1.move_to_end('a', last=False)"
   ]
  },
  {
   "cell_type": "code",
   "execution_count": 15,
   "id": "covered-deficit",
   "metadata": {},
   "outputs": [
    {
     "data": {
      "text/plain": [
       "OrderedDict([('a', 1), ('b', 2), ('c', 3), ('d', 4)])"
      ]
     },
     "execution_count": 15,
     "metadata": {},
     "output_type": "execute_result"
    }
   ],
   "source": [
    "d1"
   ]
  },
  {
   "cell_type": "code",
   "execution_count": 122,
   "id": "stone-employer",
   "metadata": {},
   "outputs": [],
   "source": [
    "def move_to_end(d, key, *, last=True):\n",
    "    d[key] = d.pop(key)\n",
    "    \n",
    "    if not last:\n",
    "        for key in list(d.keys())[:-1]:\n",
    "            d[key] = d.pop(key)     "
   ]
  },
  {
   "cell_type": "code",
   "execution_count": 123,
   "id": "enclosed-fortune",
   "metadata": {},
   "outputs": [],
   "source": [
    "move_to_end(d2, 'a')"
   ]
  },
  {
   "cell_type": "code",
   "execution_count": 124,
   "id": "focal-installation",
   "metadata": {
    "scrolled": false
   },
   "outputs": [
    {
     "data": {
      "text/plain": [
       "{'b': 2, 'd': 4, 'c': 3, 'a': 1}"
      ]
     },
     "execution_count": 124,
     "metadata": {},
     "output_type": "execute_result"
    }
   ],
   "source": [
    "d2"
   ]
  },
  {
   "cell_type": "code",
   "execution_count": 125,
   "id": "electric-rainbow",
   "metadata": {
    "scrolled": true
   },
   "outputs": [
    {
     "data": {
      "text/plain": [
       "{'a': 1, 'b': 2, 'd': 4, 'c': 3}"
      ]
     },
     "execution_count": 125,
     "metadata": {},
     "output_type": "execute_result"
    }
   ],
   "source": [
    "move_to_end(d2, 'a', last=False)\n",
    "d2"
   ]
  },
  {
   "cell_type": "code",
   "execution_count": 126,
   "id": "medical-murray",
   "metadata": {},
   "outputs": [
    {
     "data": {
      "text/plain": [
       "{'a': 1, 'b': 2, 'd': 4, 'c': 3}"
      ]
     },
     "execution_count": 126,
     "metadata": {},
     "output_type": "execute_result"
    }
   ],
   "source": [
    "d2"
   ]
  },
  {
   "cell_type": "code",
   "execution_count": 127,
   "id": "signed-budget",
   "metadata": {},
   "outputs": [],
   "source": [
    "results = {\n",
    "    'dict_move_end': timeit('move_to_end(d2, \"a\")', globals=globals(), number=10_00_000),\n",
    "    'dict_move_front': timeit('move_to_end(d2, \"a\", last=False)', globals=globals(), number=1_00_000),\n",
    "}"
   ]
  },
  {
   "cell_type": "code",
   "execution_count": 128,
   "id": "domestic-budapest",
   "metadata": {},
   "outputs": [
    {
     "data": {
      "text/plain": [
       "{'dict_move_end': 0.60715110000001, 'dict_move_front': 0.19594759999995404}"
      ]
     },
     "execution_count": 128,
     "metadata": {},
     "output_type": "execute_result"
    }
   ],
   "source": [
    "results"
   ]
  },
  {
   "cell_type": "code",
   "execution_count": null,
   "id": "adjacent-knowing",
   "metadata": {},
   "outputs": [],
   "source": []
  }
 ],
 "metadata": {
  "kernelspec": {
   "display_name": "Python 3",
   "language": "python",
   "name": "python3"
  },
  "language_info": {
   "codemirror_mode": {
    "name": "ipython",
    "version": 3
   },
   "file_extension": ".py",
   "mimetype": "text/x-python",
   "name": "python",
   "nbconvert_exporter": "python",
   "pygments_lexer": "ipython3",
   "version": "3.9.1"
  }
 },
 "nbformat": 4,
 "nbformat_minor": 5
}
