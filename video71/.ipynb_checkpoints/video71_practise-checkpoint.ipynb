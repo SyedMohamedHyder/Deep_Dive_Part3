{
 "cells": [
  {
   "cell_type": "code",
   "execution_count": 2,
   "id": "chemical-billion",
   "metadata": {},
   "outputs": [],
   "source": [
    "from collections import Counter, defaultdict"
   ]
  },
  {
   "cell_type": "code",
   "execution_count": 3,
   "id": "metric-tractor",
   "metadata": {},
   "outputs": [],
   "source": [
    "sentence = 'the quick brown fox jumps over the lazy dog'"
   ]
  },
  {
   "cell_type": "code",
   "execution_count": 4,
   "id": "requested-garage",
   "metadata": {},
   "outputs": [],
   "source": [
    "counter = defaultdict(int)\n",
    "for c in sentence:\n",
    "    counter[c] += 1"
   ]
  },
  {
   "cell_type": "code",
   "execution_count": 5,
   "id": "falling-letters",
   "metadata": {
    "scrolled": true
   },
   "outputs": [
    {
     "data": {
      "text/plain": [
       "defaultdict(int,\n",
       "            {'t': 2,\n",
       "             'h': 2,\n",
       "             'e': 3,\n",
       "             ' ': 8,\n",
       "             'q': 1,\n",
       "             'u': 2,\n",
       "             'i': 1,\n",
       "             'c': 1,\n",
       "             'k': 1,\n",
       "             'b': 1,\n",
       "             'r': 2,\n",
       "             'o': 4,\n",
       "             'w': 1,\n",
       "             'n': 1,\n",
       "             'f': 1,\n",
       "             'x': 1,\n",
       "             'j': 1,\n",
       "             'm': 1,\n",
       "             'p': 1,\n",
       "             's': 1,\n",
       "             'v': 1,\n",
       "             'l': 1,\n",
       "             'a': 1,\n",
       "             'z': 1,\n",
       "             'y': 1,\n",
       "             'd': 1,\n",
       "             'g': 1})"
      ]
     },
     "execution_count": 5,
     "metadata": {},
     "output_type": "execute_result"
    }
   ],
   "source": [
    "counter"
   ]
  },
  {
   "cell_type": "code",
   "execution_count": 8,
   "id": "unlikely-egyptian",
   "metadata": {
    "scrolled": true
   },
   "outputs": [
    {
     "data": {
      "text/plain": [
       "Counter({'t': 2,\n",
       "         'h': 2,\n",
       "         'e': 3,\n",
       "         ' ': 8,\n",
       "         'q': 1,\n",
       "         'u': 2,\n",
       "         'i': 1,\n",
       "         'c': 1,\n",
       "         'k': 1,\n",
       "         'b': 1,\n",
       "         'r': 2,\n",
       "         'o': 4,\n",
       "         'w': 1,\n",
       "         'n': 1,\n",
       "         'f': 1,\n",
       "         'x': 1,\n",
       "         'j': 1,\n",
       "         'm': 1,\n",
       "         'p': 1,\n",
       "         's': 1,\n",
       "         'v': 1,\n",
       "         'l': 1,\n",
       "         'a': 1,\n",
       "         'z': 1,\n",
       "         'y': 1,\n",
       "         'd': 1,\n",
       "         'g': 1})"
      ]
     },
     "execution_count": 8,
     "metadata": {},
     "output_type": "execute_result"
    }
   ],
   "source": [
    "Counter(sentence)"
   ]
  },
  {
   "cell_type": "code",
   "execution_count": 7,
   "id": "latest-essex",
   "metadata": {},
   "outputs": [
    {
     "data": {
      "text/plain": [
       "True"
      ]
     },
     "execution_count": 7,
     "metadata": {},
     "output_type": "execute_result"
    }
   ],
   "source": [
    "Counter(sentence) == counter"
   ]
  },
  {
   "cell_type": "code",
   "execution_count": 27,
   "id": "criminal-enterprise",
   "metadata": {},
   "outputs": [],
   "source": [
    "c = Counter({'a': 'Hello', 'b': 'World'})"
   ]
  },
  {
   "cell_type": "code",
   "execution_count": 28,
   "id": "alive-steering",
   "metadata": {},
   "outputs": [
    {
     "data": {
      "text/plain": [
       "Counter({'a': 'Hello', 'b': 'World'})"
      ]
     },
     "execution_count": 28,
     "metadata": {},
     "output_type": "execute_result"
    }
   ],
   "source": [
    "c"
   ]
  },
  {
   "cell_type": "code",
   "execution_count": 9,
   "id": "oriented-supplier",
   "metadata": {},
   "outputs": [],
   "source": [
    "c1 = Counter([('a', 1), ('b', 2)])"
   ]
  },
  {
   "cell_type": "code",
   "execution_count": 10,
   "id": "dimensional-mumbai",
   "metadata": {},
   "outputs": [
    {
     "data": {
      "text/plain": [
       "Counter({('a', 1): 1, ('b', 2): 1})"
      ]
     },
     "execution_count": 10,
     "metadata": {},
     "output_type": "execute_result"
    }
   ],
   "source": [
    "c1"
   ]
  },
  {
   "cell_type": "code",
   "execution_count": 11,
   "id": "metric-moses",
   "metadata": {},
   "outputs": [],
   "source": [
    "import random"
   ]
  },
  {
   "cell_type": "code",
   "execution_count": 12,
   "id": "mounted-living",
   "metadata": {},
   "outputs": [],
   "source": [
    "random.seed(0)\n",
    "my_list = [random.randrange(1, 11) for _ in range(1000)]"
   ]
  },
  {
   "cell_type": "code",
   "execution_count": 13,
   "id": "sitting-rider",
   "metadata": {},
   "outputs": [
    {
     "data": {
      "text/plain": [
       "Counter({7: 103,\n",
       "         1: 105,\n",
       "         5: 102,\n",
       "         9: 87,\n",
       "         8: 107,\n",
       "         6: 98,\n",
       "         10: 92,\n",
       "         4: 94,\n",
       "         3: 92,\n",
       "         2: 120})"
      ]
     },
     "execution_count": 13,
     "metadata": {},
     "output_type": "execute_result"
    }
   ],
   "source": [
    "Counter(my_list)"
   ]
  },
  {
   "cell_type": "code",
   "execution_count": 14,
   "id": "dimensional-albania",
   "metadata": {},
   "outputs": [
    {
     "data": {
      "text/plain": [
       "Counter({7: 103,\n",
       "         1: 105,\n",
       "         5: 102,\n",
       "         9: 87,\n",
       "         8: 107,\n",
       "         6: 98,\n",
       "         10: 92,\n",
       "         4: 94,\n",
       "         3: 92,\n",
       "         2: 120})"
      ]
     },
     "execution_count": 14,
     "metadata": {},
     "output_type": "execute_result"
    }
   ],
   "source": [
    "random.seed(0)\n",
    "my_list = [random.randrange(1, 11) for _ in range(1000)]\n",
    "Counter(my_list)"
   ]
  },
  {
   "cell_type": "code",
   "execution_count": 15,
   "id": "intermediate-refund",
   "metadata": {},
   "outputs": [],
   "source": [
    "import re"
   ]
  },
  {
   "cell_type": "code",
   "execution_count": 16,
   "id": "indonesian-might",
   "metadata": {},
   "outputs": [],
   "source": [
    "sentence = '''\n",
    "his module implements pseudo-random number generators for various distributions.\n",
    "\n",
    "For integers, there is uniform selection from a range. For sequences, there is uniform selection of a random element, a function to generate a random permutation of a list in-place, and a function for random sampling without replacement.\n",
    "\n",
    "On the real line, there are functions to compute uniform, normal (Gaussian), lognormal, negative exponential, gamma, and beta distributions. For generating distributions of angles, the von Mises distribution is available.\n",
    "\n",
    "Almost all module functions depend on the basic function random(), which generates a random float uniformly in the semi-open range [0.0, 1.0). Python uses the Mersenne Twister as the core generator. It produces 53-bit precision floats and has a period of 2**19937-1. The underlying implementation in C is both fast and threadsafe. The Mersenne Twister is one of the most extensively tested random number generators in existence. However, being completely deterministic, it is not suitable for all purposes, and is completely unsuitable for cryptographic purposes.'''"
   ]
  },
  {
   "cell_type": "code",
   "execution_count": 17,
   "id": "different-dealing",
   "metadata": {},
   "outputs": [],
   "source": [
    "words = re.split('\\W', sentence)"
   ]
  },
  {
   "cell_type": "code",
   "execution_count": 18,
   "id": "presidential-aquarium",
   "metadata": {},
   "outputs": [
    {
     "data": {
      "text/plain": [
       "['',\n",
       " 'his',\n",
       " 'module',\n",
       " 'implements',\n",
       " 'pseudo',\n",
       " 'random',\n",
       " 'number',\n",
       " 'generators',\n",
       " 'for',\n",
       " 'various',\n",
       " 'distributions',\n",
       " '',\n",
       " '',\n",
       " 'For',\n",
       " 'integers',\n",
       " '',\n",
       " 'there',\n",
       " 'is',\n",
       " 'uniform',\n",
       " 'selection',\n",
       " 'from',\n",
       " 'a',\n",
       " 'range',\n",
       " '',\n",
       " 'For',\n",
       " 'sequences',\n",
       " '',\n",
       " 'there',\n",
       " 'is',\n",
       " 'uniform',\n",
       " 'selection',\n",
       " 'of',\n",
       " 'a',\n",
       " 'random',\n",
       " 'element',\n",
       " '',\n",
       " 'a',\n",
       " 'function',\n",
       " 'to',\n",
       " 'generate',\n",
       " 'a',\n",
       " 'random',\n",
       " 'permutation',\n",
       " 'of',\n",
       " 'a',\n",
       " 'list',\n",
       " 'in',\n",
       " 'place',\n",
       " '',\n",
       " 'and',\n",
       " 'a',\n",
       " 'function',\n",
       " 'for',\n",
       " 'random',\n",
       " 'sampling',\n",
       " 'without',\n",
       " 'replacement',\n",
       " '',\n",
       " '',\n",
       " 'On',\n",
       " 'the',\n",
       " 'real',\n",
       " 'line',\n",
       " '',\n",
       " 'there',\n",
       " 'are',\n",
       " 'functions',\n",
       " 'to',\n",
       " 'compute',\n",
       " 'uniform',\n",
       " '',\n",
       " 'normal',\n",
       " '',\n",
       " 'Gaussian',\n",
       " '',\n",
       " '',\n",
       " 'lognormal',\n",
       " '',\n",
       " 'negative',\n",
       " 'exponential',\n",
       " '',\n",
       " 'gamma',\n",
       " '',\n",
       " 'and',\n",
       " 'beta',\n",
       " 'distributions',\n",
       " '',\n",
       " 'For',\n",
       " 'generating',\n",
       " 'distributions',\n",
       " 'of',\n",
       " 'angles',\n",
       " '',\n",
       " 'the',\n",
       " 'von',\n",
       " 'Mises',\n",
       " 'distribution',\n",
       " 'is',\n",
       " 'available',\n",
       " '',\n",
       " '',\n",
       " 'Almost',\n",
       " 'all',\n",
       " 'module',\n",
       " 'functions',\n",
       " 'depend',\n",
       " 'on',\n",
       " 'the',\n",
       " 'basic',\n",
       " 'function',\n",
       " 'random',\n",
       " '',\n",
       " '',\n",
       " '',\n",
       " 'which',\n",
       " 'generates',\n",
       " 'a',\n",
       " 'random',\n",
       " 'float',\n",
       " 'uniformly',\n",
       " 'in',\n",
       " 'the',\n",
       " 'semi',\n",
       " 'open',\n",
       " 'range',\n",
       " '',\n",
       " '0',\n",
       " '0',\n",
       " '',\n",
       " '1',\n",
       " '0',\n",
       " '',\n",
       " '',\n",
       " 'Python',\n",
       " 'uses',\n",
       " 'the',\n",
       " 'Mersenne',\n",
       " 'Twister',\n",
       " 'as',\n",
       " 'the',\n",
       " 'core',\n",
       " 'generator',\n",
       " '',\n",
       " 'It',\n",
       " 'produces',\n",
       " '53',\n",
       " 'bit',\n",
       " 'precision',\n",
       " 'floats',\n",
       " 'and',\n",
       " 'has',\n",
       " 'a',\n",
       " 'period',\n",
       " 'of',\n",
       " '2',\n",
       " '',\n",
       " '19937',\n",
       " '1',\n",
       " '',\n",
       " 'The',\n",
       " 'underlying',\n",
       " 'implementation',\n",
       " 'in',\n",
       " 'C',\n",
       " 'is',\n",
       " 'both',\n",
       " 'fast',\n",
       " 'and',\n",
       " 'threadsafe',\n",
       " '',\n",
       " 'The',\n",
       " 'Mersenne',\n",
       " 'Twister',\n",
       " 'is',\n",
       " 'one',\n",
       " 'of',\n",
       " 'the',\n",
       " 'most',\n",
       " 'extensively',\n",
       " 'tested',\n",
       " 'random',\n",
       " 'number',\n",
       " 'generators',\n",
       " 'in',\n",
       " 'existence',\n",
       " '',\n",
       " 'However',\n",
       " '',\n",
       " 'being',\n",
       " 'completely',\n",
       " 'deterministic',\n",
       " '',\n",
       " 'it',\n",
       " 'is',\n",
       " 'not',\n",
       " 'suitable',\n",
       " 'for',\n",
       " 'all',\n",
       " 'purposes',\n",
       " '',\n",
       " 'and',\n",
       " 'is',\n",
       " 'completely',\n",
       " 'unsuitable',\n",
       " 'for',\n",
       " 'cryptographic',\n",
       " 'purposes',\n",
       " '']"
      ]
     },
     "execution_count": 18,
     "metadata": {},
     "output_type": "execute_result"
    }
   ],
   "source": [
    "words"
   ]
  },
  {
   "cell_type": "code",
   "execution_count": 19,
   "id": "funny-resort",
   "metadata": {
    "scrolled": true
   },
   "outputs": [
    {
     "data": {
      "text/plain": [
       "[('', 38), ('a', 8), ('random', 7), ('is', 7), ('the', 7)]"
      ]
     },
     "execution_count": 19,
     "metadata": {},
     "output_type": "execute_result"
    }
   ],
   "source": [
    "Counter(words).most_common(5)"
   ]
  },
  {
   "cell_type": "code",
   "execution_count": 20,
   "id": "certain-murder",
   "metadata": {},
   "outputs": [],
   "source": [
    "d = {i : i for i in range(1, 11)}"
   ]
  },
  {
   "cell_type": "code",
   "execution_count": 22,
   "id": "alpha-story",
   "metadata": {},
   "outputs": [
    {
     "data": {
      "text/plain": [
       "{1: 1, 2: 2, 3: 3, 4: 4, 5: 5, 6: 6, 7: 7, 8: 8, 9: 9, 10: 10}"
      ]
     },
     "execution_count": 22,
     "metadata": {},
     "output_type": "execute_result"
    }
   ],
   "source": [
    "d"
   ]
  },
  {
   "cell_type": "code",
   "execution_count": 24,
   "id": "applicable-banana",
   "metadata": {},
   "outputs": [],
   "source": [
    "c = Counter(d)"
   ]
  },
  {
   "cell_type": "code",
   "execution_count": 26,
   "id": "unavailable-driving",
   "metadata": {
    "scrolled": true
   },
   "outputs": [
    {
     "data": {
      "text/plain": [
       "[1,\n",
       " 2,\n",
       " 2,\n",
       " 3,\n",
       " 3,\n",
       " 3,\n",
       " 4,\n",
       " 4,\n",
       " 4,\n",
       " 4,\n",
       " 5,\n",
       " 5,\n",
       " 5,\n",
       " 5,\n",
       " 5,\n",
       " 6,\n",
       " 6,\n",
       " 6,\n",
       " 6,\n",
       " 6,\n",
       " 6,\n",
       " 7,\n",
       " 7,\n",
       " 7,\n",
       " 7,\n",
       " 7,\n",
       " 7,\n",
       " 7,\n",
       " 8,\n",
       " 8,\n",
       " 8,\n",
       " 8,\n",
       " 8,\n",
       " 8,\n",
       " 8,\n",
       " 8,\n",
       " 9,\n",
       " 9,\n",
       " 9,\n",
       " 9,\n",
       " 9,\n",
       " 9,\n",
       " 9,\n",
       " 9,\n",
       " 9,\n",
       " 10,\n",
       " 10,\n",
       " 10,\n",
       " 10,\n",
       " 10,\n",
       " 10,\n",
       " 10,\n",
       " 10,\n",
       " 10,\n",
       " 10]"
      ]
     },
     "execution_count": 26,
     "metadata": {},
     "output_type": "execute_result"
    }
   ],
   "source": [
    "list(c.elements())"
   ]
  },
  {
   "cell_type": "code",
   "execution_count": 30,
   "id": "hazardous-magnitude",
   "metadata": {},
   "outputs": [],
   "source": [
    "class RepeatIterable:\n",
    "    def __init__(self, **kwargs):\n",
    "        self._d = kwargs\n",
    "        \n",
    "    def __getitem__(self, key):\n",
    "        return self._d[key]\n",
    "    \n",
    "    def __setitem__(self, key, value):\n",
    "        self._d[key] = value\n",
    "        \n",
    "    def elements(self):\n",
    "        for key, value in self._d.items():\n",
    "            for _ in range(value):\n",
    "                yield key"
   ]
  },
  {
   "cell_type": "code",
   "execution_count": 31,
   "id": "overall-robin",
   "metadata": {},
   "outputs": [],
   "source": [
    "r = RepeatIterable(a=1, b=5)"
   ]
  },
  {
   "cell_type": "code",
   "execution_count": 32,
   "id": "integrated-central",
   "metadata": {},
   "outputs": [
    {
     "data": {
      "text/plain": [
       "['a', 'b', 'b', 'b', 'b', 'b']"
      ]
     },
     "execution_count": 32,
     "metadata": {},
     "output_type": "execute_result"
    }
   ],
   "source": [
    "list(r.elements())"
   ]
  },
  {
   "cell_type": "code",
   "execution_count": 33,
   "id": "stretch-auditor",
   "metadata": {},
   "outputs": [
    {
     "data": {
      "text/plain": [
       "{'a': 1, 'b': 5}"
      ]
     },
     "execution_count": 33,
     "metadata": {},
     "output_type": "execute_result"
    }
   ],
   "source": [
    "r._d"
   ]
  },
  {
   "cell_type": "code",
   "execution_count": 34,
   "id": "selective-sucking",
   "metadata": {},
   "outputs": [
    {
     "name": "stdout",
     "output_type": "stream",
     "text": [
      "Counter({'c': 5, 'b': 3, 'd': 3, 'a': 1})\n"
     ]
    }
   ],
   "source": [
    "c1 = Counter(a=1, b=2, c=3)\n",
    "c2 = Counter(b=1, c=2, d=3)\n",
    "\n",
    "c1.update(c2)\n",
    "print(c1)"
   ]
  },
  {
   "cell_type": "code",
   "execution_count": 35,
   "id": "brown-listening",
   "metadata": {},
   "outputs": [
    {
     "name": "stdout",
     "output_type": "stream",
     "text": [
      "Counter({'a': 1, 'b': 1, 'c': 1, 'd': -3})\n"
     ]
    }
   ],
   "source": [
    "c1 = Counter(a=1, b=2, c=3)\n",
    "c2 = Counter(b=1, c=2, d=3)\n",
    "\n",
    "c1.subtract(c2)\n",
    "print(c1)"
   ]
  },
  {
   "cell_type": "code",
   "execution_count": 36,
   "id": "inside-plenty",
   "metadata": {},
   "outputs": [
    {
     "data": {
      "text/plain": [
       "Counter({'a': 1, 'b': 3, 'c': 5, 'd': 3})"
      ]
     },
     "execution_count": 36,
     "metadata": {},
     "output_type": "execute_result"
    }
   ],
   "source": [
    "c1 = Counter(a=1, b=2, c=3)\n",
    "c2 = Counter(b=1, c=2, d=3)\n",
    "\n",
    "c1+c2"
   ]
  },
  {
   "cell_type": "code",
   "execution_count": 37,
   "id": "answering-feeding",
   "metadata": {},
   "outputs": [
    {
     "data": {
      "text/plain": [
       "Counter({'a': 1, 'b': 1, 'c': 1})"
      ]
     },
     "execution_count": 37,
     "metadata": {},
     "output_type": "execute_result"
    }
   ],
   "source": [
    "c1 -c2"
   ]
  },
  {
   "cell_type": "code",
   "execution_count": 38,
   "id": "incident-favorite",
   "metadata": {},
   "outputs": [
    {
     "data": {
      "text/plain": [
       "Counter({'d': 3})"
      ]
     },
     "execution_count": 38,
     "metadata": {},
     "output_type": "execute_result"
    }
   ],
   "source": [
    "c2 - c1"
   ]
  },
  {
   "cell_type": "code",
   "execution_count": 39,
   "id": "assumed-profit",
   "metadata": {},
   "outputs": [],
   "source": [
    "c = Counter(a=1, b=-10, c=0)"
   ]
  },
  {
   "cell_type": "code",
   "execution_count": 40,
   "id": "running-border",
   "metadata": {},
   "outputs": [
    {
     "data": {
      "text/plain": [
       "Counter({'b': 10})"
      ]
     },
     "execution_count": 40,
     "metadata": {},
     "output_type": "execute_result"
    }
   ],
   "source": [
    "-c"
   ]
  },
  {
   "cell_type": "code",
   "execution_count": 41,
   "id": "complex-peninsula",
   "metadata": {},
   "outputs": [
    {
     "data": {
      "text/plain": [
       "Counter({'a': 1})"
      ]
     },
     "execution_count": 41,
     "metadata": {},
     "output_type": "execute_result"
    }
   ],
   "source": [
    "+c"
   ]
  },
  {
   "cell_type": "code",
   "execution_count": 42,
   "id": "final-cinema",
   "metadata": {},
   "outputs": [
    {
     "data": {
      "text/plain": [
       "Counter({'b': 1, 'c': 2})"
      ]
     },
     "execution_count": 42,
     "metadata": {},
     "output_type": "execute_result"
    }
   ],
   "source": [
    "c1 = Counter(a=1, b=2, c=3)\n",
    "c2 = Counter(b=1, c=2, d=3)\n",
    "\n",
    "c1&c2"
   ]
  },
  {
   "cell_type": "code",
   "execution_count": 43,
   "id": "clear-graphics",
   "metadata": {},
   "outputs": [
    {
     "data": {
      "text/plain": [
       "Counter({'a': 1, 'b': 2, 'c': 3, 'd': 3})"
      ]
     },
     "execution_count": 43,
     "metadata": {},
     "output_type": "execute_result"
    }
   ],
   "source": [
    "c1 = Counter(a=1, b=2, c=3)\n",
    "c2 = Counter(b=1, c=2, d=3)\n",
    "\n",
    "c1|c2"
   ]
  },
  {
   "cell_type": "code",
   "execution_count": 47,
   "id": "starting-telling",
   "metadata": {},
   "outputs": [],
   "source": [
    "widgets = ['keyboard', 'mouse', 'monitor', 'charger', 'cable', 'mobile', 'case']\n",
    "\n",
    "random.seed(0)\n",
    "\n",
    "orders = [(random.choice(widgets), random.randrange(1, 6)) for _ in range(100)]\n",
    "refunds = [(random.choice(widgets), random.randrange(1, 4)) for _ in range(20)]"
   ]
  },
  {
   "cell_type": "code",
   "execution_count": 48,
   "id": "final-croatia",
   "metadata": {
    "scrolled": true
   },
   "outputs": [
    {
     "data": {
      "text/plain": [
       "[('case', 4),\n",
       " ('case', 4),\n",
       " ('keyboard', 3),\n",
       " ('cable', 4),\n",
       " ('charger', 3),\n",
       " ('charger', 3),\n",
       " ('cable', 2),\n",
       " ('cable', 2),\n",
       " ('monitor', 2),\n",
       " ('case', 1),\n",
       " ('cable', 3),\n",
       " ('cable', 5),\n",
       " ('mouse', 3),\n",
       " ('keyboard', 1),\n",
       " ('case', 3),\n",
       " ('charger', 5),\n",
       " ('keyboard', 3),\n",
       " ('charger', 3),\n",
       " ('cable', 2),\n",
       " ('cable', 4),\n",
       " ('charger', 5),\n",
       " ('monitor', 1),\n",
       " ('case', 5),\n",
       " ('keyboard', 1),\n",
       " ('mobile', 4),\n",
       " ('mobile', 1),\n",
       " ('cable', 4),\n",
       " ('case', 3),\n",
       " ('mouse', 3),\n",
       " ('mobile', 1),\n",
       " ('mouse', 5),\n",
       " ('mouse', 2),\n",
       " ('case', 2),\n",
       " ('case', 5),\n",
       " ('charger', 1),\n",
       " ('keyboard', 3),\n",
       " ('cable', 4),\n",
       " ('keyboard', 3),\n",
       " ('cable', 3),\n",
       " ('mobile', 1),\n",
       " ('cable', 3),\n",
       " ('case', 5),\n",
       " ('mouse', 5),\n",
       " ('cable', 5),\n",
       " ('monitor', 4),\n",
       " ('keyboard', 5),\n",
       " ('case', 4),\n",
       " ('monitor', 5),\n",
       " ('mouse', 3),\n",
       " ('mouse', 2),\n",
       " ('case', 2),\n",
       " ('keyboard', 5),\n",
       " ('mobile', 3),\n",
       " ('charger', 1),\n",
       " ('keyboard', 2),\n",
       " ('mouse', 1),\n",
       " ('case', 1),\n",
       " ('mobile', 5),\n",
       " ('mobile', 4),\n",
       " ('case', 5),\n",
       " ('monitor', 5),\n",
       " ('case', 2),\n",
       " ('case', 2),\n",
       " ('mobile', 5),\n",
       " ('case', 4),\n",
       " ('cable', 3),\n",
       " ('charger', 4),\n",
       " ('mobile', 3),\n",
       " ('keyboard', 3),\n",
       " ('cable', 1),\n",
       " ('charger', 5),\n",
       " ('mobile', 3),\n",
       " ('case', 2),\n",
       " ('mouse', 1),\n",
       " ('mobile', 3),\n",
       " ('keyboard', 2),\n",
       " ('monitor', 2),\n",
       " ('monitor', 4),\n",
       " ('case', 1),\n",
       " ('keyboard', 2),\n",
       " ('case', 2),\n",
       " ('keyboard', 5),\n",
       " ('mobile', 5),\n",
       " ('cable', 1),\n",
       " ('keyboard', 1),\n",
       " ('mobile', 2),\n",
       " ('cable', 5),\n",
       " ('keyboard', 4),\n",
       " ('keyboard', 3),\n",
       " ('case', 1),\n",
       " ('keyboard', 5),\n",
       " ('keyboard', 2),\n",
       " ('mouse', 1),\n",
       " ('charger', 2),\n",
       " ('mobile', 1),\n",
       " ('mobile', 1),\n",
       " ('cable', 4),\n",
       " ('cable', 1),\n",
       " ('case', 3),\n",
       " ('keyboard', 2)]"
      ]
     },
     "execution_count": 48,
     "metadata": {},
     "output_type": "execute_result"
    }
   ],
   "source": [
    "orders"
   ]
  },
  {
   "cell_type": "code",
   "execution_count": 49,
   "id": "adverse-auckland",
   "metadata": {},
   "outputs": [
    {
     "data": {
      "text/plain": [
       "[('keyboard', 3),\n",
       " ('monitor', 2),\n",
       " ('charger', 1),\n",
       " ('keyboard', 3),\n",
       " ('charger', 1),\n",
       " ('cable', 1),\n",
       " ('mobile', 2),\n",
       " ('mouse', 2),\n",
       " ('monitor', 3),\n",
       " ('charger', 3),\n",
       " ('mouse', 3),\n",
       " ('mobile', 1),\n",
       " ('case', 1),\n",
       " ('case', 3),\n",
       " ('mouse', 1),\n",
       " ('monitor', 3),\n",
       " ('monitor', 1),\n",
       " ('cable', 2),\n",
       " ('mobile', 1),\n",
       " ('keyboard', 2)]"
      ]
     },
     "execution_count": 49,
     "metadata": {},
     "output_type": "execute_result"
    }
   ],
   "source": [
    "refunds"
   ]
  },
  {
   "cell_type": "code",
   "execution_count": 50,
   "id": "developmental-feeding",
   "metadata": {},
   "outputs": [],
   "source": [
    "from itertools import repeat, chain"
   ]
  },
  {
   "cell_type": "code",
   "execution_count": 53,
   "id": "younger-seating",
   "metadata": {},
   "outputs": [
    {
     "data": {
      "text/plain": [
       "['case', 'case', 'case', 'case']"
      ]
     },
     "execution_count": 53,
     "metadata": {},
     "output_type": "execute_result"
    }
   ],
   "source": [
    "list(repeat('case', 4))"
   ]
  },
  {
   "cell_type": "code",
   "execution_count": 74,
   "id": "adjusted-pickup",
   "metadata": {},
   "outputs": [],
   "source": [
    "order_counts = Counter(chain.from_iterable(repeat(*order) for order in orders))\n",
    "refund_counts = Counter(chain.from_iterable(repeat(*refund) for refund in refunds))"
   ]
  },
  {
   "cell_type": "code",
   "execution_count": 75,
   "id": "passing-cycle",
   "metadata": {},
   "outputs": [
    {
     "data": {
      "text/plain": [
       "Counter({'case': 61,\n",
       "         'keyboard': 55,\n",
       "         'cable': 56,\n",
       "         'charger': 32,\n",
       "         'monitor': 23,\n",
       "         'mouse': 26,\n",
       "         'mobile': 42})"
      ]
     },
     "execution_count": 75,
     "metadata": {},
     "output_type": "execute_result"
    }
   ],
   "source": [
    "order_counts"
   ]
  },
  {
   "cell_type": "code",
   "execution_count": 62,
   "id": "alternative-bullet",
   "metadata": {},
   "outputs": [
    {
     "data": {
      "text/plain": [
       "Counter({'keyboard': 8,\n",
       "         'monitor': 9,\n",
       "         'charger': 5,\n",
       "         'cable': 3,\n",
       "         'mobile': 4,\n",
       "         'mouse': 6,\n",
       "         'case': 4})"
      ]
     },
     "execution_count": 62,
     "metadata": {},
     "output_type": "execute_result"
    }
   ],
   "source": [
    "refund_counts"
   ]
  },
  {
   "cell_type": "code",
   "execution_count": 63,
   "id": "danish-batch",
   "metadata": {},
   "outputs": [],
   "source": [
    "net_orders = order_counts - refund_counts"
   ]
  },
  {
   "cell_type": "code",
   "execution_count": 64,
   "id": "arabic-portsmouth",
   "metadata": {},
   "outputs": [
    {
     "data": {
      "text/plain": [
       "Counter({'case': 57,\n",
       "         'keyboard': 47,\n",
       "         'cable': 53,\n",
       "         'charger': 27,\n",
       "         'monitor': 14,\n",
       "         'mouse': 20,\n",
       "         'mobile': 38})"
      ]
     },
     "execution_count": 64,
     "metadata": {},
     "output_type": "execute_result"
    }
   ],
   "source": [
    "net_orders"
   ]
  },
  {
   "cell_type": "code",
   "execution_count": 80,
   "id": "industrial-farming",
   "metadata": {},
   "outputs": [],
   "source": [
    "net_orders = dict()\n",
    "for widget, count in orders:\n",
    "    net_orders[widget] = net_orders.get(widget, 0) + count\n",
    "\n",
    "for widget, count in refunds:\n",
    "    net_orders[widget] -=  count"
   ]
  },
  {
   "cell_type": "code",
   "execution_count": 81,
   "id": "waiting-preference",
   "metadata": {},
   "outputs": [
    {
     "data": {
      "text/plain": [
       "{'case': 57,\n",
       " 'keyboard': 47,\n",
       " 'cable': 53,\n",
       " 'charger': 27,\n",
       " 'monitor': 14,\n",
       " 'mouse': 20,\n",
       " 'mobile': 38}"
      ]
     },
     "execution_count": 81,
     "metadata": {},
     "output_type": "execute_result"
    }
   ],
   "source": [
    "net_orders"
   ]
  },
  {
   "cell_type": "code",
   "execution_count": 72,
   "id": "latter-julian",
   "metadata": {},
   "outputs": [],
   "source": [
    "refund_orders = dict()\n",
    "for widget, count in refunds:\n",
    "    refund_orders[widget] = refund_orders.get(widget, 0) + count"
   ]
  },
  {
   "cell_type": "code",
   "execution_count": 73,
   "id": "growing-rehabilitation",
   "metadata": {},
   "outputs": [
    {
     "data": {
      "text/plain": [
       "{'keyboard': 8,\n",
       " 'monitor': 9,\n",
       " 'charger': 5,\n",
       " 'cable': 3,\n",
       " 'mobile': 4,\n",
       " 'mouse': 6,\n",
       " 'case': 4}"
      ]
     },
     "execution_count": 73,
     "metadata": {},
     "output_type": "execute_result"
    }
   ],
   "source": [
    "refund_orders"
   ]
  },
  {
   "cell_type": "code",
   "execution_count": 78,
   "id": "marked-gateway",
   "metadata": {},
   "outputs": [],
   "source": [
    "order_counts = dict()\n",
    "for widget, count in orders:\n",
    "    order_counts[widget] = order_counts.get(widget, 0) + count"
   ]
  },
  {
   "cell_type": "code",
   "execution_count": 79,
   "id": "painted-brisbane",
   "metadata": {
    "scrolled": true
   },
   "outputs": [
    {
     "data": {
      "text/plain": [
       "{'case': 61,\n",
       " 'keyboard': 55,\n",
       " 'cable': 56,\n",
       " 'charger': 32,\n",
       " 'monitor': 23,\n",
       " 'mouse': 26,\n",
       " 'mobile': 42}"
      ]
     },
     "execution_count": 79,
     "metadata": {},
     "output_type": "execute_result"
    }
   ],
   "source": [
    "order_counts"
   ]
  },
  {
   "cell_type": "code",
   "execution_count": null,
   "id": "brief-kitty",
   "metadata": {},
   "outputs": [],
   "source": []
  }
 ],
 "metadata": {
  "kernelspec": {
   "display_name": "Python 3",
   "language": "python",
   "name": "python3"
  },
  "language_info": {
   "codemirror_mode": {
    "name": "ipython",
    "version": 3
   },
   "file_extension": ".py",
   "mimetype": "text/x-python",
   "name": "python",
   "nbconvert_exporter": "python",
   "pygments_lexer": "ipython3",
   "version": "3.9.1"
  }
 },
 "nbformat": 4,
 "nbformat_minor": 5
}
