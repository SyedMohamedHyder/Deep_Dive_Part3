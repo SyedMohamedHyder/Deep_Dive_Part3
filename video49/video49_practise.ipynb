{
 "cells": [
  {
   "cell_type": "code",
   "execution_count": 1,
   "id": "comfortable-flashing",
   "metadata": {},
   "outputs": [],
   "source": [
    "import json\n",
    "from datetime import datetime"
   ]
  },
  {
   "cell_type": "code",
   "execution_count": 2,
   "id": "spectacular-albert",
   "metadata": {},
   "outputs": [
    {
     "data": {
      "text/plain": [
       "datetime.datetime(2021, 3, 20, 10, 6, 1, 703696)"
      ]
     },
     "execution_count": 2,
     "metadata": {},
     "output_type": "execute_result"
    }
   ],
   "source": [
    "current = datetime.now()\n",
    "current"
   ]
  },
  {
   "cell_type": "code",
   "execution_count": 3,
   "id": "varied-livestock",
   "metadata": {},
   "outputs": [
    {
     "data": {
      "text/plain": [
       "'2021-03-20T10:06:01.703696'"
      ]
     },
     "execution_count": 3,
     "metadata": {},
     "output_type": "execute_result"
    }
   ],
   "source": [
    "current.isoformat()"
   ]
  },
  {
   "cell_type": "code",
   "execution_count": 4,
   "id": "referenced-classic",
   "metadata": {},
   "outputs": [],
   "source": [
    "def format_iso(dt):\n",
    "    return dt.isoformat()"
   ]
  },
  {
   "cell_type": "code",
   "execution_count": 5,
   "id": "further-conversation",
   "metadata": {},
   "outputs": [
    {
     "ename": "TypeError",
     "evalue": "Object of type datetime is not JSON serializable",
     "output_type": "error",
     "traceback": [
      "\u001b[1;31m---------------------------------------------------------------------------\u001b[0m",
      "\u001b[1;31mTypeError\u001b[0m                                 Traceback (most recent call last)",
      "\u001b[1;32m<ipython-input-5-5851bfba8fe7>\u001b[0m in \u001b[0;36m<module>\u001b[1;34m\u001b[0m\n\u001b[1;32m----> 1\u001b[1;33m \u001b[0mjson\u001b[0m\u001b[1;33m.\u001b[0m\u001b[0mdumps\u001b[0m\u001b[1;33m(\u001b[0m\u001b[1;33m{\u001b[0m\u001b[1;34m'a'\u001b[0m\u001b[1;33m:\u001b[0m\u001b[0mcurrent\u001b[0m\u001b[1;33m}\u001b[0m\u001b[1;33m)\u001b[0m\u001b[1;33m\u001b[0m\u001b[1;33m\u001b[0m\u001b[0m\n\u001b[0m",
      "\u001b[1;32mc:\\users\\asus\\appdata\\local\\programs\\python\\python39\\lib\\json\\__init__.py\u001b[0m in \u001b[0;36mdumps\u001b[1;34m(obj, skipkeys, ensure_ascii, check_circular, allow_nan, cls, indent, separators, default, sort_keys, **kw)\u001b[0m\n\u001b[0;32m    229\u001b[0m         \u001b[0mcls\u001b[0m \u001b[1;32mis\u001b[0m \u001b[1;32mNone\u001b[0m \u001b[1;32mand\u001b[0m \u001b[0mindent\u001b[0m \u001b[1;32mis\u001b[0m \u001b[1;32mNone\u001b[0m \u001b[1;32mand\u001b[0m \u001b[0mseparators\u001b[0m \u001b[1;32mis\u001b[0m \u001b[1;32mNone\u001b[0m \u001b[1;32mand\u001b[0m\u001b[1;33m\u001b[0m\u001b[1;33m\u001b[0m\u001b[0m\n\u001b[0;32m    230\u001b[0m         default is None and not sort_keys and not kw):\n\u001b[1;32m--> 231\u001b[1;33m         \u001b[1;32mreturn\u001b[0m \u001b[0m_default_encoder\u001b[0m\u001b[1;33m.\u001b[0m\u001b[0mencode\u001b[0m\u001b[1;33m(\u001b[0m\u001b[0mobj\u001b[0m\u001b[1;33m)\u001b[0m\u001b[1;33m\u001b[0m\u001b[1;33m\u001b[0m\u001b[0m\n\u001b[0m\u001b[0;32m    232\u001b[0m     \u001b[1;32mif\u001b[0m \u001b[0mcls\u001b[0m \u001b[1;32mis\u001b[0m \u001b[1;32mNone\u001b[0m\u001b[1;33m:\u001b[0m\u001b[1;33m\u001b[0m\u001b[1;33m\u001b[0m\u001b[0m\n\u001b[0;32m    233\u001b[0m         \u001b[0mcls\u001b[0m \u001b[1;33m=\u001b[0m \u001b[0mJSONEncoder\u001b[0m\u001b[1;33m\u001b[0m\u001b[1;33m\u001b[0m\u001b[0m\n",
      "\u001b[1;32mc:\\users\\asus\\appdata\\local\\programs\\python\\python39\\lib\\json\\encoder.py\u001b[0m in \u001b[0;36mencode\u001b[1;34m(self, o)\u001b[0m\n\u001b[0;32m    197\u001b[0m         \u001b[1;31m# exceptions aren't as detailed.  The list call should be roughly\u001b[0m\u001b[1;33m\u001b[0m\u001b[1;33m\u001b[0m\u001b[1;33m\u001b[0m\u001b[0m\n\u001b[0;32m    198\u001b[0m         \u001b[1;31m# equivalent to the PySequence_Fast that ''.join() would do.\u001b[0m\u001b[1;33m\u001b[0m\u001b[1;33m\u001b[0m\u001b[1;33m\u001b[0m\u001b[0m\n\u001b[1;32m--> 199\u001b[1;33m         \u001b[0mchunks\u001b[0m \u001b[1;33m=\u001b[0m \u001b[0mself\u001b[0m\u001b[1;33m.\u001b[0m\u001b[0miterencode\u001b[0m\u001b[1;33m(\u001b[0m\u001b[0mo\u001b[0m\u001b[1;33m,\u001b[0m \u001b[0m_one_shot\u001b[0m\u001b[1;33m=\u001b[0m\u001b[1;32mTrue\u001b[0m\u001b[1;33m)\u001b[0m\u001b[1;33m\u001b[0m\u001b[1;33m\u001b[0m\u001b[0m\n\u001b[0m\u001b[0;32m    200\u001b[0m         \u001b[1;32mif\u001b[0m \u001b[1;32mnot\u001b[0m \u001b[0misinstance\u001b[0m\u001b[1;33m(\u001b[0m\u001b[0mchunks\u001b[0m\u001b[1;33m,\u001b[0m \u001b[1;33m(\u001b[0m\u001b[0mlist\u001b[0m\u001b[1;33m,\u001b[0m \u001b[0mtuple\u001b[0m\u001b[1;33m)\u001b[0m\u001b[1;33m)\u001b[0m\u001b[1;33m:\u001b[0m\u001b[1;33m\u001b[0m\u001b[1;33m\u001b[0m\u001b[0m\n\u001b[0;32m    201\u001b[0m             \u001b[0mchunks\u001b[0m \u001b[1;33m=\u001b[0m \u001b[0mlist\u001b[0m\u001b[1;33m(\u001b[0m\u001b[0mchunks\u001b[0m\u001b[1;33m)\u001b[0m\u001b[1;33m\u001b[0m\u001b[1;33m\u001b[0m\u001b[0m\n",
      "\u001b[1;32mc:\\users\\asus\\appdata\\local\\programs\\python\\python39\\lib\\json\\encoder.py\u001b[0m in \u001b[0;36miterencode\u001b[1;34m(self, o, _one_shot)\u001b[0m\n\u001b[0;32m    255\u001b[0m                 \u001b[0mself\u001b[0m\u001b[1;33m.\u001b[0m\u001b[0mkey_separator\u001b[0m\u001b[1;33m,\u001b[0m \u001b[0mself\u001b[0m\u001b[1;33m.\u001b[0m\u001b[0mitem_separator\u001b[0m\u001b[1;33m,\u001b[0m \u001b[0mself\u001b[0m\u001b[1;33m.\u001b[0m\u001b[0msort_keys\u001b[0m\u001b[1;33m,\u001b[0m\u001b[1;33m\u001b[0m\u001b[1;33m\u001b[0m\u001b[0m\n\u001b[0;32m    256\u001b[0m                 self.skipkeys, _one_shot)\n\u001b[1;32m--> 257\u001b[1;33m         \u001b[1;32mreturn\u001b[0m \u001b[0m_iterencode\u001b[0m\u001b[1;33m(\u001b[0m\u001b[0mo\u001b[0m\u001b[1;33m,\u001b[0m \u001b[1;36m0\u001b[0m\u001b[1;33m)\u001b[0m\u001b[1;33m\u001b[0m\u001b[1;33m\u001b[0m\u001b[0m\n\u001b[0m\u001b[0;32m    258\u001b[0m \u001b[1;33m\u001b[0m\u001b[0m\n\u001b[0;32m    259\u001b[0m def _make_iterencode(markers, _default, _encoder, _indent, _floatstr,\n",
      "\u001b[1;32mc:\\users\\asus\\appdata\\local\\programs\\python\\python39\\lib\\json\\encoder.py\u001b[0m in \u001b[0;36mdefault\u001b[1;34m(self, o)\u001b[0m\n\u001b[0;32m    177\u001b[0m \u001b[1;33m\u001b[0m\u001b[0m\n\u001b[0;32m    178\u001b[0m         \"\"\"\n\u001b[1;32m--> 179\u001b[1;33m         raise TypeError(f'Object of type {o.__class__.__name__} '\n\u001b[0m\u001b[0;32m    180\u001b[0m                         f'is not JSON serializable')\n\u001b[0;32m    181\u001b[0m \u001b[1;33m\u001b[0m\u001b[0m\n",
      "\u001b[1;31mTypeError\u001b[0m: Object of type datetime is not JSON serializable"
     ]
    }
   ],
   "source": [
    "json.dumps({'a':current})"
   ]
  },
  {
   "cell_type": "code",
   "execution_count": 7,
   "id": "macro-chicken",
   "metadata": {},
   "outputs": [
    {
     "data": {
      "text/plain": [
       "'{\"a\": \"2021-03-20T10:06:01.703696\"}'"
      ]
     },
     "execution_count": 7,
     "metadata": {},
     "output_type": "execute_result"
    }
   ],
   "source": [
    "json.dumps({'a' : current}, default=datetime.isoformat)"
   ]
  },
  {
   "cell_type": "code",
   "execution_count": 9,
   "id": "outdoor-mexico",
   "metadata": {},
   "outputs": [
    {
     "data": {
      "text/plain": [
       "'2021-03-20T10:06:01.703696'"
      ]
     },
     "execution_count": 9,
     "metadata": {},
     "output_type": "execute_result"
    }
   ],
   "source": [
    "datetime.isoformat(current)"
   ]
  },
  {
   "cell_type": "code",
   "execution_count": 10,
   "id": "aboriginal-relationship",
   "metadata": {},
   "outputs": [],
   "source": [
    "def custom_json_formatter(arg):\n",
    "    if isinstance(arg, datetime):\n",
    "        return arg.isoformat()\n",
    "    if isinstance(arg, set):\n",
    "        return list(arg)"
   ]
  },
  {
   "cell_type": "code",
   "execution_count": 11,
   "id": "infrared-fever",
   "metadata": {},
   "outputs": [],
   "source": [
    "log = {\n",
    "    'time' : current,\n",
    "    'message' : 'Testing...',\n",
    "    'numbers' : {1, 2, 3}\n",
    "}"
   ]
  },
  {
   "cell_type": "code",
   "execution_count": 12,
   "id": "municipal-williams",
   "metadata": {
    "scrolled": true
   },
   "outputs": [
    {
     "data": {
      "text/plain": [
       "'{\"time\": \"2021-03-20T10:06:01.703696\", \"message\": \"Testing...\", \"numbers\": [1, 2, 3]}'"
      ]
     },
     "execution_count": 12,
     "metadata": {},
     "output_type": "execute_result"
    }
   ],
   "source": [
    "json.dumps(log, default=custom_json_formatter)"
   ]
  },
  {
   "cell_type": "code",
   "execution_count": 13,
   "id": "designed-brunswick",
   "metadata": {},
   "outputs": [],
   "source": [
    "log = {\n",
    "    'time' : current,\n",
    "    'message' : 'Testing...',\n",
    "    'numbers' : (1, 2, 3)\n",
    "}"
   ]
  },
  {
   "cell_type": "code",
   "execution_count": 14,
   "id": "common-husband",
   "metadata": {},
   "outputs": [
    {
     "data": {
      "text/plain": [
       "'{\"time\": \"2021-03-20T10:06:01.703696\", \"message\": \"Testing...\", \"numbers\": [1, 2, 3]}'"
      ]
     },
     "execution_count": 14,
     "metadata": {},
     "output_type": "execute_result"
    }
   ],
   "source": [
    "json.dumps(log, default=custom_json_formatter)"
   ]
  },
  {
   "cell_type": "code",
   "execution_count": 15,
   "id": "passing-lease",
   "metadata": {},
   "outputs": [],
   "source": [
    "log = {\n",
    "    'time' : current,\n",
    "    'message' : 'Testing...',\n",
    "    'numbers' : (i for i in range(3)) # This is a generator.\n",
    "}"
   ]
  },
  {
   "cell_type": "code",
   "execution_count": 16,
   "id": "unnecessary-fitness",
   "metadata": {},
   "outputs": [
    {
     "data": {
      "text/plain": [
       "{'time': datetime.datetime(2021, 3, 20, 10, 6, 1, 703696),\n",
       " 'message': 'Testing...',\n",
       " 'numbers': <generator object <genexpr> at 0x000001EDBDE46890>}"
      ]
     },
     "execution_count": 16,
     "metadata": {},
     "output_type": "execute_result"
    }
   ],
   "source": [
    "log"
   ]
  },
  {
   "cell_type": "code",
   "execution_count": 18,
   "id": "compatible-accused",
   "metadata": {},
   "outputs": [
    {
     "data": {
      "text/plain": [
       "'{\"time\": \"2021-03-20T10:06:01.703696\", \"message\": \"Testing...\", \"numbers\": null}'"
      ]
     },
     "execution_count": 18,
     "metadata": {},
     "output_type": "execute_result"
    }
   ],
   "source": [
    "json.dumps(log, default=custom_json_formatter)"
   ]
  },
  {
   "cell_type": "code",
   "execution_count": 19,
   "id": "bound-mapping",
   "metadata": {},
   "outputs": [],
   "source": [
    "log['numbers'] = frozenset({1, 2, 3})"
   ]
  },
  {
   "cell_type": "code",
   "execution_count": 22,
   "id": "characteristic-wellington",
   "metadata": {},
   "outputs": [
    {
     "data": {
      "text/plain": [
       "'{\"time\": \"2021-03-20T10:06:01.703696\", \"message\": \"Testing...\", \"numbers\": null}'"
      ]
     },
     "execution_count": 22,
     "metadata": {},
     "output_type": "execute_result"
    }
   ],
   "source": [
    "json.dumps(log, default=custom_json_formatter)"
   ]
  },
  {
   "cell_type": "markdown",
   "id": "respiratory-scientist",
   "metadata": {},
   "source": [
    "This is because our custom_json_formatter function returned None"
   ]
  },
  {
   "cell_type": "code",
   "execution_count": 23,
   "id": "small-snapshot",
   "metadata": {},
   "outputs": [],
   "source": [
    "def isiterable(arg):\n",
    "    try:\n",
    "        iter(arg)\n",
    "    except TypeError:\n",
    "        return False\n",
    "    else:\n",
    "        return True\n",
    "    \n",
    "def custom_json_formatter(arg):\n",
    "    if isiterable(arg):\n",
    "        return list(arg)\n",
    "    if isinstance(arg, datetime):\n",
    "        return arg.isoformat()"
   ]
  },
  {
   "cell_type": "code",
   "execution_count": 24,
   "id": "interesting-marble",
   "metadata": {},
   "outputs": [
    {
     "data": {
      "text/plain": [
       "True"
      ]
     },
     "execution_count": 24,
     "metadata": {},
     "output_type": "execute_result"
    }
   ],
   "source": [
    "isiterable([1,2,3])"
   ]
  },
  {
   "cell_type": "code",
   "execution_count": 25,
   "id": "defined-singer",
   "metadata": {},
   "outputs": [
    {
     "data": {
      "text/plain": [
       "True"
      ]
     },
     "execution_count": 25,
     "metadata": {},
     "output_type": "execute_result"
    }
   ],
   "source": [
    "isiterable((1, 2, 3))"
   ]
  },
  {
   "cell_type": "code",
   "execution_count": 27,
   "id": "spiritual-express",
   "metadata": {},
   "outputs": [
    {
     "data": {
      "text/plain": [
       "True"
      ]
     },
     "execution_count": 27,
     "metadata": {},
     "output_type": "execute_result"
    }
   ],
   "source": [
    "isiterable(i for i in range(3))"
   ]
  },
  {
   "cell_type": "code",
   "execution_count": 28,
   "id": "handed-acoustic",
   "metadata": {},
   "outputs": [
    {
     "data": {
      "text/plain": [
       "True"
      ]
     },
     "execution_count": 28,
     "metadata": {},
     "output_type": "execute_result"
    }
   ],
   "source": [
    "isiterable(frozenset({1, 2, 3}))"
   ]
  },
  {
   "cell_type": "code",
   "execution_count": 29,
   "id": "unavailable-visitor",
   "metadata": {},
   "outputs": [
    {
     "data": {
      "text/plain": [
       "True"
      ]
     },
     "execution_count": 29,
     "metadata": {},
     "output_type": "execute_result"
    }
   ],
   "source": [
    "isiterable({1, 2, 3})"
   ]
  },
  {
   "cell_type": "code",
   "execution_count": 30,
   "id": "historic-prague",
   "metadata": {},
   "outputs": [
    {
     "data": {
      "text/plain": [
       "False"
      ]
     },
     "execution_count": 30,
     "metadata": {},
     "output_type": "execute_result"
    }
   ],
   "source": [
    "isiterable(1)"
   ]
  },
  {
   "cell_type": "code",
   "execution_count": 31,
   "id": "devoted-target",
   "metadata": {},
   "outputs": [
    {
     "data": {
      "text/plain": [
       "True"
      ]
     },
     "execution_count": 31,
     "metadata": {},
     "output_type": "execute_result"
    }
   ],
   "source": [
    "isiterable('Hello')"
   ]
  },
  {
   "cell_type": "code",
   "execution_count": 32,
   "id": "excellent-circular",
   "metadata": {},
   "outputs": [
    {
     "data": {
      "text/plain": [
       "True"
      ]
     },
     "execution_count": 32,
     "metadata": {},
     "output_type": "execute_result"
    }
   ],
   "source": [
    "isiterable('a')"
   ]
  },
  {
   "cell_type": "code",
   "execution_count": 33,
   "id": "visible-democracy",
   "metadata": {},
   "outputs": [
    {
     "data": {
      "text/plain": [
       "False"
      ]
     },
     "execution_count": 33,
     "metadata": {},
     "output_type": "execute_result"
    }
   ],
   "source": [
    "isiterable(2.4)"
   ]
  },
  {
   "cell_type": "code",
   "execution_count": 34,
   "id": "together-honor",
   "metadata": {},
   "outputs": [],
   "source": [
    "log = {\n",
    "    'time' : current,\n",
    "    'message' : 'Testing...',\n",
    "    'numbers' : (i for i in range(3))\n",
    "}"
   ]
  },
  {
   "cell_type": "code",
   "execution_count": 35,
   "id": "sufficient-maple",
   "metadata": {},
   "outputs": [
    {
     "data": {
      "text/plain": [
       "'{\"time\": \"2021-03-20T10:06:01.703696\", \"message\": \"Testing...\", \"numbers\": [0, 1, 2]}'"
      ]
     },
     "execution_count": 35,
     "metadata": {},
     "output_type": "execute_result"
    }
   ],
   "source": [
    "json.dumps(log, default=custom_json_formatter)"
   ]
  },
  {
   "cell_type": "code",
   "execution_count": 38,
   "id": "lesbian-electronics",
   "metadata": {},
   "outputs": [],
   "source": [
    "log = {\n",
    "    'time' : current,\n",
    "    'message' : 'Testing...',\n",
    "    'numbers' : frozenset(i for i in range(3))\n",
    "}"
   ]
  },
  {
   "cell_type": "code",
   "execution_count": 39,
   "id": "brilliant-principle",
   "metadata": {},
   "outputs": [
    {
     "data": {
      "text/plain": [
       "'{\"time\": \"2021-03-20T10:06:01.703696\", \"message\": \"Testing...\", \"numbers\": [0, 1, 2]}'"
      ]
     },
     "execution_count": 39,
     "metadata": {},
     "output_type": "execute_result"
    }
   ],
   "source": [
    "json.dumps(log, default=custom_json_formatter)"
   ]
  },
  {
   "cell_type": "code",
   "execution_count": 42,
   "id": "transsexual-utilization",
   "metadata": {},
   "outputs": [],
   "source": [
    "log = {\n",
    "    'time' : current,\n",
    "    'message' : 'Testing...',\n",
    "    'numbers' : {1, 2, 3}\n",
    "}"
   ]
  },
  {
   "cell_type": "code",
   "execution_count": 43,
   "id": "corrected-russian",
   "metadata": {},
   "outputs": [
    {
     "data": {
      "text/plain": [
       "'{\"time\": \"2021-03-20T10:06:01.703696\", \"message\": \"Testing...\", \"numbers\": [1, 2, 3]}'"
      ]
     },
     "execution_count": 43,
     "metadata": {},
     "output_type": "execute_result"
    }
   ],
   "source": [
    "json.dumps(log, default=custom_json_formatter)"
   ]
  },
  {
   "cell_type": "code",
   "execution_count": 44,
   "id": "quiet-english",
   "metadata": {},
   "outputs": [],
   "source": [
    "def custom_json_formatter(arg):\n",
    "    if isiterable(arg):\n",
    "        return list(arg)\n",
    "    if isinstance(arg, datetime):\n",
    "        return arg.isoformat()"
   ]
  },
  {
   "cell_type": "code",
   "execution_count": 45,
   "id": "multiple-conspiracy",
   "metadata": {},
   "outputs": [],
   "source": [
    "class Person:\n",
    "    def __init__(self, name, age):\n",
    "        self.name = name\n",
    "        self.age = age\n",
    "        self.created = datetime.now()\n",
    "        \n",
    "    def __repr__(self):\n",
    "        return f'Person(name={self.name}, age={self.age})'\n",
    "    \n",
    "    def toJson(self):\n",
    "        return vars(self)"
   ]
  },
  {
   "cell_type": "code",
   "execution_count": 46,
   "id": "solid-installation",
   "metadata": {},
   "outputs": [],
   "source": [
    "def custom_json_formatter(arg):\n",
    "    if isinstance(arg, datetime):\n",
    "        return arg.isoformat()\n",
    "    if isinstance(arg, Person):\n",
    "        return arg.toJson()\n",
    "    if isiterable(arg):\n",
    "        return list(arg)"
   ]
  },
  {
   "cell_type": "code",
   "execution_count": 47,
   "id": "federal-pixel",
   "metadata": {},
   "outputs": [],
   "source": [
    "p = Person('John', 10)"
   ]
  },
  {
   "cell_type": "code",
   "execution_count": 48,
   "id": "collected-culture",
   "metadata": {},
   "outputs": [
    {
     "data": {
      "text/plain": [
       "Person(name=John, age=10)"
      ]
     },
     "execution_count": 48,
     "metadata": {},
     "output_type": "execute_result"
    }
   ],
   "source": [
    "p"
   ]
  },
  {
   "cell_type": "code",
   "execution_count": 49,
   "id": "flexible-oriental",
   "metadata": {},
   "outputs": [],
   "source": [
    "log = {\n",
    "    'time' : current,\n",
    "    'message' : 'Testing...',\n",
    "    'numbers' : {1, 2, 3},\n",
    "    'person' : p\n",
    "}"
   ]
  },
  {
   "cell_type": "code",
   "execution_count": 50,
   "id": "attractive-welding",
   "metadata": {
    "scrolled": true
   },
   "outputs": [
    {
     "data": {
      "text/plain": [
       "'{\"time\": \"2021-03-20T10:06:01.703696\", \"message\": \"Testing...\", \"numbers\": [1, 2, 3], \"person\": {\"name\": \"John\", \"age\": 10, \"created\": \"2021-03-20T10:37:45.047526\"}}'"
      ]
     },
     "execution_count": 50,
     "metadata": {},
     "output_type": "execute_result"
    }
   ],
   "source": [
    "json.dumps(log, default=custom_json_formatter)"
   ]
  },
  {
   "cell_type": "code",
   "execution_count": 51,
   "id": "aging-roots",
   "metadata": {},
   "outputs": [],
   "source": [
    "def custom_json_formatter(arg):\n",
    "    if isinstance(arg, datetime):\n",
    "        return arg.isoformat()\n",
    "    elif isiterable(arg):\n",
    "        return list(arg)\n",
    "    else:\n",
    "        try:\n",
    "            return vars(arg)\n",
    "        except TypeError:\n",
    "            return str(arg)"
   ]
  },
  {
   "cell_type": "code",
   "execution_count": 53,
   "id": "smooth-miracle",
   "metadata": {},
   "outputs": [
    {
     "name": "stdout",
     "output_type": "stream",
     "text": [
      "{\n",
      "  \"time\": \"2021-03-20T10:06:01.703696\",\n",
      "  \"message\": \"Testing...\",\n",
      "  \"numbers\": [\n",
      "    1,\n",
      "    2,\n",
      "    3\n",
      "  ],\n",
      "  \"person\": {\n",
      "    \"name\": \"John\",\n",
      "    \"age\": 10,\n",
      "    \"created\": \"2021-03-20T10:37:45.047526\"\n",
      "  }\n",
      "}\n"
     ]
    }
   ],
   "source": [
    "print(json.dumps(log, default=custom_json_formatter, indent=2))"
   ]
  },
  {
   "cell_type": "code",
   "execution_count": 54,
   "id": "coupled-dividend",
   "metadata": {},
   "outputs": [],
   "source": [
    "class Point:\n",
    "    def __init__(self, x, y):\n",
    "        self.x = x\n",
    "        self.y = y\n",
    "        \n",
    "    def __repr__(self):\n",
    "        return f'Point(x={self.x}, y={self.y})'"
   ]
  },
  {
   "cell_type": "code",
   "execution_count": 55,
   "id": "structured-shift",
   "metadata": {},
   "outputs": [],
   "source": [
    "pt1 = Point(1, 2)"
   ]
  },
  {
   "cell_type": "code",
   "execution_count": 56,
   "id": "pleasant-synthetic",
   "metadata": {},
   "outputs": [
    {
     "data": {
      "text/plain": [
       "'Point(x=1, y=2)'"
      ]
     },
     "execution_count": 56,
     "metadata": {},
     "output_type": "execute_result"
    }
   ],
   "source": [
    "str(pt1)"
   ]
  },
  {
   "cell_type": "code",
   "execution_count": 57,
   "id": "human-reset",
   "metadata": {},
   "outputs": [
    {
     "data": {
      "text/plain": [
       "Point(x=1, y=2)"
      ]
     },
     "execution_count": 57,
     "metadata": {},
     "output_type": "execute_result"
    }
   ],
   "source": [
    "pt1"
   ]
  },
  {
   "cell_type": "code",
   "execution_count": 58,
   "id": "chicken-operation",
   "metadata": {},
   "outputs": [],
   "source": [
    "from decimal import Decimal"
   ]
  },
  {
   "cell_type": "code",
   "execution_count": 59,
   "id": "leading-outline",
   "metadata": {},
   "outputs": [],
   "source": [
    "pt2 = Point(Decimal('10.5'), Decimal(1/2))"
   ]
  },
  {
   "cell_type": "code",
   "execution_count": 60,
   "id": "communist-declaration",
   "metadata": {},
   "outputs": [],
   "source": [
    "log['pt1'] = pt1\n",
    "log['pt2'] = pt2"
   ]
  },
  {
   "cell_type": "code",
   "execution_count": 61,
   "id": "organizational-dallas",
   "metadata": {},
   "outputs": [
    {
     "data": {
      "text/plain": [
       "{'time': datetime.datetime(2021, 3, 20, 10, 6, 1, 703696),\n",
       " 'message': 'Testing...',\n",
       " 'numbers': {1, 2, 3},\n",
       " 'person': Person(name=John, age=10),\n",
       " 'pt1': Point(x=1, y=2),\n",
       " 'pt2': Point(x=10.5, y=0.5)}"
      ]
     },
     "execution_count": 61,
     "metadata": {},
     "output_type": "execute_result"
    }
   ],
   "source": [
    "log"
   ]
  },
  {
   "cell_type": "code",
   "execution_count": 62,
   "id": "continuing-nudist",
   "metadata": {},
   "outputs": [
    {
     "name": "stdout",
     "output_type": "stream",
     "text": [
      "{\n",
      "  \"time\": \"2021-03-20T10:06:01.703696\",\n",
      "  \"message\": \"Testing...\",\n",
      "  \"numbers\": [\n",
      "    1,\n",
      "    2,\n",
      "    3\n",
      "  ],\n",
      "  \"person\": {\n",
      "    \"name\": \"John\",\n",
      "    \"age\": 10,\n",
      "    \"created\": \"2021-03-20T10:37:45.047526\"\n",
      "  },\n",
      "  \"pt1\": {\n",
      "    \"x\": 1,\n",
      "    \"y\": 2\n",
      "  },\n",
      "  \"pt2\": {\n",
      "    \"x\": \"10.5\",\n",
      "    \"y\": \"0.5\"\n",
      "  }\n",
      "}\n"
     ]
    }
   ],
   "source": [
    "print(json.dumps(log, default=custom_json_formatter, indent=2))"
   ]
  },
  {
   "cell_type": "code",
   "execution_count": 63,
   "id": "finite-corpus",
   "metadata": {},
   "outputs": [],
   "source": [
    "from functools import singledispatch"
   ]
  },
  {
   "cell_type": "code",
   "execution_count": 72,
   "id": "combined-kitchen",
   "metadata": {},
   "outputs": [],
   "source": [
    "@singledispatch\n",
    "def format_unserializable(arg):\n",
    "    try:\n",
    "        return vars(arg)\n",
    "    except TypeError:\n",
    "        return str(arg)"
   ]
  },
  {
   "cell_type": "code",
   "execution_count": 73,
   "id": "original-colleague",
   "metadata": {},
   "outputs": [],
   "source": [
    "@format_unserializable.register(datetime)\n",
    "def _(arg):\n",
    "    return arg.isoformat()\n",
    "\n",
    "@format_unserializable.register(set)\n",
    "def _(arg):\n",
    "    return list(arg)"
   ]
  },
  {
   "cell_type": "code",
   "execution_count": 74,
   "id": "right-election",
   "metadata": {},
   "outputs": [
    {
     "data": {
      "text/plain": [
       "{'time': datetime.datetime(2021, 3, 20, 10, 6, 1, 703696),\n",
       " 'message': 'Testing...',\n",
       " 'numbers': <generator object <genexpr> at 0x000001EDBE82B890>,\n",
       " 'person': Person(name=John, age=10),\n",
       " 'pt1': Point(x=1, y=2),\n",
       " 'pt2': Point(x=10.5, y=0.5)}"
      ]
     },
     "execution_count": 74,
     "metadata": {},
     "output_type": "execute_result"
    }
   ],
   "source": [
    "log"
   ]
  },
  {
   "cell_type": "code",
   "execution_count": 75,
   "id": "greatest-grass",
   "metadata": {},
   "outputs": [
    {
     "name": "stdout",
     "output_type": "stream",
     "text": [
      "{\n",
      "  \"time\": \"2021-03-20T10:06:01.703696\",\n",
      "  \"message\": \"Testing...\",\n",
      "  \"numbers\": \"<generator object <genexpr> at 0x000001EDBE82B890>\",\n",
      "  \"person\": {\n",
      "    \"name\": \"John\",\n",
      "    \"age\": 10,\n",
      "    \"created\": \"2021-03-20T10:37:45.047526\"\n",
      "  },\n",
      "  \"pt1\": {\n",
      "    \"x\": 1,\n",
      "    \"y\": 2\n",
      "  },\n",
      "  \"pt2\": {\n",
      "    \"x\": \"10.5\",\n",
      "    \"y\": \"0.5\"\n",
      "  }\n",
      "}\n"
     ]
    }
   ],
   "source": [
    "print(json.dumps(log, default=format_unserializable, indent=2))"
   ]
  },
  {
   "cell_type": "code",
   "execution_count": 76,
   "id": "sound-stations",
   "metadata": {},
   "outputs": [],
   "source": [
    "log['numbers'] = {1, 2, 3}"
   ]
  },
  {
   "cell_type": "code",
   "execution_count": 77,
   "id": "sufficient-speed",
   "metadata": {},
   "outputs": [
    {
     "data": {
      "text/plain": [
       "{'time': datetime.datetime(2021, 3, 20, 10, 6, 1, 703696),\n",
       " 'message': 'Testing...',\n",
       " 'numbers': {1, 2, 3},\n",
       " 'person': Person(name=John, age=10),\n",
       " 'pt1': Point(x=1, y=2),\n",
       " 'pt2': Point(x=10.5, y=0.5)}"
      ]
     },
     "execution_count": 77,
     "metadata": {},
     "output_type": "execute_result"
    }
   ],
   "source": [
    "log"
   ]
  },
  {
   "cell_type": "code",
   "execution_count": 92,
   "id": "plastic-agent",
   "metadata": {},
   "outputs": [],
   "source": [
    "@singledispatch\n",
    "def format_unserializable(arg):\n",
    "    if isiterable(arg):\n",
    "        return list(arg)\n",
    "    try:\n",
    "        return vars(arg)\n",
    "    except TypeError:\n",
    "        return str(arg)\n",
    "    \n",
    "@format_unserializable.register(datetime)\n",
    "def _(arg):\n",
    "    return arg.isoformat()"
   ]
  },
  {
   "cell_type": "code",
   "execution_count": 93,
   "id": "cross-generic",
   "metadata": {},
   "outputs": [],
   "source": [
    "log['numbers'] = (i for i in range(1, 4))"
   ]
  },
  {
   "cell_type": "code",
   "execution_count": 94,
   "id": "hungry-floating",
   "metadata": {},
   "outputs": [
    {
     "data": {
      "text/plain": [
       "{'time': datetime.datetime(2021, 3, 20, 10, 6, 1, 703696),\n",
       " 'message': 'Testing...',\n",
       " 'numbers': <generator object <genexpr> at 0x000001EDBE633740>,\n",
       " 'person': Person(name=John, age=10),\n",
       " 'pt1': Point(x=1, y=2),\n",
       " 'pt2': Point(x=10.5, y=0.5),\n",
       " 'numbers2': {1, 2, 3}}"
      ]
     },
     "execution_count": 94,
     "metadata": {},
     "output_type": "execute_result"
    }
   ],
   "source": [
    "log"
   ]
  },
  {
   "cell_type": "code",
   "execution_count": 95,
   "id": "cellular-firmware",
   "metadata": {},
   "outputs": [
    {
     "name": "stdout",
     "output_type": "stream",
     "text": [
      "{\n",
      "  \"time\": \"2021-03-20T10:06:01.703696\",\n",
      "  \"message\": \"Testing...\",\n",
      "  \"numbers\": [\n",
      "    1,\n",
      "    2,\n",
      "    3\n",
      "  ],\n",
      "  \"person\": {\n",
      "    \"name\": \"John\",\n",
      "    \"age\": 10,\n",
      "    \"created\": \"2021-03-20T10:37:45.047526\"\n",
      "  },\n",
      "  \"pt1\": {\n",
      "    \"x\": 1,\n",
      "    \"y\": 2\n",
      "  },\n",
      "  \"pt2\": {\n",
      "    \"x\": \"10.5\",\n",
      "    \"y\": \"0.5\"\n",
      "  },\n",
      "  \"numbers2\": [\n",
      "    1,\n",
      "    2,\n",
      "    3\n",
      "  ]\n",
      "}\n"
     ]
    }
   ],
   "source": [
    "print(json.dumps(log, default=format_unserializable, indent=2))"
   ]
  },
  {
   "cell_type": "code",
   "execution_count": 96,
   "id": "bridal-designation",
   "metadata": {},
   "outputs": [],
   "source": [
    "@format_unserializable.register(Decimal)\n",
    "def _(arg):\n",
    "    return f'Decimal({str(arg)})'"
   ]
  },
  {
   "cell_type": "code",
   "execution_count": 97,
   "id": "closing-wrestling",
   "metadata": {},
   "outputs": [],
   "source": [
    "log['numbers2'] = {1, 2, 3}"
   ]
  },
  {
   "cell_type": "code",
   "execution_count": 98,
   "id": "cardiac-funds",
   "metadata": {},
   "outputs": [
    {
     "data": {
      "text/plain": [
       "{'time': datetime.datetime(2021, 3, 20, 10, 6, 1, 703696),\n",
       " 'message': 'Testing...',\n",
       " 'numbers': <generator object <genexpr> at 0x000001EDBE633740>,\n",
       " 'person': Person(name=John, age=10),\n",
       " 'pt1': Point(x=1, y=2),\n",
       " 'pt2': Point(x=10.5, y=0.5),\n",
       " 'numbers2': {1, 2, 3}}"
      ]
     },
     "execution_count": 98,
     "metadata": {},
     "output_type": "execute_result"
    }
   ],
   "source": [
    "log"
   ]
  },
  {
   "cell_type": "code",
   "execution_count": 99,
   "id": "optimum-london",
   "metadata": {},
   "outputs": [
    {
     "name": "stdout",
     "output_type": "stream",
     "text": [
      "{\n",
      "  \"time\": \"2021-03-20T10:06:01.703696\",\n",
      "  \"message\": \"Testing...\",\n",
      "  \"numbers\": [],\n",
      "  \"person\": {\n",
      "    \"name\": \"John\",\n",
      "    \"age\": 10,\n",
      "    \"created\": \"2021-03-20T10:37:45.047526\"\n",
      "  },\n",
      "  \"pt1\": {\n",
      "    \"x\": 1,\n",
      "    \"y\": 2\n",
      "  },\n",
      "  \"pt2\": {\n",
      "    \"x\": \"Decimal(10.5)\",\n",
      "    \"y\": \"Decimal(0.5)\"\n",
      "  },\n",
      "  \"numbers2\": [\n",
      "    1,\n",
      "    2,\n",
      "    3\n",
      "  ]\n",
      "}\n"
     ]
    }
   ],
   "source": [
    "print(json.dumps(log, default=format_unserializable, indent=2))"
   ]
  },
  {
   "cell_type": "markdown",
   "id": "convertible-hughes",
   "metadata": {},
   "source": [
    "`numbers` in log is empty because it was exhausted"
   ]
  },
  {
   "cell_type": "code",
   "execution_count": null,
   "id": "technical-theme",
   "metadata": {},
   "outputs": [],
   "source": []
  }
 ],
 "metadata": {
  "kernelspec": {
   "display_name": "Python 3",
   "language": "python",
   "name": "python3"
  },
  "language_info": {
   "codemirror_mode": {
    "name": "ipython",
    "version": 3
   },
   "file_extension": ".py",
   "mimetype": "text/x-python",
   "name": "python",
   "nbconvert_exporter": "python",
   "pygments_lexer": "ipython3",
   "version": "3.9.1"
  }
 },
 "nbformat": 4,
 "nbformat_minor": 5
}
