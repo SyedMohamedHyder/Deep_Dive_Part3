{
 "cells": [
  {
   "cell_type": "code",
   "execution_count": 4,
   "id": "agricultural-humanitarian",
   "metadata": {},
   "outputs": [],
   "source": [
    "def sort_on_values(dictionary, *, descending=False):\n",
    "    return dict(sorted(dictionary.items(), key=lambda item : item[1], reverse=descending))"
   ]
  },
  {
   "cell_type": "code",
   "execution_count": 5,
   "id": "cellular-apache",
   "metadata": {},
   "outputs": [],
   "source": [
    "composers = {'Johann': 65, 'Ludwig': 56, 'Frederic': 39, 'Wolfgang': 35}"
   ]
  },
  {
   "cell_type": "code",
   "execution_count": 6,
   "id": "raised-equality",
   "metadata": {},
   "outputs": [
    {
     "name": "stdout",
     "output_type": "stream",
     "text": [
      "{'Wolfgang': 35, 'Frederic': 39, 'Ludwig': 56, 'Johann': 65}\n"
     ]
    }
   ],
   "source": [
    "sorted_composers = sort_on_values(composers)\n",
    "print(sorted_composers)"
   ]
  },
  {
   "cell_type": "code",
   "execution_count": 8,
   "id": "dirty-minimum",
   "metadata": {},
   "outputs": [
    {
     "name": "stdout",
     "output_type": "stream",
     "text": [
      "{'Johann': 65, 'Ludwig': 56, 'Frederic': 39, 'Wolfgang': 35}\n"
     ]
    }
   ],
   "source": [
    "sorted_composers = sort_on_values(composers, descending=True)\n",
    "print(sorted_composers)"
   ]
  },
  {
   "cell_type": "code",
   "execution_count": 25,
   "id": "raising-medline",
   "metadata": {},
   "outputs": [],
   "source": [
    "d1 = {'a': 1, 'b': 2, 'c': 3, 'd': 4}\n",
    "d2 = {'b': 20, 'c': 30, 'y': 40, 'z': 50, 'd': 45}\n",
    "d3 = {'a': 10, 'b': 20, 'c': 30, 'd': 40}"
   ]
  },
  {
   "cell_type": "code",
   "execution_count": 26,
   "id": "classified-antibody",
   "metadata": {},
   "outputs": [],
   "source": [
    "result = {key : (d1[key], d2[key], d3[key]) for key in d1.keys() & d2.keys() &d3.keys()}"
   ]
  },
  {
   "cell_type": "code",
   "execution_count": 27,
   "id": "dominican-maple",
   "metadata": {
    "scrolled": true
   },
   "outputs": [
    {
     "data": {
      "text/plain": [
       "{'d': (4, 45, 40), 'c': (3, 30, 30), 'b': (2, 20, 20)}"
      ]
     },
     "execution_count": 27,
     "metadata": {},
     "output_type": "execute_result"
    }
   ],
   "source": [
    "result"
   ]
  },
  {
   "cell_type": "code",
   "execution_count": 33,
   "id": "labeled-coordinate",
   "metadata": {},
   "outputs": [
    {
     "data": {
      "text/plain": [
       "{'b', 'c', 'd'}"
      ]
     },
     "execution_count": 33,
     "metadata": {},
     "output_type": "execute_result"
    }
   ],
   "source": [
    "k1 = d1.keys()\n",
    "k2 = d2.keys()\n",
    "k1 & k2"
   ]
  },
  {
   "cell_type": "code",
   "execution_count": 42,
   "id": "forward-economy",
   "metadata": {},
   "outputs": [],
   "source": [
    "def get_common_keys(*dicts):\n",
    "    if not dicts:\n",
    "        raise ValueError\n",
    "    d1 = dicts[0]\n",
    "    common_keys = d1.keys()\n",
    "    for d in dicts[1:]:\n",
    "        common_keys = common_keys & d.keys()   \n",
    "    return {key : tuple(map(lambda d : d[key], dicts))  for key in common_keys}"
   ]
  },
  {
   "cell_type": "code",
   "execution_count": 45,
   "id": "solved-conducting",
   "metadata": {},
   "outputs": [
    {
     "data": {
      "text/plain": [
       "{'d': (4, 45, 40), 'c': (3, 30, 30), 'b': (2, 20, 20)}"
      ]
     },
     "execution_count": 45,
     "metadata": {},
     "output_type": "execute_result"
    }
   ],
   "source": [
    "get_common_keys(d1, d2, d3)"
   ]
  },
  {
   "cell_type": "code",
   "execution_count": 46,
   "id": "cellular-chemical",
   "metadata": {},
   "outputs": [],
   "source": [
    "d1 = {'python': 10, 'java': 3, 'c#': 8, 'javascript': 15}\n",
    "d2 = {'java': 10, 'c++': 10, 'c#': 4, 'go': 9, 'python': 6}\n",
    "d3 = {'erlang': 5, 'haskell': 2, 'python': 1, 'pascal': 1}"
   ]
  },
  {
   "cell_type": "code",
   "execution_count": 57,
   "id": "miniature-trace",
   "metadata": {},
   "outputs": [],
   "source": [
    "from itertools import chain"
   ]
  },
  {
   "cell_type": "code",
   "execution_count": 88,
   "id": "present-auckland",
   "metadata": {},
   "outputs": [],
   "source": [
    "def sum_values(*dicts):\n",
    "    if not dicts:\n",
    "        raise ValueError\n",
    "    all_keys = set(chain(*dicts))\n",
    "    final_dict = dict()\n",
    "    for d in dicts:\n",
    "        for key in all_keys:\n",
    "            final_dict[key] = final_dict.get(key, 0) + d.get(key, 0)\n",
    "    return sort_on_values(final_dict, descending=True)"
   ]
  },
  {
   "cell_type": "code",
   "execution_count": 90,
   "id": "mighty-hungary",
   "metadata": {},
   "outputs": [],
   "source": [
    "result = sum_values(d1, d2, d3)"
   ]
  },
  {
   "cell_type": "code",
   "execution_count": 91,
   "id": "persistent-colon",
   "metadata": {},
   "outputs": [],
   "source": [
    "d = {'python': 17,\n",
    "     'javascript': 15,\n",
    "     'java': 13,\n",
    "     'c#': 12,\n",
    "     'c++': 10,\n",
    "     'go': 9,\n",
    "     'erlang': 5,\n",
    "     'haskell': 2,\n",
    "     'pascal': 1}"
   ]
  },
  {
   "cell_type": "code",
   "execution_count": 92,
   "id": "scientific-eugene",
   "metadata": {},
   "outputs": [
    {
     "data": {
      "text/plain": [
       "True"
      ]
     },
     "execution_count": 92,
     "metadata": {},
     "output_type": "execute_result"
    }
   ],
   "source": [
    "result == d"
   ]
  },
  {
   "cell_type": "code",
   "execution_count": 93,
   "id": "reflected-slave",
   "metadata": {},
   "outputs": [
    {
     "data": {
      "text/plain": [
       "False"
      ]
     },
     "execution_count": 93,
     "metadata": {},
     "output_type": "execute_result"
    }
   ],
   "source": [
    "result is d"
   ]
  },
  {
   "cell_type": "code",
   "execution_count": 94,
   "id": "lonely-corporation",
   "metadata": {},
   "outputs": [
    {
     "name": "stdout",
     "output_type": "stream",
     "text": [
      "{'python': 17, 'javascript': 15, 'java': 13, 'c#': 12, 'c++': 10, 'go': 9, 'erlang': 5, 'haskell': 2, 'pascal': 1}\n"
     ]
    }
   ],
   "source": [
    "print(result)"
   ]
  },
  {
   "cell_type": "code",
   "execution_count": 96,
   "id": "vietnamese-version",
   "metadata": {},
   "outputs": [
    {
     "data": {
      "text/plain": [
       "{'javascript': 15, 'python': 10, 'c#': 8, 'java': 3}"
      ]
     },
     "execution_count": 96,
     "metadata": {},
     "output_type": "execute_result"
    }
   ],
   "source": [
    "sum_values(d1)"
   ]
  },
  {
   "cell_type": "code",
   "execution_count": 123,
   "id": "restricted-burton",
   "metadata": {},
   "outputs": [],
   "source": [
    "n1 = {'employees': 100, 'employee': 5000, 'users': 10, 'user': 100}\n",
    "n2 = {'employees': 250, 'users': 23, 'user': 230}\n",
    "n3 = {'employees': 150, 'users': 4, 'login': 1000}"
   ]
  },
  {
   "cell_type": "code",
   "execution_count": 112,
   "id": "adapted-diagnosis",
   "metadata": {},
   "outputs": [],
   "source": [
    "k1 = n1.keys()\n",
    "k2 = n2.keys()\n",
    "k3 = n3.keys()"
   ]
  },
  {
   "cell_type": "code",
   "execution_count": 120,
   "id": "removed-bradley",
   "metadata": {},
   "outputs": [],
   "source": [
    "prev = k1\n",
    "keys = set()\n",
    "for k in (k2, k3):\n",
    "    current = k\n",
    "    all_keys = prev ^ current\n",
    "    keys = all_keys | keys"
   ]
  },
  {
   "cell_type": "code",
   "execution_count": 121,
   "id": "quiet-minority",
   "metadata": {},
   "outputs": [
    {
     "data": {
      "text/plain": [
       "{'employee', 'login', 'user'}"
      ]
     },
     "execution_count": 121,
     "metadata": {},
     "output_type": "execute_result"
    }
   ],
   "source": [
    "keys"
   ]
  },
  {
   "cell_type": "code",
   "execution_count": 113,
   "id": "executive-metabolism",
   "metadata": {},
   "outputs": [
    {
     "data": {
      "text/plain": [
       "{'employee', 'login', 'user'}"
      ]
     },
     "execution_count": 113,
     "metadata": {},
     "output_type": "execute_result"
    }
   ],
   "source": [
    "all_keys = (k1 ^ k2) | (k2 ^ k3)\n",
    "all_keys"
   ]
  },
  {
   "cell_type": "code",
   "execution_count": 125,
   "id": "arranged-flour",
   "metadata": {},
   "outputs": [],
   "source": [
    "def get_not_common(*dicts):\n",
    "    if not dicts:\n",
    "        raise ValueError\n",
    "    d1 = dicts[0]\n",
    "    prev_keys = d1.keys()\n",
    "    not_common_keys = set()\n",
    "    for d in dicts[1:]:\n",
    "        not_common_keys = (prev_keys ^ d.keys()) | not_common_keys\n",
    "    return {key : tuple(map(lambda d : d.get(key, 0), dicts))  for key in not_common_keys}"
   ]
  },
  {
   "cell_type": "code",
   "execution_count": 133,
   "id": "thirty-diesel",
   "metadata": {},
   "outputs": [],
   "source": [
    "n1 = {'employees': 100, 'employee': 5000, 'users': 10, 'user': 100}\n",
    "n2 = {'employees': 250, 'users': 23, 'user': 230}\n",
    "n3 = {'employees': 150, 'users': 4, 'login': 1000}\n",
    "n4 = {}"
   ]
  },
  {
   "cell_type": "code",
   "execution_count": 134,
   "id": "caroline-brother",
   "metadata": {},
   "outputs": [
    {
     "data": {
      "text/plain": [
       "{'user': (100, 230, 0, 0),\n",
       " 'employee': (5000, 0, 0, 0),\n",
       " 'login': (0, 0, 1000, 0),\n",
       " 'users': (10, 23, 4, 0),\n",
       " 'employees': (100, 250, 150, 0)}"
      ]
     },
     "execution_count": 134,
     "metadata": {},
     "output_type": "execute_result"
    }
   ],
   "source": [
    "get_not_common(n1, n2, n3, n4)"
   ]
  },
  {
   "cell_type": "code",
   "execution_count": 135,
   "id": "british-pursuit",
   "metadata": {},
   "outputs": [],
   "source": [
    "def sort_on_values(dictionary, *, descending=False):\n",
    "    return dict(sorted(dictionary.items(), key=lambda item : item[1], reverse=descending))\n",
    "\n",
    "def get_common_keys(*dicts):\n",
    "    if not dicts:\n",
    "        raise ValueError\n",
    "    d1 = dicts[0]\n",
    "    common_keys = d1.keys()\n",
    "    for d in dicts[1:]:\n",
    "        common_keys = common_keys & d.keys()   \n",
    "    return {key : tuple(map(lambda d : d[key], dicts))  for key in common_keys}\n",
    "\n",
    "def sum_values(*dicts):\n",
    "    if not dicts:\n",
    "        raise ValueError\n",
    "    all_keys = set(chain(*dicts))\n",
    "    final_dict = dict()\n",
    "    for d in dicts:\n",
    "        for key in all_keys:\n",
    "            final_dict[key] = final_dict.get(key, 0) + d.get(key, 0)\n",
    "    return sort_on_values(final_dict, descending=True)\n",
    "\n",
    "def get_uncommon_keys(*dicts):\n",
    "    if not dicts:\n",
    "        raise ValueError\n",
    "    d1 = dicts[0]\n",
    "    prev_keys = d1.keys()\n",
    "    not_common_keys = set()\n",
    "    for d in dicts[1:]:\n",
    "        not_common_keys = (prev_keys ^ d.keys()) | not_common_keys\n",
    "    return {key : tuple(map(lambda d : d.get(key, 0), dicts))  for key in not_common_keys}"
   ]
  },
  {
   "cell_type": "code",
   "execution_count": null,
   "id": "cleared-personal",
   "metadata": {},
   "outputs": [],
   "source": []
  }
 ],
 "metadata": {
  "kernelspec": {
   "display_name": "Python 3",
   "language": "python",
   "name": "python3"
  },
  "language_info": {
   "codemirror_mode": {
    "name": "ipython",
    "version": 3
   },
   "file_extension": ".py",
   "mimetype": "text/x-python",
   "name": "python",
   "nbconvert_exporter": "python",
   "pygments_lexer": "ipython3",
   "version": "3.9.1"
  }
 },
 "nbformat": 4,
 "nbformat_minor": 5
}
