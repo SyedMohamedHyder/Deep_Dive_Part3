{
 "cells": [
  {
   "cell_type": "code",
   "execution_count": 1,
   "id": "disturbed-tooth",
   "metadata": {},
   "outputs": [],
   "source": [
    "import json\n",
    "from collections import ChainMap"
   ]
  },
  {
   "cell_type": "code",
   "execution_count": 2,
   "id": "satellite-grave",
   "metadata": {},
   "outputs": [],
   "source": [
    "def convert_json_to_dict(filename):\n",
    "    with open(filename, 'r') as file:\n",
    "        return json.load(file)"
   ]
  },
  {
   "cell_type": "code",
   "execution_count": 6,
   "id": "athletic-talent",
   "metadata": {},
   "outputs": [],
   "source": [
    "json_files = ('common.json', 'dev.json', 'prod.json')\n",
    "common, dev, prod = map(convert_json_to_dict, json_files)"
   ]
  },
  {
   "cell_type": "code",
   "execution_count": 27,
   "id": "equivalent-finish",
   "metadata": {
    "scrolled": true
   },
   "outputs": [
    {
     "data": {
      "text/plain": [
       "{'data': {'input_root': '/default/path/inputs',\n",
       "  'output_root': '/default/path/outputs',\n",
       "  'numerics': {'type': 'Decimal', 'precision': 6}},\n",
       " 'database': {'db_name': 'deepdive', 'schema': 'public', 'port': 5432},\n",
       " 'logs': {'level': 'info',\n",
       "  'format': '%(asctime)s: %(levelname)s: %(clientip)s %(user)s %(message)s'}}"
      ]
     },
     "execution_count": 27,
     "metadata": {},
     "output_type": "execute_result"
    }
   ],
   "source": [
    "common"
   ]
  },
  {
   "cell_type": "code",
   "execution_count": 28,
   "id": "surgical-albania",
   "metadata": {},
   "outputs": [
    {
     "data": {
      "text/plain": [
       "{'data': {'input_root': '$DATA_INPUT_PATH',\n",
       "  'output_root': '$DATA_OUTPUT_PATH'},\n",
       " 'database': {'user': '$PG_USER', 'pwd': '$PG_PWD'}}"
      ]
     },
     "execution_count": 28,
     "metadata": {},
     "output_type": "execute_result"
    }
   ],
   "source": [
    "prod"
   ]
  },
  {
   "cell_type": "code",
   "execution_count": null,
   "id": "plain-obligation",
   "metadata": {},
   "outputs": [],
   "source": []
  }
 ],
 "metadata": {
  "kernelspec": {
   "display_name": "Python 3",
   "language": "python",
   "name": "python3"
  },
  "language_info": {
   "codemirror_mode": {
    "name": "ipython",
    "version": 3
   },
   "file_extension": ".py",
   "mimetype": "text/x-python",
   "name": "python",
   "nbconvert_exporter": "python",
   "pygments_lexer": "ipython3",
   "version": "3.9.1"
  }
 },
 "nbformat": 4,
 "nbformat_minor": 5
}
