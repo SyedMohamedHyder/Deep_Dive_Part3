{
 "cells": [
  {
   "cell_type": "code",
   "execution_count": 1,
   "id": "disturbed-tooth",
   "metadata": {},
   "outputs": [],
   "source": [
    "import json\n",
    "from collections import ChainMap"
   ]
  },
  {
   "cell_type": "code",
   "execution_count": 2,
   "id": "satellite-grave",
   "metadata": {},
   "outputs": [],
   "source": [
    "def convert_json_to_dict(filename):\n",
    "    with open(filename, 'r') as file:\n",
    "        return json.load(file)"
   ]
  },
  {
   "cell_type": "code",
   "execution_count": 3,
   "id": "athletic-talent",
   "metadata": {},
   "outputs": [],
   "source": [
    "json_files = ('common.json', 'dev.json', 'prod.json')\n",
    "common, dev, prod = map(convert_json_to_dict, json_files)"
   ]
  },
  {
   "cell_type": "code",
   "execution_count": 4,
   "id": "equivalent-finish",
   "metadata": {
    "scrolled": true
   },
   "outputs": [
    {
     "data": {
      "text/plain": [
       "{'data': {'input_root': '/default/path/inputs',\n",
       "  'output_root': '/default/path/outputs',\n",
       "  'numerics': {'type': 'Decimal', 'precision': 6}},\n",
       " 'database': {'db_name': 'deepdive', 'schema': 'public', 'port': 5432},\n",
       " 'logs': {'level': 'info',\n",
       "  'format': '%(asctime)s: %(levelname)s: %(clientip)s %(user)s %(message)s'}}"
      ]
     },
     "execution_count": 4,
     "metadata": {},
     "output_type": "execute_result"
    }
   ],
   "source": [
    "common"
   ]
  },
  {
   "cell_type": "code",
   "execution_count": 5,
   "id": "surgical-albania",
   "metadata": {},
   "outputs": [
    {
     "data": {
      "text/plain": [
       "{'data': {'input_root': '$DATA_INPUT_PATH',\n",
       "  'output_root': '$DATA_OUTPUT_PATH'},\n",
       " 'database': {'user': '$PG_USER', 'pwd': '$PG_PWD'}}"
      ]
     },
     "execution_count": 5,
     "metadata": {},
     "output_type": "execute_result"
    }
   ],
   "source": [
    "prod"
   ]
  },
  {
   "cell_type": "code",
   "execution_count": 49,
   "id": "genetic-barrier",
   "metadata": {},
   "outputs": [],
   "source": [
    "def apply_envi_settings(env, common=common):\n",
    "    for key, value in common.items():\n",
    "        if isinstance(value, dict):\n",
    "            env[key] = apply_envi_settings(env.get(key, dict()), value)\n",
    "    return ChainMap(env, common)"
   ]
  },
  {
   "cell_type": "markdown",
   "id": "timely-lloyd",
   "metadata": {},
   "source": [
    "####  Solution"
   ]
  },
  {
   "cell_type": "code",
   "execution_count": 50,
   "id": "durable-lyric",
   "metadata": {},
   "outputs": [],
   "source": [
    "def create_env_config(env_file):\n",
    "    env = convert_json_to_dict(f'{env_file}.json')\n",
    "    common = convert_json_to_dict('common.json')\n",
    "    return apply_envi_settings(env, common).maps[0]"
   ]
  },
  {
   "cell_type": "code",
   "execution_count": 51,
   "id": "digital-passenger",
   "metadata": {},
   "outputs": [],
   "source": [
    "prod_env = create_env_config('prod')"
   ]
  },
  {
   "cell_type": "code",
   "execution_count": 52,
   "id": "rubber-eclipse",
   "metadata": {},
   "outputs": [
    {
     "data": {
      "text/plain": [
       "{'data': ChainMap({'input_root': '$DATA_INPUT_PATH', 'output_root': '$DATA_OUTPUT_PATH', 'numerics': ChainMap({}, {'type': 'Decimal', 'precision': 6})}, {'input_root': '/default/path/inputs', 'output_root': '/default/path/outputs', 'numerics': {'type': 'Decimal', 'precision': 6}}),\n",
       " 'database': ChainMap({'user': '$PG_USER', 'pwd': '$PG_PWD'}, {'db_name': 'deepdive', 'schema': 'public', 'port': 5432}),\n",
       " 'logs': ChainMap({}, {'level': 'info', 'format': '%(asctime)s: %(levelname)s: %(clientip)s %(user)s %(message)s'})}"
      ]
     },
     "execution_count": 52,
     "metadata": {},
     "output_type": "execute_result"
    }
   ],
   "source": [
    "prod_env"
   ]
  },
  {
   "cell_type": "code",
   "execution_count": 53,
   "id": "adjacent-attribute",
   "metadata": {},
   "outputs": [
    {
     "data": {
      "text/plain": [
       "ChainMap({'input_root': '$DATA_INPUT_PATH', 'output_root': '$DATA_OUTPUT_PATH', 'numerics': ChainMap({}, {'type': 'Decimal', 'precision': 6})}, {'input_root': '/default/path/inputs', 'output_root': '/default/path/outputs', 'numerics': {'type': 'Decimal', 'precision': 6}})"
      ]
     },
     "execution_count": 53,
     "metadata": {},
     "output_type": "execute_result"
    }
   ],
   "source": [
    "prod_env['data']"
   ]
  },
  {
   "cell_type": "code",
   "execution_count": 54,
   "id": "forty-luxembourg",
   "metadata": {},
   "outputs": [
    {
     "data": {
      "text/plain": [
       "'Decimal'"
      ]
     },
     "execution_count": 54,
     "metadata": {},
     "output_type": "execute_result"
    }
   ],
   "source": [
    "prod_env['data']['numerics']['type']"
   ]
  },
  {
   "cell_type": "code",
   "execution_count": 55,
   "id": "neither-purpose",
   "metadata": {},
   "outputs": [
    {
     "data": {
      "text/plain": [
       "5432"
      ]
     },
     "execution_count": 55,
     "metadata": {},
     "output_type": "execute_result"
    }
   ],
   "source": [
    "prod_env['database']['port']"
   ]
  },
  {
   "cell_type": "code",
   "execution_count": 56,
   "id": "understanding-vocabulary",
   "metadata": {},
   "outputs": [
    {
     "data": {
      "text/plain": [
       "'public'"
      ]
     },
     "execution_count": 56,
     "metadata": {},
     "output_type": "execute_result"
    }
   ],
   "source": [
    "prod_env['database']['schema']"
   ]
  },
  {
   "cell_type": "code",
   "execution_count": 57,
   "id": "whole-howard",
   "metadata": {},
   "outputs": [
    {
     "data": {
      "text/plain": [
       "'$PG_PWD'"
      ]
     },
     "execution_count": 57,
     "metadata": {},
     "output_type": "execute_result"
    }
   ],
   "source": [
    "prod_env['database']['pwd']"
   ]
  },
  {
   "cell_type": "code",
   "execution_count": 58,
   "id": "abroad-eating",
   "metadata": {},
   "outputs": [
    {
     "data": {
      "text/plain": [
       "'%(asctime)s: %(levelname)s: %(clientip)s %(user)s %(message)s'"
      ]
     },
     "execution_count": 58,
     "metadata": {},
     "output_type": "execute_result"
    }
   ],
   "source": [
    "prod_env['logs']['format']"
   ]
  },
  {
   "cell_type": "code",
   "execution_count": 59,
   "id": "civilian-payment",
   "metadata": {},
   "outputs": [],
   "source": [
    "dev_env = create_env_config('dev')"
   ]
  },
  {
   "cell_type": "code",
   "execution_count": 60,
   "id": "recreational-fabric",
   "metadata": {},
   "outputs": [
    {
     "data": {
      "text/plain": [
       "'float'"
      ]
     },
     "execution_count": 60,
     "metadata": {},
     "output_type": "execute_result"
    }
   ],
   "source": [
    "dev_env['data']['numerics']['type']"
   ]
  },
  {
   "cell_type": "code",
   "execution_count": 61,
   "id": "integral-healthcare",
   "metadata": {},
   "outputs": [
    {
     "data": {
      "text/plain": [
       "6"
      ]
     },
     "execution_count": 61,
     "metadata": {},
     "output_type": "execute_result"
    }
   ],
   "source": [
    "dev_env['data']['numerics']['precision']"
   ]
  },
  {
   "cell_type": "code",
   "execution_count": 62,
   "id": "otherwise-title",
   "metadata": {},
   "outputs": [
    {
     "data": {
      "text/plain": [
       "'__add__'"
      ]
     },
     "execution_count": 62,
     "metadata": {},
     "output_type": "execute_result"
    }
   ],
   "source": [
    "dev_env['data']['operators']['add']"
   ]
  },
  {
   "cell_type": "code",
   "execution_count": 63,
   "id": "demographic-equilibrium",
   "metadata": {},
   "outputs": [
    {
     "data": {
      "text/plain": [
       "'trace'"
      ]
     },
     "execution_count": 63,
     "metadata": {},
     "output_type": "execute_result"
    }
   ],
   "source": [
    "dev_env['logs']['level']"
   ]
  },
  {
   "cell_type": "code",
   "execution_count": null,
   "id": "hourly-moses",
   "metadata": {},
   "outputs": [],
   "source": []
  },
  {
   "cell_type": "code",
   "execution_count": null,
   "id": "threatened-prompt",
   "metadata": {},
   "outputs": [],
   "source": []
  }
 ],
 "metadata": {
  "kernelspec": {
   "display_name": "Python 3",
   "language": "python",
   "name": "python3"
  },
  "language_info": {
   "codemirror_mode": {
    "name": "ipython",
    "version": 3
   },
   "file_extension": ".py",
   "mimetype": "text/x-python",
   "name": "python",
   "nbconvert_exporter": "python",
   "pygments_lexer": "ipython3",
   "version": "3.9.1"
  }
 },
 "nbformat": 4,
 "nbformat_minor": 5
}
