{
 "cells": [
  {
   "cell_type": "code",
   "execution_count": 1,
   "id": "exact-report",
   "metadata": {},
   "outputs": [],
   "source": [
    "from collections import Counter\n",
    "from random import seed, choices"
   ]
  },
  {
   "cell_type": "code",
   "execution_count": 2,
   "id": "potential-career",
   "metadata": {},
   "outputs": [],
   "source": [
    "class Person:\n",
    "    def __init__(self, eyecolor):\n",
    "        self.eyecolor = eyecolor"
   ]
  },
  {
   "cell_type": "code",
   "execution_count": 3,
   "id": "willing-accuracy",
   "metadata": {},
   "outputs": [],
   "source": [
    "eyecolors = (\"amber\", \"blue\", \"brown\", \"gray\", \"green\", \"hazel\", \"red\", \"violet\")"
   ]
  },
  {
   "cell_type": "code",
   "execution_count": 39,
   "id": "prescribed-chester",
   "metadata": {},
   "outputs": [],
   "source": [
    "seed(1)\n",
    "persons = [Person(eyecolor) for eyecolor in choices(eyecolors[2:], k=50)]"
   ]
  },
  {
   "cell_type": "code",
   "execution_count": 5,
   "id": "comprehensive-spending",
   "metadata": {
    "scrolled": true
   },
   "outputs": [
    {
     "data": {
      "text/plain": [
       "50"
      ]
     },
     "execution_count": 5,
     "metadata": {},
     "output_type": "execute_result"
    }
   ],
   "source": [
    "len(persons)"
   ]
  },
  {
   "cell_type": "code",
   "execution_count": 30,
   "id": "orange-creek",
   "metadata": {},
   "outputs": [],
   "source": [
    "def count_eyecolors(eyecolors, persons):\n",
    "    c = Counter({eyecolor: 0 for eyecolor in eyecolors})\n",
    "    c.update(person.eyecolor for person in persons)\n",
    "    return c"
   ]
  },
  {
   "cell_type": "code",
   "execution_count": 31,
   "id": "nasty-reality",
   "metadata": {},
   "outputs": [],
   "source": [
    "c = count_eyecolors(eyecolors, persons)"
   ]
  },
  {
   "cell_type": "code",
   "execution_count": 32,
   "id": "unknown-reverse",
   "metadata": {},
   "outputs": [
    {
     "data": {
      "text/plain": [
       "Counter({'amber': 0,\n",
       "         'blue': 0,\n",
       "         'brown': 3,\n",
       "         'gray': 10,\n",
       "         'green': 8,\n",
       "         'hazel': 7,\n",
       "         'red': 10,\n",
       "         'violet': 12})"
      ]
     },
     "execution_count": 32,
     "metadata": {},
     "output_type": "execute_result"
    }
   ],
   "source": [
    "c"
   ]
  },
  {
   "cell_type": "code",
   "execution_count": 37,
   "id": "laughing-release",
   "metadata": {},
   "outputs": [],
   "source": [
    "def count_eyecolors_dict(eyecolors, persons):\n",
    "    eyecolor_counts = dict((eyecolor, 0) for eyecolor in eyecolors)\n",
    "    for person in persons:\n",
    "        eyecolor_counts[person.eyecolor] += 1\n",
    "    return eyecolor_counts"
   ]
  },
  {
   "cell_type": "code",
   "execution_count": 41,
   "id": "taken-instrumentation",
   "metadata": {},
   "outputs": [
    {
     "data": {
      "text/plain": [
       "{'amber': 0,\n",
       " 'blue': 0,\n",
       " 'brown': 9,\n",
       " 'gray': 10,\n",
       " 'green': 10,\n",
       " 'hazel': 4,\n",
       " 'red': 8,\n",
       " 'violet': 9}"
      ]
     },
     "execution_count": 41,
     "metadata": {},
     "output_type": "execute_result"
    }
   ],
   "source": [
    "count_eyecolors_dict(eyecolors, persons)"
   ]
  },
  {
   "cell_type": "code",
   "execution_count": null,
   "id": "white-equality",
   "metadata": {},
   "outputs": [],
   "source": []
  }
 ],
 "metadata": {
  "kernelspec": {
   "display_name": "Python 3",
   "language": "python",
   "name": "python3"
  },
  "language_info": {
   "codemirror_mode": {
    "name": "ipython",
    "version": 3
   },
   "file_extension": ".py",
   "mimetype": "text/x-python",
   "name": "python",
   "nbconvert_exporter": "python",
   "pygments_lexer": "ipython3",
   "version": "3.9.1"
  }
 },
 "nbformat": 4,
 "nbformat_minor": 5
}
