{
 "cells": [
  {
   "cell_type": "code",
   "execution_count": 1,
   "id": "strange-success",
   "metadata": {},
   "outputs": [],
   "source": [
    "from collections import defaultdict, Counter"
   ]
  },
  {
   "cell_type": "code",
   "execution_count": 2,
   "id": "identical-swiss",
   "metadata": {},
   "outputs": [],
   "source": [
    "d1 = {'python': 10, 'java': 3, 'c#': 8, 'javascript': 15}\n",
    "d2 = {'java': 10, 'c++': 10, 'c#': 4, 'go': 9, 'python': 6}\n",
    "d3 = {'erlang': 5, 'haskell': 2, 'python': 1, 'pascal': 1}"
   ]
  },
  {
   "cell_type": "markdown",
   "id": "northern-redhead",
   "metadata": {},
   "source": [
    "####  Already Used Aproach"
   ]
  },
  {
   "cell_type": "code",
   "execution_count": 13,
   "id": "quality-progressive",
   "metadata": {},
   "outputs": [],
   "source": [
    "def merge(*dicts):\n",
    "    result = dict()\n",
    "    for d in dicts:\n",
    "        for k, v in d.items():\n",
    "            result[k] = result.get(k, 0) + v\n",
    "    return result"
   ]
  },
  {
   "cell_type": "code",
   "execution_count": 14,
   "id": "thousand-arrival",
   "metadata": {},
   "outputs": [
    {
     "data": {
      "text/plain": [
       "{'python': 17,\n",
       " 'java': 13,\n",
       " 'c#': 12,\n",
       " 'javascript': 15,\n",
       " 'c++': 10,\n",
       " 'go': 9,\n",
       " 'erlang': 5,\n",
       " 'haskell': 2,\n",
       " 'pascal': 1}"
      ]
     },
     "execution_count": 14,
     "metadata": {},
     "output_type": "execute_result"
    }
   ],
   "source": [
    "merge(d1, d2, d3)"
   ]
  },
  {
   "cell_type": "code",
   "execution_count": 15,
   "id": "superb-reverse",
   "metadata": {},
   "outputs": [
    {
     "data": {
      "text/plain": [
       "{}"
      ]
     },
     "execution_count": 15,
     "metadata": {},
     "output_type": "execute_result"
    }
   ],
   "source": [
    "merge()"
   ]
  },
  {
   "cell_type": "code",
   "execution_count": 16,
   "id": "boring-advance",
   "metadata": {},
   "outputs": [
    {
     "data": {
      "text/plain": [
       "True"
      ]
     },
     "execution_count": 16,
     "metadata": {},
     "output_type": "execute_result"
    }
   ],
   "source": [
    "merge(d1) == d1"
   ]
  },
  {
   "cell_type": "code",
   "execution_count": 17,
   "id": "tutorial-problem",
   "metadata": {},
   "outputs": [
    {
     "data": {
      "text/plain": [
       "{'python': 16, 'java': 13, 'c#': 12, 'javascript': 15, 'c++': 10, 'go': 9}"
      ]
     },
     "execution_count": 17,
     "metadata": {},
     "output_type": "execute_result"
    }
   ],
   "source": [
    "merge(d1, d2)"
   ]
  },
  {
   "cell_type": "markdown",
   "id": "adjusted-annex",
   "metadata": {},
   "source": [
    "####  Using default dict"
   ]
  },
  {
   "cell_type": "code",
   "execution_count": 18,
   "id": "indonesian-warrant",
   "metadata": {},
   "outputs": [],
   "source": [
    "def merge(*dicts):\n",
    "    merged_dict = defaultdict(int)\n",
    "    for d in dicts:\n",
    "        for k, v in d.items():\n",
    "            merged_dict[k] += v\n",
    "    return merged_dict"
   ]
  },
  {
   "cell_type": "code",
   "execution_count": 19,
   "id": "cross-preference",
   "metadata": {},
   "outputs": [
    {
     "data": {
      "text/plain": [
       "defaultdict(int,\n",
       "            {'python': 16,\n",
       "             'java': 13,\n",
       "             'c#': 12,\n",
       "             'javascript': 15,\n",
       "             'c++': 10,\n",
       "             'go': 9})"
      ]
     },
     "execution_count": 19,
     "metadata": {},
     "output_type": "execute_result"
    }
   ],
   "source": [
    "merge(d1, d2)"
   ]
  },
  {
   "cell_type": "code",
   "execution_count": 20,
   "id": "beneficial-alcohol",
   "metadata": {},
   "outputs": [
    {
     "data": {
      "text/plain": [
       "defaultdict(int,\n",
       "            {'python': 17,\n",
       "             'java': 13,\n",
       "             'c#': 12,\n",
       "             'javascript': 15,\n",
       "             'c++': 10,\n",
       "             'go': 9,\n",
       "             'erlang': 5,\n",
       "             'haskell': 2,\n",
       "             'pascal': 1})"
      ]
     },
     "execution_count": 20,
     "metadata": {},
     "output_type": "execute_result"
    }
   ],
   "source": [
    "merge(d1, d2, d3)"
   ]
  },
  {
   "cell_type": "markdown",
   "id": "initial-adaptation",
   "metadata": {},
   "source": [
    "####   Using Counter"
   ]
  },
  {
   "cell_type": "code",
   "execution_count": 21,
   "id": "inside-check",
   "metadata": {},
   "outputs": [],
   "source": [
    "from itertools import chain"
   ]
  },
  {
   "cell_type": "code",
   "execution_count": 22,
   "id": "motivated-management",
   "metadata": {},
   "outputs": [
    {
     "data": {
      "text/plain": [
       "[('python', 10),\n",
       " ('java', 3),\n",
       " ('c#', 8),\n",
       " ('javascript', 15),\n",
       " ('java', 10),\n",
       " ('c++', 10),\n",
       " ('c#', 4),\n",
       " ('go', 9),\n",
       " ('python', 6)]"
      ]
     },
     "execution_count": 22,
     "metadata": {},
     "output_type": "execute_result"
    }
   ],
   "source": [
    "list(chain(d1.items(), d2.items()))"
   ]
  },
  {
   "cell_type": "code",
   "execution_count": 23,
   "id": "failing-company",
   "metadata": {},
   "outputs": [
    {
     "data": {
      "text/plain": [
       "Counter({('python', 10): 1,\n",
       "         ('java', 3): 1,\n",
       "         ('c#', 8): 1,\n",
       "         ('javascript', 15): 1,\n",
       "         ('java', 10): 1,\n",
       "         ('c++', 10): 1,\n",
       "         ('c#', 4): 1,\n",
       "         ('go', 9): 1,\n",
       "         ('python', 6): 1})"
      ]
     },
     "execution_count": 23,
     "metadata": {},
     "output_type": "execute_result"
    }
   ],
   "source": [
    "Counter(list(chain(d1.items(), d2.items())))"
   ]
  },
  {
   "cell_type": "code",
   "execution_count": 24,
   "id": "mysterious-cradle",
   "metadata": {},
   "outputs": [],
   "source": [
    "def merge(*dicts):\n",
    "    counts = Counter()\n",
    "    for d in dicts:\n",
    "        counts.update(d)\n",
    "    return counts"
   ]
  },
  {
   "cell_type": "code",
   "execution_count": 26,
   "id": "fatty-result",
   "metadata": {},
   "outputs": [
    {
     "data": {
      "text/plain": [
       "[('python', 17), ('javascript', 15), ('java', 13), ('c#', 12), ('c++', 10)]"
      ]
     },
     "execution_count": 26,
     "metadata": {},
     "output_type": "execute_result"
    }
   ],
   "source": [
    "merge(d1, d2, d3).most_common(5)"
   ]
  },
  {
   "cell_type": "code",
   "execution_count": null,
   "id": "brave-blond",
   "metadata": {},
   "outputs": [],
   "source": []
  }
 ],
 "metadata": {
  "kernelspec": {
   "display_name": "Python 3",
   "language": "python",
   "name": "python3"
  },
  "language_info": {
   "codemirror_mode": {
    "name": "ipython",
    "version": 3
   },
   "file_extension": ".py",
   "mimetype": "text/x-python",
   "name": "python",
   "nbconvert_exporter": "python",
   "pygments_lexer": "ipython3",
   "version": "3.9.1"
  }
 },
 "nbformat": 4,
 "nbformat_minor": 5
}
